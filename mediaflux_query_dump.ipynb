{
 "cells": [
  {
   "cell_type": "markdown",
   "metadata": {
    "toc": true
   },
   "source": [
    "<h1>Table of Contents<span class=\"tocSkip\"></span></h1>\n",
    "<div class=\"toc\"><ul class=\"toc-item\"><li><span><a href=\"#Mediaflux-query-dump\" data-toc-modified-id=\"Mediaflux-query-dump-1\"><span class=\"toc-item-num\">1&nbsp;&nbsp;</span>Mediaflux query dump</a></span></li><li><span><a href=\"#Connect-to-MF-server\" data-toc-modified-id=\"Connect-to-MF-server-2\"><span class=\"toc-item-num\">2&nbsp;&nbsp;</span>Connect to MF server</a></span></li><li><span><a href=\"#Find-assets-in-Mediaflux\" data-toc-modified-id=\"Find-assets-in-Mediaflux-3\"><span class=\"toc-item-num\">3&nbsp;&nbsp;</span>Find assets in Mediaflux</a></span></li><li><span><a href=\"#For-each-asset,-get-metadata\" data-toc-modified-id=\"For-each-asset,-get-metadata-4\"><span class=\"toc-item-num\">4&nbsp;&nbsp;</span>For each asset, get metadata</a></span><ul class=\"toc-item\"><li><span><a href=\"#Data\" data-toc-modified-id=\"Data-4.1\"><span class=\"toc-item-num\">4.1&nbsp;&nbsp;</span>Data</a></span></li><li><span><a href=\"#Libraries\" data-toc-modified-id=\"Libraries-4.2\"><span class=\"toc-item-num\">4.2&nbsp;&nbsp;</span>Libraries</a></span></li><li><span><a href=\"#Individuals\" data-toc-modified-id=\"Individuals-4.3\"><span class=\"toc-item-num\">4.3&nbsp;&nbsp;</span>Individuals</a></span></li></ul></li><li><span><a href=\"#Get-library-archive-size-from-data-dataframe\" data-toc-modified-id=\"Get-library-archive-size-from-data-dataframe-5\"><span class=\"toc-item-num\">5&nbsp;&nbsp;</span>Get library archive size from data dataframe</a></span></li><li><span><a href=\"#Output-to-file\" data-toc-modified-id=\"Output-to-file-6\"><span class=\"toc-item-num\">6&nbsp;&nbsp;</span>Output to file</a></span><ul class=\"toc-item\"><li><span><a href=\"#Save-to-tsv\" data-toc-modified-id=\"Save-to-tsv-6.1\"><span class=\"toc-item-num\">6.1&nbsp;&nbsp;</span>Save to tsv</a></span></li><li><span><a href=\"#Save-to-xlsx\" data-toc-modified-id=\"Save-to-xlsx-6.2\"><span class=\"toc-item-num\">6.2&nbsp;&nbsp;</span>Save to xlsx</a></span></li></ul></li><li><span><a href=\"#Save-query-cache\" data-toc-modified-id=\"Save-query-cache-7\"><span class=\"toc-item-num\">7&nbsp;&nbsp;</span>Save query cache</a></span></li><li><span><a href=\"#Close-connection-to-Mediaflux\" data-toc-modified-id=\"Close-connection-to-Mediaflux-8\"><span class=\"toc-item-num\">8&nbsp;&nbsp;</span>Close connection to Mediaflux</a></span></li></ul></div>"
   ]
  },
  {
   "cell_type": "code",
   "execution_count": 1,
   "metadata": {
    "ExecuteTime": {
     "end_time": "2018-05-30T01:21:44.290984Z",
     "start_time": "2018-05-30T01:21:44.286882Z"
    },
    "collapsed": true
   },
   "outputs": [],
   "source": [
    "date = \"2018-05-30\"\n",
    "load_cache = True"
   ]
  },
  {
   "cell_type": "markdown",
   "metadata": {},
   "source": [
    "-----\n",
    "\n",
    "# Mediaflux query dump\n",
    "\n",
    "Get all assets in the `proj-hoffmann_data-1128.4.49` project. Extract all metadata into dataframes and output to files.\n"
   ]
  },
  {
   "cell_type": "code",
   "execution_count": 2,
   "metadata": {
    "ExecuteTime": {
     "end_time": "2018-05-30T01:21:45.412288Z",
     "start_time": "2018-05-30T01:21:45.118338Z"
    },
    "collapsed": true
   },
   "outputs": [],
   "source": [
    "import sys\n",
    "import logging\n",
    "from Crypto.Cipher import AES\n",
    "import pandas as pd\n",
    "import random\n",
    "import re\n",
    "import os\n",
    "import datetime\n",
    "import time\n",
    "import collections\n",
    "import pickle"
   ]
  },
  {
   "cell_type": "code",
   "execution_count": 3,
   "metadata": {
    "ExecuteTime": {
     "end_time": "2018-05-30T01:21:45.488082Z",
     "start_time": "2018-05-30T01:21:45.480192Z"
    },
    "collapsed": true
   },
   "outputs": [],
   "source": [
    "sys.path.insert(0, 'python-mfclient/src')\n",
    "import mfclient"
   ]
  },
  {
   "cell_type": "code",
   "execution_count": 4,
   "metadata": {
    "ExecuteTime": {
     "end_time": "2018-05-30T01:21:46.023972Z",
     "start_time": "2018-05-30T01:21:46.017900Z"
    },
    "collapsed": true
   },
   "outputs": [],
   "source": [
    "# Set up logging\n",
    "logging.basicConfig(\n",
    "    filename=\"mf_{}.log\".format(date),\n",
    "    level=logging.DEBUG,\n",
    "    filemode=\"a\",\n",
    "    format='%(asctime)s %(levelname)s - %(message)s',\n",
    "    datefmt='%m-%d-%Y %H:%M:%S')"
   ]
  },
  {
   "cell_type": "code",
   "execution_count": 5,
   "metadata": {
    "ExecuteTime": {
     "end_time": "2018-05-30T01:21:48.163010Z",
     "start_time": "2018-05-30T01:21:46.535434Z"
    },
    "collapsed": false
   },
   "outputs": [],
   "source": [
    "# Save all Mediaflux get queries in cache\n",
    "cache_filename = \"cache_{}.pkl\".format(date)\n",
    "if load_cache and os.path.exists(cache_filename):\n",
    "    logging.info(\"Loading query cache from file: {}\".format(cache_filename))\n",
    "    query_cache = pickle.load(open(cache_filename, \"rb\"))\n",
    "else:\n",
    "    query_cache = {}"
   ]
  },
  {
   "cell_type": "code",
   "execution_count": 6,
   "metadata": {
    "ExecuteTime": {
     "end_time": "2018-05-30T01:21:49.108672Z",
     "start_time": "2018-05-30T01:21:49.100858Z"
    },
    "collapsed": true
   },
   "outputs": [],
   "source": [
    "def get_asset(asset_id):\n",
    "    if asset_id in query_cache:\n",
    "        logging.info(\"Retrieving {} from cache\".format(asset_id))\n",
    "        return query_cache[asset_id]\n",
    "    logging.info(\"Getting asset info for {}.\".format(asset_id))\n",
    "    args = mfclient.XmlStringWriter(\"args\")\n",
    "    args.add(\"id\", asset_id)\n",
    "    query = con.execute(\"asset.get\", args.doc_text())\n",
    "    query_cache[asset_id] = query\n",
    "    return query"
   ]
  },
  {
   "cell_type": "markdown",
   "metadata": {},
   "source": [
    "-----\n",
    "\n",
    "# Connect to MF server"
   ]
  },
  {
   "cell_type": "code",
   "execution_count": 7,
   "metadata": {
    "ExecuteTime": {
     "end_time": "2018-05-30T01:21:51.582902Z",
     "start_time": "2018-05-30T01:21:51.576020Z"
    },
    "collapsed": true
   },
   "outputs": [],
   "source": [
    "with open(\"keys/key\") as f:\n",
    "    key = f.read().strip()\n",
    "with open(\"keys/iv\") as f:\n",
    "    iv = f.read().strip()\n",
    "obj = AES.new(key, AES.MODE_CFB, iv)"
   ]
  },
  {
   "cell_type": "code",
   "execution_count": 8,
   "metadata": {
    "ExecuteTime": {
     "end_time": "2018-05-30T01:21:52.076244Z",
     "start_time": "2018-05-30T01:21:52.070085Z"
    },
    "collapsed": false
   },
   "outputs": [],
   "source": [
    "with open(\"/Users/jess/.ssh/encrypted_pw.txt\") as f:\n",
    "    pw = f.read().strip()"
   ]
  },
  {
   "cell_type": "code",
   "execution_count": 9,
   "metadata": {
    "ExecuteTime": {
     "end_time": "2018-05-30T01:21:52.529769Z",
     "start_time": "2018-05-30T01:21:52.521809Z"
    },
    "collapsed": true
   },
   "outputs": [],
   "source": [
    "MF_HOST = \"mediaflux.vicnode.org.au\"\n",
    "MF_PORT = 443\n",
    "MF_TRANSPORT = \"https\"\n",
    "MF_DOMAIN = \"aaf\"\n",
    "MF_USER = \"unimelb:jessicac\"\n",
    "MF_PASSWORD = obj.decrypt(pw)"
   ]
  },
  {
   "cell_type": "code",
   "execution_count": 10,
   "metadata": {
    "ExecuteTime": {
     "end_time": "2018-05-30T01:21:52.908717Z",
     "start_time": "2018-05-30T01:21:52.904135Z"
    },
    "collapsed": true
   },
   "outputs": [],
   "source": [
    "con = mfclient.MFConnection(host=MF_HOST,\n",
    "                            port=MF_PORT,\n",
    "                            transport=MF_TRANSPORT,\n",
    "                            domain=MF_DOMAIN,\n",
    "                            user=MF_USER,\n",
    "                            password=MF_PASSWORD)"
   ]
  },
  {
   "cell_type": "code",
   "execution_count": 11,
   "metadata": {
    "ExecuteTime": {
     "end_time": "2018-05-30T01:21:53.645269Z",
     "start_time": "2018-05-30T01:21:53.286649Z"
    },
    "collapsed": false
   },
   "outputs": [],
   "source": [
    "logging.info(\"Connecting to mediaflux.\")\n",
    "con.open()\n",
    "result = con.execute(\"server.version\")"
   ]
  },
  {
   "cell_type": "code",
   "execution_count": 12,
   "metadata": {
    "ExecuteTime": {
     "end_time": "2018-05-30T01:21:53.751840Z",
     "start_time": "2018-05-30T01:21:53.734732Z"
    },
    "collapsed": false
   },
   "outputs": [
    {
     "data": {
      "text/plain": [
       "'<result><ant-version>Apache Ant 1.9.4</ant-version><binary>aserver</binary><build-time>08-Mar-2018 15:23:48 AEDT</build-time><built-by>Arcitecta. Pty. Ltd.</built-by><created-by>1.8.0_111-b14 (Oracle Corporation)</created-by><manifest-version>1.0</manifest-version><target-jvm>1.7</target-jvm><vendor>Arcitecta Pty. Ltd.</vendor><version>4.6.043</version></result>'"
      ]
     },
     "execution_count": 12,
     "metadata": {},
     "output_type": "execute_result"
    }
   ],
   "source": [
    "result.tostring()"
   ]
  },
  {
   "cell_type": "markdown",
   "metadata": {},
   "source": [
    "-----\n",
    "\n",
    "# Find assets in Mediaflux\n",
    "\n",
    "Find assets and get asset ID on the Mediaflux server in `data/`, `individuals/`, and `libraries/`."
   ]
  },
  {
   "cell_type": "code",
   "execution_count": 13,
   "metadata": {
    "ExecuteTime": {
     "end_time": "2018-05-30T01:22:12.118638Z",
     "start_time": "2018-05-30T01:22:12.052242Z"
    },
    "collapsed": false
   },
   "outputs": [],
   "source": [
    "# Query for data directory\n",
    "args = mfclient.XmlStringWriter(\"args\")\n",
    "args.add(\"where\", \"namespace=/projects/proj-hoffmann_data-1128.4.49/data\")\n",
    "args.add(\"action\", \"get-path\")\n",
    "args.add(\"size\", \"infinity\")\n",
    "data_query = con.execute(\"asset.query\", args.doc_text())"
   ]
  },
  {
   "cell_type": "code",
   "execution_count": 14,
   "metadata": {
    "ExecuteTime": {
     "end_time": "2018-05-30T01:22:12.982310Z",
     "start_time": "2018-05-30T01:22:12.476786Z"
    },
    "collapsed": true
   },
   "outputs": [],
   "source": [
    "# Query for individual directory\n",
    "args = mfclient.XmlStringWriter(\"args\")\n",
    "args.add(\"where\", \"namespace=/projects/proj-hoffmann_data-1128.4.49/individuals\")\n",
    "args.add(\"action\", \"get-path\")\n",
    "args.add(\"size\", \"infinity\")\n",
    "individuals_query = con.execute(\"asset.query\", args.doc_text())"
   ]
  },
  {
   "cell_type": "code",
   "execution_count": 15,
   "metadata": {
    "ExecuteTime": {
     "end_time": "2018-05-30T01:22:13.265426Z",
     "start_time": "2018-05-30T01:22:13.199068Z"
    },
    "collapsed": true
   },
   "outputs": [],
   "source": [
    "# Query for library directory\n",
    "args = mfclient.XmlStringWriter(\"args\")\n",
    "args.add(\"where\", \"namespace=/projects/proj-hoffmann_data-1128.4.49/libraries\")\n",
    "args.add(\"action\", \"get-path\")\n",
    "args.add(\"size\", \"infinity\")\n",
    "libraries_query = con.execute(\"asset.query\", args.doc_text())"
   ]
  },
  {
   "cell_type": "code",
   "execution_count": 16,
   "metadata": {
    "ExecuteTime": {
     "end_time": "2018-05-30T01:22:13.721388Z",
     "start_time": "2018-05-30T01:22:13.714919Z"
    },
    "collapsed": false
   },
   "outputs": [
    {
     "data": {
      "text/plain": [
       "'<result><path id=\"35280914\" version=\"7\">/projects/proj-hoffmann_data-1128.4.49/libraries/P4_CA5YJANXX</path><path id=\"35280919\" version=\"7\">/projects/proj-hoffmann_data-1128.4.49/libraries/P5_CA5YJANXX</path><path id=\"35280920\" version=\"7\">/projects/proj-hoffmann_data-1128.4.49/libraries/P6_CA5YJANXX</path><path id=\"35547226\" version=\"2\">/projects/proj-hoffmann_data-1128.4.49/libraries/CairnsL1</path><path id=\"35547227\" version=\"2\">/projects/proj-hoffmann_data-1128.4.49/libraries/CairnsL2</path><path id=\"35547228\" version=\"2\">/projects/proj-hoffmann_data-1128.4.49/libraries/CairnsL3</path><path id=\"36551235\" version=\"4\">/projects/proj-hoffmann_data-1128.4.49/libraries/ASH_LIB_02_BRA</path><path id=\"36551336\" version=\"3\">/projects/proj-hoffmann_data-1128.4.49/libraries/ASH_LIB_01_QLD</path><path id=\"36609035\" version=\"3\">/projects/proj-hoffmann_data-1128.4.49/libraries/RLEM_SA_2018</path><path id=\"36609036\" version=\"1\">/projects/proj-hoffmann_data-1128.4.49/libraries/tom_albo_2018</path'"
      ]
     },
     "execution_count": 16,
     "metadata": {},
     "output_type": "execute_result"
    }
   ],
   "source": [
    "libraries_query.tostring()[:1000]"
   ]
  },
  {
   "cell_type": "code",
   "execution_count": 17,
   "metadata": {
    "ExecuteTime": {
     "end_time": "2018-05-30T01:22:14.200190Z",
     "start_time": "2018-05-30T01:22:14.189761Z"
    },
    "collapsed": true
   },
   "outputs": [],
   "source": [
    "def create_asset_id_dataframe(query):\n",
    "    df = []\n",
    "    path_elements = query.elements(\"path\")\n",
    "    for pe in path_elements:\n",
    "        path = pe.value()\n",
    "        id = pe.value(\"@id\")\n",
    "        archive_name = os.path.basename(path)\n",
    "        df.append([id, archive_name, path])\n",
    "    df = pd.DataFrame(df)\n",
    "    df.columns = [\"asset_id\", \"asset_name\", \"full_path\"]\n",
    "    return df"
   ]
  },
  {
   "cell_type": "code",
   "execution_count": 18,
   "metadata": {
    "ExecuteTime": {
     "end_time": "2018-05-30T01:22:14.699015Z",
     "start_time": "2018-05-30T01:22:14.681964Z"
    },
    "collapsed": false
   },
   "outputs": [],
   "source": [
    "data_df = create_asset_id_dataframe(data_query)\n",
    "individuals_df = create_asset_id_dataframe(individuals_query)\n",
    "libraries_df = create_asset_id_dataframe(libraries_query)"
   ]
  },
  {
   "cell_type": "code",
   "execution_count": 19,
   "metadata": {
    "ExecuteTime": {
     "end_time": "2018-05-30T01:22:15.071863Z",
     "start_time": "2018-05-30T01:22:15.066494Z"
    },
    "collapsed": false
   },
   "outputs": [
    {
     "name": "stdout",
     "output_type": "stream",
     "text": [
      "(14, 3)\n",
      "(619, 3)\n",
      "(11, 3)\n"
     ]
    }
   ],
   "source": [
    "print(data_df.shape)\n",
    "print(individuals_df.shape)\n",
    "print(libraries_df.shape)"
   ]
  },
  {
   "cell_type": "markdown",
   "metadata": {},
   "source": [
    "-----\n",
    "\n",
    "# For each asset, get metadata\n",
    "\n"
   ]
  },
  {
   "cell_type": "markdown",
   "metadata": {},
   "source": [
    "## Data\n",
    "\n",
    "Get size of each asset in `data/`"
   ]
  },
  {
   "cell_type": "code",
   "execution_count": 20,
   "metadata": {
    "ExecuteTime": {
     "end_time": "2018-05-30T01:22:16.555634Z",
     "start_time": "2018-05-30T01:22:16.551497Z"
    },
    "collapsed": false
   },
   "outputs": [],
   "source": [
    "asset_id_list = list(data_df[\"asset_id\"])"
   ]
  },
  {
   "cell_type": "code",
   "execution_count": 21,
   "metadata": {
    "ExecuteTime": {
     "end_time": "2018-05-30T01:22:16.900658Z",
     "start_time": "2018-05-30T01:22:16.888900Z"
    },
    "collapsed": false
   },
   "outputs": [],
   "source": [
    "human_size = []\n",
    "size = []\n",
    "for asset_id in asset_id_list:\n",
    "    query = get_asset(asset_id)\n",
    "    human_size.append(query.element(\"asset/content/size\").attribute(\"h\"))\n",
    "    size.append(query.element(\"asset/content/size\").value())"
   ]
  },
  {
   "cell_type": "code",
   "execution_count": 22,
   "metadata": {
    "ExecuteTime": {
     "end_time": "2018-05-30T01:22:17.188748Z",
     "start_time": "2018-05-30T01:22:17.184066Z"
    },
    "collapsed": false
   },
   "outputs": [],
   "source": [
    "data_df[\"approx_size\"] = human_size\n",
    "data_df[\"size_in_bytes\"] = size"
   ]
  },
  {
   "cell_type": "code",
   "execution_count": 23,
   "metadata": {
    "ExecuteTime": {
     "end_time": "2018-05-30T01:22:17.540995Z",
     "start_time": "2018-05-30T01:22:17.519599Z"
    },
    "collapsed": false
   },
   "outputs": [
    {
     "data": {
      "text/html": [
       "<div>\n",
       "<style scoped>\n",
       "    .dataframe tbody tr th:only-of-type {\n",
       "        vertical-align: middle;\n",
       "    }\n",
       "\n",
       "    .dataframe tbody tr th {\n",
       "        vertical-align: top;\n",
       "    }\n",
       "\n",
       "    .dataframe thead th {\n",
       "        text-align: right;\n",
       "    }\n",
       "</style>\n",
       "<table border=\"1\" class=\"dataframe\">\n",
       "  <thead>\n",
       "    <tr style=\"text-align: right;\">\n",
       "      <th></th>\n",
       "      <th>asset_id</th>\n",
       "      <th>asset_name</th>\n",
       "      <th>full_path</th>\n",
       "      <th>approx_size</th>\n",
       "      <th>size_in_bytes</th>\n",
       "    </tr>\n",
       "  </thead>\n",
       "  <tbody>\n",
       "    <tr>\n",
       "      <th>0</th>\n",
       "      <td>35512059</td>\n",
       "      <td>P4_CA5YJANXX.zip</td>\n",
       "      <td>/projects/proj-hoffmann_data-1128.4.49/data/P4...</td>\n",
       "      <td>28.992 GB</td>\n",
       "      <td>28992107988</td>\n",
       "    </tr>\n",
       "    <tr>\n",
       "      <th>1</th>\n",
       "      <td>35512420</td>\n",
       "      <td>P5_CA5YJANXX.zip</td>\n",
       "      <td>/projects/proj-hoffmann_data-1128.4.49/data/P5...</td>\n",
       "      <td>28.337 GB</td>\n",
       "      <td>28336907055</td>\n",
       "    </tr>\n",
       "    <tr>\n",
       "      <th>2</th>\n",
       "      <td>35515752</td>\n",
       "      <td>P6_CA5YJANXX.zip</td>\n",
       "      <td>/projects/proj-hoffmann_data-1128.4.49/data/P6...</td>\n",
       "      <td>27.79 GB</td>\n",
       "      <td>27790225800</td>\n",
       "    </tr>\n",
       "    <tr>\n",
       "      <th>3</th>\n",
       "      <td>35516931</td>\n",
       "      <td>QA_library9_albo_INC_DPS_BKK.zip</td>\n",
       "      <td>/projects/proj-hoffmann_data-1128.4.49/data/QA...</td>\n",
       "      <td>30.134 GB</td>\n",
       "      <td>30133670228</td>\n",
       "    </tr>\n",
       "    <tr>\n",
       "      <th>4</th>\n",
       "      <td>35535007</td>\n",
       "      <td>CairnsL1.zip</td>\n",
       "      <td>/projects/proj-hoffmann_data-1128.4.49/data/Ca...</td>\n",
       "      <td>33.758 GB</td>\n",
       "      <td>33757722857</td>\n",
       "    </tr>\n",
       "  </tbody>\n",
       "</table>\n",
       "</div>"
      ],
      "text/plain": [
       "   asset_id                        asset_name  \\\n",
       "0  35512059                  P4_CA5YJANXX.zip   \n",
       "1  35512420                  P5_CA5YJANXX.zip   \n",
       "2  35515752                  P6_CA5YJANXX.zip   \n",
       "3  35516931  QA_library9_albo_INC_DPS_BKK.zip   \n",
       "4  35535007                      CairnsL1.zip   \n",
       "\n",
       "                                           full_path approx_size size_in_bytes  \n",
       "0  /projects/proj-hoffmann_data-1128.4.49/data/P4...   28.992 GB   28992107988  \n",
       "1  /projects/proj-hoffmann_data-1128.4.49/data/P5...   28.337 GB   28336907055  \n",
       "2  /projects/proj-hoffmann_data-1128.4.49/data/P6...    27.79 GB   27790225800  \n",
       "3  /projects/proj-hoffmann_data-1128.4.49/data/QA...   30.134 GB   30133670228  \n",
       "4  /projects/proj-hoffmann_data-1128.4.49/data/Ca...   33.758 GB   33757722857  "
      ]
     },
     "execution_count": 23,
     "metadata": {},
     "output_type": "execute_result"
    }
   ],
   "source": [
    "data_df.head()"
   ]
  },
  {
   "cell_type": "markdown",
   "metadata": {},
   "source": [
    "## Libraries\n",
    "\n",
    "Get metadata from all assets in `libraries/`"
   ]
  },
  {
   "cell_type": "code",
   "execution_count": 24,
   "metadata": {
    "ExecuteTime": {
     "end_time": "2018-05-30T01:22:18.310367Z",
     "start_time": "2018-05-30T01:22:18.306161Z"
    },
    "collapsed": false
   },
   "outputs": [],
   "source": [
    "asset_id_list = list(libraries_df[\"asset_id\"])"
   ]
  },
  {
   "cell_type": "code",
   "execution_count": 25,
   "metadata": {
    "ExecuteTime": {
     "end_time": "2018-05-30T01:22:18.579688Z",
     "start_time": "2018-05-30T01:22:18.575689Z"
    },
    "collapsed": true
   },
   "outputs": [],
   "source": [
    "# Query one asset\n",
    "query = get_asset(asset_id_list[0])"
   ]
  },
  {
   "cell_type": "code",
   "execution_count": 26,
   "metadata": {
    "ExecuteTime": {
     "end_time": "2018-05-30T01:22:18.853361Z",
     "start_time": "2018-05-30T01:22:18.846482Z"
    },
    "collapsed": false
   },
   "outputs": [
    {
     "data": {
      "text/plain": [
       "['proj-hoffmann_data-1128.4.49:libraries_metadata',\n",
       " 'proj-hoffmann_data-1128.4.49:libraries_storage']"
      ]
     },
     "execution_count": 26,
     "metadata": {},
     "output_type": "execute_result"
    }
   ],
   "source": [
    "# Get metadata documents\n",
    "metadata_documents = [x.name() for x in query.element(\"asset/meta\").elements() if x.name() != \"mf-revision-history\"]\n",
    "metadata_documents"
   ]
  },
  {
   "cell_type": "code",
   "execution_count": 27,
   "metadata": {
    "ExecuteTime": {
     "end_time": "2018-05-30T01:22:19.076773Z",
     "start_time": "2018-05-30T01:22:19.072585Z"
    },
    "collapsed": false
   },
   "outputs": [],
   "source": [
    "# # Test asset with multiple metadata documents from MPP project\n",
    "# args = mfclient.XmlStringWriter(\"args\")\n",
    "# args.add(\"id\", \"35532748\")\n",
    "# query = con.execute(\"asset.get\", args.doc_text())\n",
    "# query.tostring()\n",
    "# metadata_documents = [x.name() for x in query.element(\"asset/meta\").elements() if x.name() != \"mf-revision-history\"]\n",
    "# metadata_documents"
   ]
  },
  {
   "cell_type": "code",
   "execution_count": 28,
   "metadata": {
    "ExecuteTime": {
     "end_time": "2018-05-30T01:22:19.428456Z",
     "start_time": "2018-05-30T01:22:19.408785Z"
    },
    "collapsed": false
   },
   "outputs": [],
   "source": [
    "libraries_metadata_dicts = {}\n",
    "for asset_id in asset_id_list:\n",
    "    d = collections.OrderedDict({\"asset_id\": asset_id})\n",
    "    query = get_asset(asset_id)\n",
    "    metadata_documents = [x.name() for x in query.element(\"asset/meta\").elements() \n",
    "                          if x.name() != \"mf-revision-history\"]\n",
    "    # Not expecting any metadata document to appear multiple times\n",
    "    assert(len(metadata_documents) == len(set(metadata_documents)))\n",
    "    for document in metadata_documents:\n",
    "        for element in query.element(\"asset/meta/{}\".format(document)).elements():\n",
    "            d[element.name()] = element.value()\n",
    "    libraries_metadata_dicts[asset_id] = d"
   ]
  },
  {
   "cell_type": "code",
   "execution_count": 29,
   "metadata": {
    "ExecuteTime": {
     "end_time": "2018-05-30T01:22:19.747817Z",
     "start_time": "2018-05-30T01:22:19.704600Z"
    },
    "collapsed": false
   },
   "outputs": [
    {
     "data": {
      "text/html": [
       "<div>\n",
       "<style scoped>\n",
       "    .dataframe tbody tr th:only-of-type {\n",
       "        vertical-align: middle;\n",
       "    }\n",
       "\n",
       "    .dataframe tbody tr th {\n",
       "        vertical-align: top;\n",
       "    }\n",
       "\n",
       "    .dataframe thead th {\n",
       "        text-align: right;\n",
       "    }\n",
       "</style>\n",
       "<table border=\"1\" class=\"dataframe\">\n",
       "  <thead>\n",
       "    <tr style=\"text-align: right;\">\n",
       "      <th></th>\n",
       "      <th>asset_id</th>\n",
       "      <th>common_name_species1</th>\n",
       "      <th>common_name_species2</th>\n",
       "      <th>date_current_update</th>\n",
       "      <th>date_sequencing_completion</th>\n",
       "      <th>flowcell_id</th>\n",
       "      <th>library_description</th>\n",
       "      <th>library_freezer</th>\n",
       "      <th>mol_type</th>\n",
       "      <th>number_individuals</th>\n",
       "      <th>...</th>\n",
       "      <th>radseq_library_alias</th>\n",
       "      <th>radseq_library_name</th>\n",
       "      <th>raw_sequence_filename</th>\n",
       "      <th>raw_sequence_storage1</th>\n",
       "      <th>raw_sequence_storage2</th>\n",
       "      <th>scientific_name_species1</th>\n",
       "      <th>scientific_name_species2</th>\n",
       "      <th>sequencing_facility</th>\n",
       "      <th>sequencing_quote_number</th>\n",
       "      <th>stage_at</th>\n",
       "    </tr>\n",
       "  </thead>\n",
       "  <tbody>\n",
       "    <tr>\n",
       "      <th>35280914</th>\n",
       "      <td>35280914</td>\n",
       "      <td>Asian Tiger Mosquito</td>\n",
       "      <td>NaN</td>\n",
       "      <td>31-Oct-2017</td>\n",
       "      <td>14-Oct-2016</td>\n",
       "      <td>CA5YJANXX</td>\n",
       "      <td>Individuals in this library were collected as ...</td>\n",
       "      <td>Library not retained</td>\n",
       "      <td>genomic DNA</td>\n",
       "      <td>54</td>\n",
       "      <td>...</td>\n",
       "      <td>P4</td>\n",
       "      <td>P4_CA5YJANXX</td>\n",
       "      <td>P4_CA5YJANXX_NoIndex_L002_R1.fastq.gz|P4_CA5YJ...</td>\n",
       "      <td>Stored on the Hoffmann Mediaflux Project: proj...</td>\n",
       "      <td>Stored on the Hoffmann Lab hard drive, G22.</td>\n",
       "      <td>Aedes albopictus</td>\n",
       "      <td>NaN</td>\n",
       "      <td>AGRF</td>\n",
       "      <td>CAGRF13590</td>\n",
       "      <td>Sequencing completed</td>\n",
       "    </tr>\n",
       "    <tr>\n",
       "      <th>35280919</th>\n",
       "      <td>35280919</td>\n",
       "      <td>Asian Tiger Mosquito</td>\n",
       "      <td>NaN</td>\n",
       "      <td>31-Oct-2017</td>\n",
       "      <td>14-Oct-2016</td>\n",
       "      <td>CA5YJANXX</td>\n",
       "      <td>Individuals in this library were collected as ...</td>\n",
       "      <td>Library not retained</td>\n",
       "      <td>genomic DNA</td>\n",
       "      <td>50</td>\n",
       "      <td>...</td>\n",
       "      <td>P5</td>\n",
       "      <td>P5_CA5YJANXX</td>\n",
       "      <td>P5_CA5YJANXX_NoIndex_L003_R1.fastq.gz|P5_CA5YJ...</td>\n",
       "      <td>Stored on the Hoffmann Mediaflux Project: proj...</td>\n",
       "      <td>Stored on the Hoffmann Lab hard drive, G22.</td>\n",
       "      <td>Aedes albopictus</td>\n",
       "      <td>NaN</td>\n",
       "      <td>AGRF</td>\n",
       "      <td>CAGRF13590</td>\n",
       "      <td>Sequencing completed</td>\n",
       "    </tr>\n",
       "    <tr>\n",
       "      <th>35280920</th>\n",
       "      <td>35280920</td>\n",
       "      <td>Asian Tiger Mosquito</td>\n",
       "      <td>NaN</td>\n",
       "      <td>31-Oct-2017</td>\n",
       "      <td>14-Oct-2016</td>\n",
       "      <td>CA5YJANXX</td>\n",
       "      <td>Individuals in this library were collected as ...</td>\n",
       "      <td>Library not retained</td>\n",
       "      <td>genomic DNA</td>\n",
       "      <td>48</td>\n",
       "      <td>...</td>\n",
       "      <td>P6</td>\n",
       "      <td>P6_CA5YJANXX</td>\n",
       "      <td>P6_CA5YJANXX_NoIndex_L004_R1.fastq.gz|P6_CA5YJ...</td>\n",
       "      <td>Stored on the Hoffmann Mediaflux Project: proj...</td>\n",
       "      <td>Stored on the Hoffmann Lab hard drive, G22.</td>\n",
       "      <td>Aedes albopictus</td>\n",
       "      <td>NaN</td>\n",
       "      <td>AGRF</td>\n",
       "      <td>CAGRF13590</td>\n",
       "      <td>Sequencing completed</td>\n",
       "    </tr>\n",
       "    <tr>\n",
       "      <th>35547226</th>\n",
       "      <td>35547226</td>\n",
       "      <td>Yellow Fever Mosquito</td>\n",
       "      <td>NaN</td>\n",
       "      <td>16-Feb-2018</td>\n",
       "      <td>NaN</td>\n",
       "      <td>C7NAAANXX</td>\n",
       "      <td>Individuals in this library were collected as ...</td>\n",
       "      <td>Library not retained</td>\n",
       "      <td>genomic DNA</td>\n",
       "      <td>61</td>\n",
       "      <td>...</td>\n",
       "      <td>NaN</td>\n",
       "      <td>cairnsL1</td>\n",
       "      <td>cairnsL1_R1_001.fastq.gz | cairnsL1_R2_001.fas...</td>\n",
       "      <td>Stored on the Hoffmann Mediaflux Project: proj...</td>\n",
       "      <td>Stored on the Hoffmann Lab hard drive, G22</td>\n",
       "      <td>Aedes aegypti aegypti</td>\n",
       "      <td>NaN</td>\n",
       "      <td>AGRF</td>\n",
       "      <td>CAGRF11131</td>\n",
       "      <td>Sequencing completed</td>\n",
       "    </tr>\n",
       "    <tr>\n",
       "      <th>35547227</th>\n",
       "      <td>35547227</td>\n",
       "      <td>Yellow Fever Mosquito</td>\n",
       "      <td>NaN</td>\n",
       "      <td>16-Feb-2018</td>\n",
       "      <td>NaN</td>\n",
       "      <td>C7NAAANXX</td>\n",
       "      <td>Individuals in this library were collected as ...</td>\n",
       "      <td>Library not retained</td>\n",
       "      <td>genomic DNA</td>\n",
       "      <td>60</td>\n",
       "      <td>...</td>\n",
       "      <td>NaN</td>\n",
       "      <td>cairnsL2</td>\n",
       "      <td>cairnsL2_R1_001.fastq.gz | cairnsL2_R2_001.fas...</td>\n",
       "      <td>Stored on the Hoffmann Mediaflux Project: proj...</td>\n",
       "      <td>Stored on the Hoffmann Lab hard drive</td>\n",
       "      <td>Aedes aegypti aegypti</td>\n",
       "      <td>NaN</td>\n",
       "      <td>AGRF</td>\n",
       "      <td>CAGRF11131</td>\n",
       "      <td>Sequencing completed</td>\n",
       "    </tr>\n",
       "  </tbody>\n",
       "</table>\n",
       "<p>5 rows × 24 columns</p>\n",
       "</div>"
      ],
      "text/plain": [
       "          asset_id   common_name_species1 common_name_species2  \\\n",
       "35280914  35280914   Asian Tiger Mosquito                  NaN   \n",
       "35280919  35280919   Asian Tiger Mosquito                  NaN   \n",
       "35280920  35280920   Asian Tiger Mosquito                  NaN   \n",
       "35547226  35547226  Yellow Fever Mosquito                  NaN   \n",
       "35547227  35547227  Yellow Fever Mosquito                  NaN   \n",
       "\n",
       "         date_current_update date_sequencing_completion flowcell_id  \\\n",
       "35280914         31-Oct-2017                14-Oct-2016   CA5YJANXX   \n",
       "35280919         31-Oct-2017                14-Oct-2016   CA5YJANXX   \n",
       "35280920         31-Oct-2017                14-Oct-2016   CA5YJANXX   \n",
       "35547226         16-Feb-2018                        NaN   C7NAAANXX   \n",
       "35547227         16-Feb-2018                        NaN   C7NAAANXX   \n",
       "\n",
       "                                        library_description  \\\n",
       "35280914  Individuals in this library were collected as ...   \n",
       "35280919  Individuals in this library were collected as ...   \n",
       "35280920  Individuals in this library were collected as ...   \n",
       "35547226  Individuals in this library were collected as ...   \n",
       "35547227  Individuals in this library were collected as ...   \n",
       "\n",
       "               library_freezer     mol_type number_individuals  \\\n",
       "35280914  Library not retained  genomic DNA                 54   \n",
       "35280919  Library not retained  genomic DNA                 50   \n",
       "35280920  Library not retained  genomic DNA                 48   \n",
       "35547226  Library not retained  genomic DNA                 61   \n",
       "35547227  Library not retained  genomic DNA                 60   \n",
       "\n",
       "                  ...          radseq_library_alias radseq_library_name  \\\n",
       "35280914          ...                            P4        P4_CA5YJANXX   \n",
       "35280919          ...                            P5        P5_CA5YJANXX   \n",
       "35280920          ...                            P6        P6_CA5YJANXX   \n",
       "35547226          ...                           NaN            cairnsL1   \n",
       "35547227          ...                           NaN            cairnsL2   \n",
       "\n",
       "                                      raw_sequence_filename  \\\n",
       "35280914  P4_CA5YJANXX_NoIndex_L002_R1.fastq.gz|P4_CA5YJ...   \n",
       "35280919  P5_CA5YJANXX_NoIndex_L003_R1.fastq.gz|P5_CA5YJ...   \n",
       "35280920  P6_CA5YJANXX_NoIndex_L004_R1.fastq.gz|P6_CA5YJ...   \n",
       "35547226  cairnsL1_R1_001.fastq.gz | cairnsL1_R2_001.fas...   \n",
       "35547227  cairnsL2_R1_001.fastq.gz | cairnsL2_R2_001.fas...   \n",
       "\n",
       "                                      raw_sequence_storage1  \\\n",
       "35280914  Stored on the Hoffmann Mediaflux Project: proj...   \n",
       "35280919  Stored on the Hoffmann Mediaflux Project: proj...   \n",
       "35280920  Stored on the Hoffmann Mediaflux Project: proj...   \n",
       "35547226  Stored on the Hoffmann Mediaflux Project: proj...   \n",
       "35547227  Stored on the Hoffmann Mediaflux Project: proj...   \n",
       "\n",
       "                                raw_sequence_storage2  \\\n",
       "35280914  Stored on the Hoffmann Lab hard drive, G22.   \n",
       "35280919  Stored on the Hoffmann Lab hard drive, G22.   \n",
       "35280920  Stored on the Hoffmann Lab hard drive, G22.   \n",
       "35547226   Stored on the Hoffmann Lab hard drive, G22   \n",
       "35547227        Stored on the Hoffmann Lab hard drive   \n",
       "\n",
       "         scientific_name_species1 scientific_name_species2  \\\n",
       "35280914         Aedes albopictus                      NaN   \n",
       "35280919         Aedes albopictus                      NaN   \n",
       "35280920         Aedes albopictus                      NaN   \n",
       "35547226    Aedes aegypti aegypti                      NaN   \n",
       "35547227    Aedes aegypti aegypti                      NaN   \n",
       "\n",
       "         sequencing_facility sequencing_quote_number              stage_at  \n",
       "35280914                AGRF              CAGRF13590  Sequencing completed  \n",
       "35280919                AGRF              CAGRF13590  Sequencing completed  \n",
       "35280920                AGRF              CAGRF13590  Sequencing completed  \n",
       "35547226                AGRF              CAGRF11131  Sequencing completed  \n",
       "35547227                AGRF              CAGRF11131  Sequencing completed  \n",
       "\n",
       "[5 rows x 24 columns]"
      ]
     },
     "execution_count": 29,
     "metadata": {},
     "output_type": "execute_result"
    }
   ],
   "source": [
    "libraries_metadata_df = pd.DataFrame(libraries_metadata_dicts).T\n",
    "libraries_metadata_df.head()"
   ]
  },
  {
   "cell_type": "code",
   "execution_count": 30,
   "metadata": {
    "ExecuteTime": {
     "end_time": "2018-05-30T01:22:20.070507Z",
     "start_time": "2018-05-30T01:22:20.061440Z"
    },
    "collapsed": false
   },
   "outputs": [],
   "source": [
    "# Merge libraries_df with metadata\n",
    "libraries_df = libraries_df.merge(libraries_metadata_df, on=\"asset_id\")"
   ]
  },
  {
   "cell_type": "code",
   "execution_count": 31,
   "metadata": {
    "ExecuteTime": {
     "end_time": "2018-05-30T01:22:20.599475Z",
     "start_time": "2018-05-30T01:22:20.558604Z"
    },
    "collapsed": false,
    "scrolled": true
   },
   "outputs": [
    {
     "data": {
      "text/html": [
       "<div>\n",
       "<style scoped>\n",
       "    .dataframe tbody tr th:only-of-type {\n",
       "        vertical-align: middle;\n",
       "    }\n",
       "\n",
       "    .dataframe tbody tr th {\n",
       "        vertical-align: top;\n",
       "    }\n",
       "\n",
       "    .dataframe thead th {\n",
       "        text-align: right;\n",
       "    }\n",
       "</style>\n",
       "<table border=\"1\" class=\"dataframe\">\n",
       "  <thead>\n",
       "    <tr style=\"text-align: right;\">\n",
       "      <th></th>\n",
       "      <th>asset_id</th>\n",
       "      <th>asset_name</th>\n",
       "      <th>full_path</th>\n",
       "      <th>common_name_species1</th>\n",
       "      <th>common_name_species2</th>\n",
       "      <th>date_current_update</th>\n",
       "      <th>date_sequencing_completion</th>\n",
       "      <th>flowcell_id</th>\n",
       "      <th>library_description</th>\n",
       "      <th>library_freezer</th>\n",
       "      <th>...</th>\n",
       "      <th>radseq_library_alias</th>\n",
       "      <th>radseq_library_name</th>\n",
       "      <th>raw_sequence_filename</th>\n",
       "      <th>raw_sequence_storage1</th>\n",
       "      <th>raw_sequence_storage2</th>\n",
       "      <th>scientific_name_species1</th>\n",
       "      <th>scientific_name_species2</th>\n",
       "      <th>sequencing_facility</th>\n",
       "      <th>sequencing_quote_number</th>\n",
       "      <th>stage_at</th>\n",
       "    </tr>\n",
       "  </thead>\n",
       "  <tbody>\n",
       "    <tr>\n",
       "      <th>0</th>\n",
       "      <td>35280914</td>\n",
       "      <td>P4_CA5YJANXX</td>\n",
       "      <td>/projects/proj-hoffmann_data-1128.4.49/librari...</td>\n",
       "      <td>Asian Tiger Mosquito</td>\n",
       "      <td>NaN</td>\n",
       "      <td>31-Oct-2017</td>\n",
       "      <td>14-Oct-2016</td>\n",
       "      <td>CA5YJANXX</td>\n",
       "      <td>Individuals in this library were collected as ...</td>\n",
       "      <td>Library not retained</td>\n",
       "      <td>...</td>\n",
       "      <td>P4</td>\n",
       "      <td>P4_CA5YJANXX</td>\n",
       "      <td>P4_CA5YJANXX_NoIndex_L002_R1.fastq.gz|P4_CA5YJ...</td>\n",
       "      <td>Stored on the Hoffmann Mediaflux Project: proj...</td>\n",
       "      <td>Stored on the Hoffmann Lab hard drive, G22.</td>\n",
       "      <td>Aedes albopictus</td>\n",
       "      <td>NaN</td>\n",
       "      <td>AGRF</td>\n",
       "      <td>CAGRF13590</td>\n",
       "      <td>Sequencing completed</td>\n",
       "    </tr>\n",
       "    <tr>\n",
       "      <th>1</th>\n",
       "      <td>35280919</td>\n",
       "      <td>P5_CA5YJANXX</td>\n",
       "      <td>/projects/proj-hoffmann_data-1128.4.49/librari...</td>\n",
       "      <td>Asian Tiger Mosquito</td>\n",
       "      <td>NaN</td>\n",
       "      <td>31-Oct-2017</td>\n",
       "      <td>14-Oct-2016</td>\n",
       "      <td>CA5YJANXX</td>\n",
       "      <td>Individuals in this library were collected as ...</td>\n",
       "      <td>Library not retained</td>\n",
       "      <td>...</td>\n",
       "      <td>P5</td>\n",
       "      <td>P5_CA5YJANXX</td>\n",
       "      <td>P5_CA5YJANXX_NoIndex_L003_R1.fastq.gz|P5_CA5YJ...</td>\n",
       "      <td>Stored on the Hoffmann Mediaflux Project: proj...</td>\n",
       "      <td>Stored on the Hoffmann Lab hard drive, G22.</td>\n",
       "      <td>Aedes albopictus</td>\n",
       "      <td>NaN</td>\n",
       "      <td>AGRF</td>\n",
       "      <td>CAGRF13590</td>\n",
       "      <td>Sequencing completed</td>\n",
       "    </tr>\n",
       "    <tr>\n",
       "      <th>2</th>\n",
       "      <td>35280920</td>\n",
       "      <td>P6_CA5YJANXX</td>\n",
       "      <td>/projects/proj-hoffmann_data-1128.4.49/librari...</td>\n",
       "      <td>Asian Tiger Mosquito</td>\n",
       "      <td>NaN</td>\n",
       "      <td>31-Oct-2017</td>\n",
       "      <td>14-Oct-2016</td>\n",
       "      <td>CA5YJANXX</td>\n",
       "      <td>Individuals in this library were collected as ...</td>\n",
       "      <td>Library not retained</td>\n",
       "      <td>...</td>\n",
       "      <td>P6</td>\n",
       "      <td>P6_CA5YJANXX</td>\n",
       "      <td>P6_CA5YJANXX_NoIndex_L004_R1.fastq.gz|P6_CA5YJ...</td>\n",
       "      <td>Stored on the Hoffmann Mediaflux Project: proj...</td>\n",
       "      <td>Stored on the Hoffmann Lab hard drive, G22.</td>\n",
       "      <td>Aedes albopictus</td>\n",
       "      <td>NaN</td>\n",
       "      <td>AGRF</td>\n",
       "      <td>CAGRF13590</td>\n",
       "      <td>Sequencing completed</td>\n",
       "    </tr>\n",
       "    <tr>\n",
       "      <th>3</th>\n",
       "      <td>35547226</td>\n",
       "      <td>CairnsL1</td>\n",
       "      <td>/projects/proj-hoffmann_data-1128.4.49/librari...</td>\n",
       "      <td>Yellow Fever Mosquito</td>\n",
       "      <td>NaN</td>\n",
       "      <td>16-Feb-2018</td>\n",
       "      <td>NaN</td>\n",
       "      <td>C7NAAANXX</td>\n",
       "      <td>Individuals in this library were collected as ...</td>\n",
       "      <td>Library not retained</td>\n",
       "      <td>...</td>\n",
       "      <td>NaN</td>\n",
       "      <td>cairnsL1</td>\n",
       "      <td>cairnsL1_R1_001.fastq.gz | cairnsL1_R2_001.fas...</td>\n",
       "      <td>Stored on the Hoffmann Mediaflux Project: proj...</td>\n",
       "      <td>Stored on the Hoffmann Lab hard drive, G22</td>\n",
       "      <td>Aedes aegypti aegypti</td>\n",
       "      <td>NaN</td>\n",
       "      <td>AGRF</td>\n",
       "      <td>CAGRF11131</td>\n",
       "      <td>Sequencing completed</td>\n",
       "    </tr>\n",
       "    <tr>\n",
       "      <th>4</th>\n",
       "      <td>35547227</td>\n",
       "      <td>CairnsL2</td>\n",
       "      <td>/projects/proj-hoffmann_data-1128.4.49/librari...</td>\n",
       "      <td>Yellow Fever Mosquito</td>\n",
       "      <td>NaN</td>\n",
       "      <td>16-Feb-2018</td>\n",
       "      <td>NaN</td>\n",
       "      <td>C7NAAANXX</td>\n",
       "      <td>Individuals in this library were collected as ...</td>\n",
       "      <td>Library not retained</td>\n",
       "      <td>...</td>\n",
       "      <td>NaN</td>\n",
       "      <td>cairnsL2</td>\n",
       "      <td>cairnsL2_R1_001.fastq.gz | cairnsL2_R2_001.fas...</td>\n",
       "      <td>Stored on the Hoffmann Mediaflux Project: proj...</td>\n",
       "      <td>Stored on the Hoffmann Lab hard drive</td>\n",
       "      <td>Aedes aegypti aegypti</td>\n",
       "      <td>NaN</td>\n",
       "      <td>AGRF</td>\n",
       "      <td>CAGRF11131</td>\n",
       "      <td>Sequencing completed</td>\n",
       "    </tr>\n",
       "  </tbody>\n",
       "</table>\n",
       "<p>5 rows × 26 columns</p>\n",
       "</div>"
      ],
      "text/plain": [
       "   asset_id    asset_name                                          full_path  \\\n",
       "0  35280914  P4_CA5YJANXX  /projects/proj-hoffmann_data-1128.4.49/librari...   \n",
       "1  35280919  P5_CA5YJANXX  /projects/proj-hoffmann_data-1128.4.49/librari...   \n",
       "2  35280920  P6_CA5YJANXX  /projects/proj-hoffmann_data-1128.4.49/librari...   \n",
       "3  35547226      CairnsL1  /projects/proj-hoffmann_data-1128.4.49/librari...   \n",
       "4  35547227      CairnsL2  /projects/proj-hoffmann_data-1128.4.49/librari...   \n",
       "\n",
       "    common_name_species1 common_name_species2 date_current_update  \\\n",
       "0   Asian Tiger Mosquito                  NaN         31-Oct-2017   \n",
       "1   Asian Tiger Mosquito                  NaN         31-Oct-2017   \n",
       "2   Asian Tiger Mosquito                  NaN         31-Oct-2017   \n",
       "3  Yellow Fever Mosquito                  NaN         16-Feb-2018   \n",
       "4  Yellow Fever Mosquito                  NaN         16-Feb-2018   \n",
       "\n",
       "  date_sequencing_completion flowcell_id  \\\n",
       "0                14-Oct-2016   CA5YJANXX   \n",
       "1                14-Oct-2016   CA5YJANXX   \n",
       "2                14-Oct-2016   CA5YJANXX   \n",
       "3                        NaN   C7NAAANXX   \n",
       "4                        NaN   C7NAAANXX   \n",
       "\n",
       "                                 library_description       library_freezer  \\\n",
       "0  Individuals in this library were collected as ...  Library not retained   \n",
       "1  Individuals in this library were collected as ...  Library not retained   \n",
       "2  Individuals in this library were collected as ...  Library not retained   \n",
       "3  Individuals in this library were collected as ...  Library not retained   \n",
       "4  Individuals in this library were collected as ...  Library not retained   \n",
       "\n",
       "           ...          radseq_library_alias radseq_library_name  \\\n",
       "0          ...                            P4        P4_CA5YJANXX   \n",
       "1          ...                            P5        P5_CA5YJANXX   \n",
       "2          ...                            P6        P6_CA5YJANXX   \n",
       "3          ...                           NaN            cairnsL1   \n",
       "4          ...                           NaN            cairnsL2   \n",
       "\n",
       "                               raw_sequence_filename  \\\n",
       "0  P4_CA5YJANXX_NoIndex_L002_R1.fastq.gz|P4_CA5YJ...   \n",
       "1  P5_CA5YJANXX_NoIndex_L003_R1.fastq.gz|P5_CA5YJ...   \n",
       "2  P6_CA5YJANXX_NoIndex_L004_R1.fastq.gz|P6_CA5YJ...   \n",
       "3  cairnsL1_R1_001.fastq.gz | cairnsL1_R2_001.fas...   \n",
       "4  cairnsL2_R1_001.fastq.gz | cairnsL2_R2_001.fas...   \n",
       "\n",
       "                               raw_sequence_storage1  \\\n",
       "0  Stored on the Hoffmann Mediaflux Project: proj...   \n",
       "1  Stored on the Hoffmann Mediaflux Project: proj...   \n",
       "2  Stored on the Hoffmann Mediaflux Project: proj...   \n",
       "3  Stored on the Hoffmann Mediaflux Project: proj...   \n",
       "4  Stored on the Hoffmann Mediaflux Project: proj...   \n",
       "\n",
       "                         raw_sequence_storage2 scientific_name_species1  \\\n",
       "0  Stored on the Hoffmann Lab hard drive, G22.         Aedes albopictus   \n",
       "1  Stored on the Hoffmann Lab hard drive, G22.         Aedes albopictus   \n",
       "2  Stored on the Hoffmann Lab hard drive, G22.         Aedes albopictus   \n",
       "3   Stored on the Hoffmann Lab hard drive, G22    Aedes aegypti aegypti   \n",
       "4        Stored on the Hoffmann Lab hard drive    Aedes aegypti aegypti   \n",
       "\n",
       "  scientific_name_species2 sequencing_facility sequencing_quote_number  \\\n",
       "0                      NaN                AGRF              CAGRF13590   \n",
       "1                      NaN                AGRF              CAGRF13590   \n",
       "2                      NaN                AGRF              CAGRF13590   \n",
       "3                      NaN                AGRF              CAGRF11131   \n",
       "4                      NaN                AGRF              CAGRF11131   \n",
       "\n",
       "               stage_at  \n",
       "0  Sequencing completed  \n",
       "1  Sequencing completed  \n",
       "2  Sequencing completed  \n",
       "3  Sequencing completed  \n",
       "4  Sequencing completed  \n",
       "\n",
       "[5 rows x 26 columns]"
      ]
     },
     "execution_count": 31,
     "metadata": {},
     "output_type": "execute_result"
    }
   ],
   "source": [
    "libraries_df.head()"
   ]
  },
  {
   "cell_type": "markdown",
   "metadata": {},
   "source": [
    "## Individuals\n",
    "\n",
    "Get metadata from all assets in `individuals/`"
   ]
  },
  {
   "cell_type": "code",
   "execution_count": 32,
   "metadata": {
    "ExecuteTime": {
     "end_time": "2018-05-30T01:22:21.439222Z",
     "start_time": "2018-05-30T01:22:21.434671Z"
    },
    "collapsed": false
   },
   "outputs": [],
   "source": [
    "asset_id_list = list(individuals_df[\"asset_id\"])"
   ]
  },
  {
   "cell_type": "code",
   "execution_count": 33,
   "metadata": {
    "ExecuteTime": {
     "end_time": "2018-05-30T01:22:21.844190Z",
     "start_time": "2018-05-30T01:22:21.840724Z"
    },
    "collapsed": true
   },
   "outputs": [],
   "source": [
    "# Query one asset\n",
    "query = get_asset(asset_id_list[0])"
   ]
  },
  {
   "cell_type": "code",
   "execution_count": 34,
   "metadata": {
    "ExecuteTime": {
     "end_time": "2018-05-30T01:22:22.318826Z",
     "start_time": "2018-05-30T01:22:22.311166Z"
    },
    "collapsed": false
   },
   "outputs": [
    {
     "data": {
      "text/plain": [
       "['proj-hoffmann_data-1128.4.49:individuals_metadata',\n",
       " 'proj-hoffmann_data-1128.4.49:individuals_storage',\n",
       " 'proj-hoffmann_data-1128.4.49:individuals_locations',\n",
       " 'proj-hoffmann_data-1128.4.49:individuals_store-and-retrieve',\n",
       " 'proj-hoffmann_data-1128.4.49:individuals_name',\n",
       " 'proj-hoffmann_data-1128.4.49:individuals_assays']"
      ]
     },
     "execution_count": 34,
     "metadata": {},
     "output_type": "execute_result"
    }
   ],
   "source": [
    "# Get metadata documents\n",
    "metadata_documents = [x.name() for x in query.element(\"asset/meta\").elements() if x.name() != \"mf-revision-history\"]\n",
    "metadata_documents"
   ]
  },
  {
   "cell_type": "code",
   "execution_count": 35,
   "metadata": {
    "ExecuteTime": {
     "end_time": "2018-05-30T01:22:23.330743Z",
     "start_time": "2018-05-30T01:22:22.806555Z"
    },
    "collapsed": false
   },
   "outputs": [],
   "source": [
    "individuals_metadata_dicts = {}\n",
    "for asset_id in asset_id_list:\n",
    "    d = collections.OrderedDict({\"asset_id\": asset_id})\n",
    "    query = get_asset(asset_id)\n",
    "    metadata_documents = [x.name() for x in query.element(\"asset/meta\").elements() \n",
    "                          if x.name() != \"mf-revision-history\"]\n",
    "    # Not expecting any metadata document to appear multiple times\n",
    "    assert(len(metadata_documents) == len(set(metadata_documents)))\n",
    "    for document in metadata_documents:\n",
    "        for element in query.element(\"asset/meta/{}\".format(document)).elements():\n",
    "            d[element.name()] = element.value()\n",
    "    individuals_metadata_dicts[asset_id] = d"
   ]
  },
  {
   "cell_type": "code",
   "execution_count": 36,
   "metadata": {
    "ExecuteTime": {
     "end_time": "2018-05-30T01:22:23.651329Z",
     "start_time": "2018-05-30T01:22:23.529909Z"
    },
    "collapsed": false
   },
   "outputs": [
    {
     "data": {
      "text/html": [
       "<div>\n",
       "<style scoped>\n",
       "    .dataframe tbody tr th:only-of-type {\n",
       "        vertical-align: middle;\n",
       "    }\n",
       "\n",
       "    .dataframe tbody tr th {\n",
       "        vertical-align: top;\n",
       "    }\n",
       "\n",
       "    .dataframe thead th {\n",
       "        text-align: right;\n",
       "    }\n",
       "</style>\n",
       "<table border=\"1\" class=\"dataframe\">\n",
       "  <thead>\n",
       "    <tr style=\"text-align: right;\">\n",
       "      <th></th>\n",
       "      <th>KDR_assay</th>\n",
       "      <th>asset_id</th>\n",
       "      <th>barcode_reference_list</th>\n",
       "      <th>common_name_species</th>\n",
       "      <th>country</th>\n",
       "      <th>date_collection</th>\n",
       "      <th>date_current_update</th>\n",
       "      <th>dev_stage_collected</th>\n",
       "      <th>dev_stage_stored</th>\n",
       "      <th>dna_tube1_conc</th>\n",
       "      <th>...</th>\n",
       "      <th>radseq_library_alias</th>\n",
       "      <th>radseq_library_name</th>\n",
       "      <th>raw_sequence_filename</th>\n",
       "      <th>sampling_scheme</th>\n",
       "      <th>sampling_type</th>\n",
       "      <th>scientific_name_species</th>\n",
       "      <th>sex</th>\n",
       "      <th>specific_location</th>\n",
       "      <th>subregion</th>\n",
       "      <th>wolbachia_assay</th>\n",
       "    </tr>\n",
       "  </thead>\n",
       "  <tbody>\n",
       "    <tr>\n",
       "      <th>35280960</th>\n",
       "      <td>None</td>\n",
       "      <td>35280960</td>\n",
       "      <td>pearg_bc2017</td>\n",
       "      <td>Asian Tiger Mosquito</td>\n",
       "      <td>China</td>\n",
       "      <td>25-Sep-2015</td>\n",
       "      <td>31-Oct-2017</td>\n",
       "      <td>Larva or pupa</td>\n",
       "      <td>Larva or pupa</td>\n",
       "      <td>14.6</td>\n",
       "      <td>...</td>\n",
       "      <td>P4</td>\n",
       "      <td>P4_CA5YJANXX</td>\n",
       "      <td>P4_CA5YJANXX_NoIndex_L002_R1.fastq.gz|P4_CA5YJ...</td>\n",
       "      <td>Collected from natural containers in Guangzhou...</td>\n",
       "      <td>field</td>\n",
       "      <td>Aedes albopictus</td>\n",
       "      <td>female</td>\n",
       "      <td>Jiuwei Village</td>\n",
       "      <td>Guangzhou City</td>\n",
       "      <td>None</td>\n",
       "    </tr>\n",
       "    <tr>\n",
       "      <th>35281030</th>\n",
       "      <td>NaN</td>\n",
       "      <td>35281030</td>\n",
       "      <td>pearg_bc2017</td>\n",
       "      <td>Asian Tiger Mosquito</td>\n",
       "      <td>China</td>\n",
       "      <td>25-Oct-2015</td>\n",
       "      <td>31-Oct-2017</td>\n",
       "      <td>Larva or pupa</td>\n",
       "      <td>Larva or pupa</td>\n",
       "      <td>19.95</td>\n",
       "      <td>...</td>\n",
       "      <td>P4</td>\n",
       "      <td>P4_CA5YJANXX</td>\n",
       "      <td>P4_CA5YJANXX_NoIndex_L002_R1.fastq.gz|P4_CA5YJ...</td>\n",
       "      <td>Collected from natural containers in Guangzhou...</td>\n",
       "      <td>field</td>\n",
       "      <td>Aedes albopictus</td>\n",
       "      <td>female</td>\n",
       "      <td>Jiuwei Village</td>\n",
       "      <td>Guangzhou City</td>\n",
       "      <td>NaN</td>\n",
       "    </tr>\n",
       "    <tr>\n",
       "      <th>35281033</th>\n",
       "      <td>NaN</td>\n",
       "      <td>35281033</td>\n",
       "      <td>pearg_bc2017</td>\n",
       "      <td>Asian Tiger Mosquito</td>\n",
       "      <td>China</td>\n",
       "      <td>25-Sep-2015</td>\n",
       "      <td>31-Oct-2017</td>\n",
       "      <td>Larva or pupa</td>\n",
       "      <td>Larva or pupa</td>\n",
       "      <td>14.69</td>\n",
       "      <td>...</td>\n",
       "      <td>P4</td>\n",
       "      <td>P4_CA5YJANXX</td>\n",
       "      <td>P4_CA5YJANXX_NoIndex_L002_R1.fastq.gz|P4_CA5YJ...</td>\n",
       "      <td>Collected from natural containers in Guangzhou...</td>\n",
       "      <td>field</td>\n",
       "      <td>Aedes albopictus</td>\n",
       "      <td>female</td>\n",
       "      <td>Jiuwei Village</td>\n",
       "      <td>Guangzhou City</td>\n",
       "      <td>NaN</td>\n",
       "    </tr>\n",
       "    <tr>\n",
       "      <th>35281798</th>\n",
       "      <td>NaN</td>\n",
       "      <td>35281798</td>\n",
       "      <td>pearg_bc2017</td>\n",
       "      <td>Asian Tiger Mosquito</td>\n",
       "      <td>China</td>\n",
       "      <td>25-Sep-2015</td>\n",
       "      <td>31-Oct-2017</td>\n",
       "      <td>Larva or pupa</td>\n",
       "      <td>Larva or pupa</td>\n",
       "      <td>25.54</td>\n",
       "      <td>...</td>\n",
       "      <td>P4</td>\n",
       "      <td>P4_CA5YJANXX</td>\n",
       "      <td>P4_CA5YJANXX_NoIndex_L002_R1.fastq.gz|P4_CA5YJ...</td>\n",
       "      <td>Collected from natural containers in Guangzhou...</td>\n",
       "      <td>field</td>\n",
       "      <td>Aedes albopictus</td>\n",
       "      <td>female</td>\n",
       "      <td>Jiuwei Village</td>\n",
       "      <td>Guangzhou City</td>\n",
       "      <td>NaN</td>\n",
       "    </tr>\n",
       "    <tr>\n",
       "      <th>35282328</th>\n",
       "      <td>NaN</td>\n",
       "      <td>35282328</td>\n",
       "      <td>pearg_bc2017</td>\n",
       "      <td>Asian Tiger Mosquito</td>\n",
       "      <td>China</td>\n",
       "      <td>25-Sep-2015</td>\n",
       "      <td>31-Oct-2017</td>\n",
       "      <td>Larva or pupa</td>\n",
       "      <td>Larva or pupa</td>\n",
       "      <td>17.55</td>\n",
       "      <td>...</td>\n",
       "      <td>P4</td>\n",
       "      <td>P4_CA5YJANXX</td>\n",
       "      <td>P4_CA5YJANXX_NoIndex_L002_R1.fastq.gz|P4_CA5YJ...</td>\n",
       "      <td>Collected from natural containers in Guangzhou...</td>\n",
       "      <td>field</td>\n",
       "      <td>Aedes albopictus</td>\n",
       "      <td>female</td>\n",
       "      <td>Jiuwei Village</td>\n",
       "      <td>Guangzhou City</td>\n",
       "      <td>NaN</td>\n",
       "    </tr>\n",
       "  </tbody>\n",
       "</table>\n",
       "<p>5 rows × 40 columns</p>\n",
       "</div>"
      ],
      "text/plain": [
       "         KDR_assay  asset_id barcode_reference_list   common_name_species  \\\n",
       "35280960      None  35280960           pearg_bc2017  Asian Tiger Mosquito   \n",
       "35281030       NaN  35281030           pearg_bc2017  Asian Tiger Mosquito   \n",
       "35281033       NaN  35281033           pearg_bc2017  Asian Tiger Mosquito   \n",
       "35281798       NaN  35281798           pearg_bc2017  Asian Tiger Mosquito   \n",
       "35282328       NaN  35282328           pearg_bc2017  Asian Tiger Mosquito   \n",
       "\n",
       "         country date_collection date_current_update dev_stage_collected  \\\n",
       "35280960   China     25-Sep-2015         31-Oct-2017       Larva or pupa   \n",
       "35281030   China     25-Oct-2015         31-Oct-2017       Larva or pupa   \n",
       "35281033   China     25-Sep-2015         31-Oct-2017       Larva or pupa   \n",
       "35281798   China     25-Sep-2015         31-Oct-2017       Larva or pupa   \n",
       "35282328   China     25-Sep-2015         31-Oct-2017       Larva or pupa   \n",
       "\n",
       "         dev_stage_stored dna_tube1_conc       ...       radseq_library_alias  \\\n",
       "35280960    Larva or pupa           14.6       ...                         P4   \n",
       "35281030    Larva or pupa          19.95       ...                         P4   \n",
       "35281033    Larva or pupa          14.69       ...                         P4   \n",
       "35281798    Larva or pupa          25.54       ...                         P4   \n",
       "35282328    Larva or pupa          17.55       ...                         P4   \n",
       "\n",
       "         radseq_library_name  \\\n",
       "35280960        P4_CA5YJANXX   \n",
       "35281030        P4_CA5YJANXX   \n",
       "35281033        P4_CA5YJANXX   \n",
       "35281798        P4_CA5YJANXX   \n",
       "35282328        P4_CA5YJANXX   \n",
       "\n",
       "                                      raw_sequence_filename  \\\n",
       "35280960  P4_CA5YJANXX_NoIndex_L002_R1.fastq.gz|P4_CA5YJ...   \n",
       "35281030  P4_CA5YJANXX_NoIndex_L002_R1.fastq.gz|P4_CA5YJ...   \n",
       "35281033  P4_CA5YJANXX_NoIndex_L002_R1.fastq.gz|P4_CA5YJ...   \n",
       "35281798  P4_CA5YJANXX_NoIndex_L002_R1.fastq.gz|P4_CA5YJ...   \n",
       "35282328  P4_CA5YJANXX_NoIndex_L002_R1.fastq.gz|P4_CA5YJ...   \n",
       "\n",
       "                                            sampling_scheme sampling_type  \\\n",
       "35280960  Collected from natural containers in Guangzhou...         field   \n",
       "35281030  Collected from natural containers in Guangzhou...         field   \n",
       "35281033  Collected from natural containers in Guangzhou...         field   \n",
       "35281798  Collected from natural containers in Guangzhou...         field   \n",
       "35282328  Collected from natural containers in Guangzhou...         field   \n",
       "\n",
       "         scientific_name_species     sex specific_location       subregion  \\\n",
       "35280960        Aedes albopictus  female    Jiuwei Village  Guangzhou City   \n",
       "35281030        Aedes albopictus  female    Jiuwei Village  Guangzhou City   \n",
       "35281033        Aedes albopictus  female    Jiuwei Village  Guangzhou City   \n",
       "35281798        Aedes albopictus  female    Jiuwei Village  Guangzhou City   \n",
       "35282328        Aedes albopictus  female    Jiuwei Village  Guangzhou City   \n",
       "\n",
       "         wolbachia_assay  \n",
       "35280960            None  \n",
       "35281030             NaN  \n",
       "35281033             NaN  \n",
       "35281798             NaN  \n",
       "35282328             NaN  \n",
       "\n",
       "[5 rows x 40 columns]"
      ]
     },
     "execution_count": 36,
     "metadata": {},
     "output_type": "execute_result"
    }
   ],
   "source": [
    "individuals_metadata_df = pd.DataFrame(individuals_metadata_dicts).T\n",
    "individuals_metadata_df.head()"
   ]
  },
  {
   "cell_type": "code",
   "execution_count": 37,
   "metadata": {
    "ExecuteTime": {
     "end_time": "2018-05-30T01:22:24.500588Z",
     "start_time": "2018-05-30T01:22:24.494815Z"
    },
    "collapsed": false
   },
   "outputs": [
    {
     "data": {
      "text/plain": [
       "(619, 40)"
      ]
     },
     "execution_count": 37,
     "metadata": {},
     "output_type": "execute_result"
    }
   ],
   "source": [
    "individuals_metadata_df.shape"
   ]
  },
  {
   "cell_type": "markdown",
   "metadata": {},
   "source": [
    "-----\n",
    "\n",
    "# Get library archive size from data dataframe\n",
    "\n",
    "Combine library dataframe and data dataframe to a single dataframe"
   ]
  },
  {
   "cell_type": "code",
   "execution_count": 38,
   "metadata": {
    "ExecuteTime": {
     "end_time": "2018-05-30T01:22:28.027539Z",
     "start_time": "2018-05-30T01:22:28.005777Z"
    },
    "collapsed": false
   },
   "outputs": [
    {
     "data": {
      "text/html": [
       "<div>\n",
       "<style scoped>\n",
       "    .dataframe tbody tr th:only-of-type {\n",
       "        vertical-align: middle;\n",
       "    }\n",
       "\n",
       "    .dataframe tbody tr th {\n",
       "        vertical-align: top;\n",
       "    }\n",
       "\n",
       "    .dataframe thead th {\n",
       "        text-align: right;\n",
       "    }\n",
       "</style>\n",
       "<table border=\"1\" class=\"dataframe\">\n",
       "  <thead>\n",
       "    <tr style=\"text-align: right;\">\n",
       "      <th></th>\n",
       "      <th>asset_id</th>\n",
       "      <th>asset_name</th>\n",
       "      <th>full_path</th>\n",
       "      <th>approx_size</th>\n",
       "      <th>size_in_bytes</th>\n",
       "    </tr>\n",
       "  </thead>\n",
       "  <tbody>\n",
       "    <tr>\n",
       "      <th>9</th>\n",
       "      <td>36550162</td>\n",
       "      <td>Gv13_1_TTAGGC.zip</td>\n",
       "      <td>/projects/proj-hoffmann_data-1128.4.49/data/Gv...</td>\n",
       "      <td>52.951 GB</td>\n",
       "      <td>52950524835</td>\n",
       "    </tr>\n",
       "    <tr>\n",
       "      <th>10</th>\n",
       "      <td>36550166</td>\n",
       "      <td>Gv13_2_TGACCA.zip</td>\n",
       "      <td>/projects/proj-hoffmann_data-1128.4.49/data/Gv...</td>\n",
       "      <td>39.388 GB</td>\n",
       "      <td>39387562304</td>\n",
       "    </tr>\n",
       "    <tr>\n",
       "      <th>11</th>\n",
       "      <td>36550499</td>\n",
       "      <td>ASH_LIB_02_BRA.zip</td>\n",
       "      <td>/projects/proj-hoffmann_data-1128.4.49/data/AS...</td>\n",
       "      <td>26.429 GB</td>\n",
       "      <td>26428874424</td>\n",
       "    </tr>\n",
       "    <tr>\n",
       "      <th>12</th>\n",
       "      <td>36551436</td>\n",
       "      <td>ASH_LIB_01_QLD.zip</td>\n",
       "      <td>/projects/proj-hoffmann_data-1128.4.49/data/AS...</td>\n",
       "      <td>37.124 GB</td>\n",
       "      <td>37124444681</td>\n",
       "    </tr>\n",
       "    <tr>\n",
       "      <th>13</th>\n",
       "      <td>36621405</td>\n",
       "      <td>pearg_bc2017.zip</td>\n",
       "      <td>/projects/proj-hoffmann_data-1128.4.49/data/pe...</td>\n",
       "      <td>672 bytes</td>\n",
       "      <td>672</td>\n",
       "    </tr>\n",
       "  </tbody>\n",
       "</table>\n",
       "</div>"
      ],
      "text/plain": [
       "    asset_id          asset_name  \\\n",
       "9   36550162   Gv13_1_TTAGGC.zip   \n",
       "10  36550166   Gv13_2_TGACCA.zip   \n",
       "11  36550499  ASH_LIB_02_BRA.zip   \n",
       "12  36551436  ASH_LIB_01_QLD.zip   \n",
       "13  36621405    pearg_bc2017.zip   \n",
       "\n",
       "                                            full_path approx_size  \\\n",
       "9   /projects/proj-hoffmann_data-1128.4.49/data/Gv...   52.951 GB   \n",
       "10  /projects/proj-hoffmann_data-1128.4.49/data/Gv...   39.388 GB   \n",
       "11  /projects/proj-hoffmann_data-1128.4.49/data/AS...   26.429 GB   \n",
       "12  /projects/proj-hoffmann_data-1128.4.49/data/AS...   37.124 GB   \n",
       "13  /projects/proj-hoffmann_data-1128.4.49/data/pe...   672 bytes   \n",
       "\n",
       "   size_in_bytes  \n",
       "9    52950524835  \n",
       "10   39387562304  \n",
       "11   26428874424  \n",
       "12   37124444681  \n",
       "13           672  "
      ]
     },
     "execution_count": 38,
     "metadata": {},
     "output_type": "execute_result"
    }
   ],
   "source": [
    "data_df.tail()"
   ]
  },
  {
   "cell_type": "code",
   "execution_count": 39,
   "metadata": {
    "ExecuteTime": {
     "end_time": "2018-05-30T01:22:28.476095Z",
     "start_time": "2018-05-30T01:22:28.435224Z"
    },
    "collapsed": false
   },
   "outputs": [
    {
     "data": {
      "text/html": [
       "<div>\n",
       "<style scoped>\n",
       "    .dataframe tbody tr th:only-of-type {\n",
       "        vertical-align: middle;\n",
       "    }\n",
       "\n",
       "    .dataframe tbody tr th {\n",
       "        vertical-align: top;\n",
       "    }\n",
       "\n",
       "    .dataframe thead th {\n",
       "        text-align: right;\n",
       "    }\n",
       "</style>\n",
       "<table border=\"1\" class=\"dataframe\">\n",
       "  <thead>\n",
       "    <tr style=\"text-align: right;\">\n",
       "      <th></th>\n",
       "      <th>asset_id</th>\n",
       "      <th>asset_name</th>\n",
       "      <th>full_path</th>\n",
       "      <th>common_name_species1</th>\n",
       "      <th>common_name_species2</th>\n",
       "      <th>date_current_update</th>\n",
       "      <th>date_sequencing_completion</th>\n",
       "      <th>flowcell_id</th>\n",
       "      <th>library_description</th>\n",
       "      <th>library_freezer</th>\n",
       "      <th>...</th>\n",
       "      <th>radseq_library_alias</th>\n",
       "      <th>radseq_library_name</th>\n",
       "      <th>raw_sequence_filename</th>\n",
       "      <th>raw_sequence_storage1</th>\n",
       "      <th>raw_sequence_storage2</th>\n",
       "      <th>scientific_name_species1</th>\n",
       "      <th>scientific_name_species2</th>\n",
       "      <th>sequencing_facility</th>\n",
       "      <th>sequencing_quote_number</th>\n",
       "      <th>stage_at</th>\n",
       "    </tr>\n",
       "  </thead>\n",
       "  <tbody>\n",
       "    <tr>\n",
       "      <th>6</th>\n",
       "      <td>36551235</td>\n",
       "      <td>ASH_LIB_02_BRA</td>\n",
       "      <td>/projects/proj-hoffmann_data-1128.4.49/librari...</td>\n",
       "      <td>Yellow Fever Mosquito</td>\n",
       "      <td>NaN</td>\n",
       "      <td>23-Mar-2018</td>\n",
       "      <td>01-Jan-0001</td>\n",
       "      <td>NaN</td>\n",
       "      <td>This will be known by Marion Shadbolt. Abdomen...</td>\n",
       "      <td>Library not retained</td>\n",
       "      <td>...</td>\n",
       "      <td>ASH_LIB_02_Brazil</td>\n",
       "      <td>ASH_LIB_02_BRA</td>\n",
       "      <td>Lib_2_C9HBTANXX_NoIndex_L007_R1.fastq.gz | Lib...</td>\n",
       "      <td>Stored on the Hoffmann Mediaflux Project: proj...</td>\n",
       "      <td>Stored on the Hoffmann Lab hard drive</td>\n",
       "      <td>Aedes aegypti aegypti</td>\n",
       "      <td>NaN</td>\n",
       "      <td>AGRF</td>\n",
       "      <td>NaN</td>\n",
       "      <td>Sequencing completed</td>\n",
       "    </tr>\n",
       "    <tr>\n",
       "      <th>7</th>\n",
       "      <td>36551336</td>\n",
       "      <td>ASH_LIB_01_QLD</td>\n",
       "      <td>/projects/proj-hoffmann_data-1128.4.49/librari...</td>\n",
       "      <td>Yellow Fever Mosquito</td>\n",
       "      <td>NaN</td>\n",
       "      <td>23-Mar-2018</td>\n",
       "      <td>NaN</td>\n",
       "      <td>NaN</td>\n",
       "      <td>Individuals in this library were collected to ...</td>\n",
       "      <td>Library not retained</td>\n",
       "      <td>...</td>\n",
       "      <td>ASH_LIB_01_Queenslandensis</td>\n",
       "      <td>ASH_LIB_01_QLD</td>\n",
       "      <td>queenslandensis_C9J2FANXX_NoIndex_L007_R1_001....</td>\n",
       "      <td>Stored on the Hoffmann Mediaflux Project: proj...</td>\n",
       "      <td>Stored on the Hoffmann Lab hard drive</td>\n",
       "      <td>Aedes aegypti aegypti</td>\n",
       "      <td>NaN</td>\n",
       "      <td>AGRF</td>\n",
       "      <td>NaN</td>\n",
       "      <td>Sequencing completed</td>\n",
       "    </tr>\n",
       "    <tr>\n",
       "      <th>8</th>\n",
       "      <td>36609035</td>\n",
       "      <td>RLEM_SA_2018</td>\n",
       "      <td>/projects/proj-hoffmann_data-1128.4.49/librari...</td>\n",
       "      <td>Redlegged Earth Mite</td>\n",
       "      <td>NaN</td>\n",
       "      <td>17-May-2018</td>\n",
       "      <td>NaN</td>\n",
       "      <td>NaN</td>\n",
       "      <td>resistant mites in South Australia</td>\n",
       "      <td>Library not retained</td>\n",
       "      <td>...</td>\n",
       "      <td>NaN</td>\n",
       "      <td>RLEM_SA_2018</td>\n",
       "      <td>RLEM_SA_2018</td>\n",
       "      <td>Stored as data in the Hoffmann project mediafl...</td>\n",
       "      <td>Stored on the Hoffmann lab hard drive</td>\n",
       "      <td>Halotydeus destructor</td>\n",
       "      <td>NaN</td>\n",
       "      <td>MHTP</td>\n",
       "      <td>QACCGM0764</td>\n",
       "      <td>Sent for sequencing</td>\n",
       "    </tr>\n",
       "    <tr>\n",
       "      <th>9</th>\n",
       "      <td>36609036</td>\n",
       "      <td>tom_albo_2018</td>\n",
       "      <td>/projects/proj-hoffmann_data-1128.4.49/librari...</td>\n",
       "      <td>Asian Tiger Mosquito</td>\n",
       "      <td>NaN</td>\n",
       "      <td>17-May-2018</td>\n",
       "      <td>NaN</td>\n",
       "      <td>NaN</td>\n",
       "      <td>Part of a project to investigate genetic struc...</td>\n",
       "      <td>Library not retained</td>\n",
       "      <td>...</td>\n",
       "      <td>NaN</td>\n",
       "      <td>tom_albo_2018</td>\n",
       "      <td>tom_albo_2018</td>\n",
       "      <td>Stored as DATA in the Hoffmann project, mediaflux</td>\n",
       "      <td>Stored on the Hoffman lab hard drive</td>\n",
       "      <td>Aedes albopictus</td>\n",
       "      <td>NaN</td>\n",
       "      <td>MHTP</td>\n",
       "      <td>QACCGM0764</td>\n",
       "      <td>Sequencing completed</td>\n",
       "    </tr>\n",
       "    <tr>\n",
       "      <th>10</th>\n",
       "      <td>36609037</td>\n",
       "      <td>QA_Library10</td>\n",
       "      <td>/projects/proj-hoffmann_data-1128.4.49/librari...</td>\n",
       "      <td>Yellow Fever Mosquito</td>\n",
       "      <td>Asian Tiger Mosquito</td>\n",
       "      <td>17-May-2018</td>\n",
       "      <td>NaN</td>\n",
       "      <td>NaN</td>\n",
       "      <td>Library part of the mosquito incursion biosecu...</td>\n",
       "      <td>Library not retained</td>\n",
       "      <td>...</td>\n",
       "      <td>QA_library10_PacificIs_INC</td>\n",
       "      <td>QA_library10</td>\n",
       "      <td>QA_library10_PacificIs_INC</td>\n",
       "      <td>Stored on Hoffmann Mediaflux Project</td>\n",
       "      <td>Stored on the Hoffmann Lab hard drive</td>\n",
       "      <td>Aedes aegypti aegypti</td>\n",
       "      <td>Aedes albopictus</td>\n",
       "      <td>MHTP</td>\n",
       "      <td>QACCGM0756</td>\n",
       "      <td>Sent for sequencing</td>\n",
       "    </tr>\n",
       "  </tbody>\n",
       "</table>\n",
       "<p>5 rows × 26 columns</p>\n",
       "</div>"
      ],
      "text/plain": [
       "    asset_id      asset_name  \\\n",
       "6   36551235  ASH_LIB_02_BRA   \n",
       "7   36551336  ASH_LIB_01_QLD   \n",
       "8   36609035    RLEM_SA_2018   \n",
       "9   36609036   tom_albo_2018   \n",
       "10  36609037    QA_Library10   \n",
       "\n",
       "                                            full_path   common_name_species1  \\\n",
       "6   /projects/proj-hoffmann_data-1128.4.49/librari...  Yellow Fever Mosquito   \n",
       "7   /projects/proj-hoffmann_data-1128.4.49/librari...  Yellow Fever Mosquito   \n",
       "8   /projects/proj-hoffmann_data-1128.4.49/librari...   Redlegged Earth Mite   \n",
       "9   /projects/proj-hoffmann_data-1128.4.49/librari...   Asian Tiger Mosquito   \n",
       "10  /projects/proj-hoffmann_data-1128.4.49/librari...  Yellow Fever Mosquito   \n",
       "\n",
       "    common_name_species2 date_current_update date_sequencing_completion  \\\n",
       "6                    NaN         23-Mar-2018                01-Jan-0001   \n",
       "7                    NaN         23-Mar-2018                        NaN   \n",
       "8                    NaN         17-May-2018                        NaN   \n",
       "9                    NaN         17-May-2018                        NaN   \n",
       "10  Asian Tiger Mosquito         17-May-2018                        NaN   \n",
       "\n",
       "   flowcell_id                                library_description  \\\n",
       "6          NaN  This will be known by Marion Shadbolt. Abdomen...   \n",
       "7          NaN  Individuals in this library were collected to ...   \n",
       "8          NaN                 resistant mites in South Australia   \n",
       "9          NaN  Part of a project to investigate genetic struc...   \n",
       "10         NaN  Library part of the mosquito incursion biosecu...   \n",
       "\n",
       "         library_freezer          ...                 radseq_library_alias  \\\n",
       "6   Library not retained          ...                    ASH_LIB_02_Brazil   \n",
       "7   Library not retained          ...           ASH_LIB_01_Queenslandensis   \n",
       "8   Library not retained          ...                                  NaN   \n",
       "9   Library not retained          ...                                  NaN   \n",
       "10  Library not retained          ...           QA_library10_PacificIs_INC   \n",
       "\n",
       "   radseq_library_name                              raw_sequence_filename  \\\n",
       "6       ASH_LIB_02_BRA  Lib_2_C9HBTANXX_NoIndex_L007_R1.fastq.gz | Lib...   \n",
       "7       ASH_LIB_01_QLD  queenslandensis_C9J2FANXX_NoIndex_L007_R1_001....   \n",
       "8         RLEM_SA_2018                                       RLEM_SA_2018   \n",
       "9        tom_albo_2018                                      tom_albo_2018   \n",
       "10        QA_library10                         QA_library10_PacificIs_INC   \n",
       "\n",
       "                                raw_sequence_storage1  \\\n",
       "6   Stored on the Hoffmann Mediaflux Project: proj...   \n",
       "7   Stored on the Hoffmann Mediaflux Project: proj...   \n",
       "8   Stored as data in the Hoffmann project mediafl...   \n",
       "9   Stored as DATA in the Hoffmann project, mediaflux   \n",
       "10               Stored on Hoffmann Mediaflux Project   \n",
       "\n",
       "                    raw_sequence_storage2 scientific_name_species1  \\\n",
       "6   Stored on the Hoffmann Lab hard drive    Aedes aegypti aegypti   \n",
       "7   Stored on the Hoffmann Lab hard drive    Aedes aegypti aegypti   \n",
       "8   Stored on the Hoffmann lab hard drive    Halotydeus destructor   \n",
       "9    Stored on the Hoffman lab hard drive         Aedes albopictus   \n",
       "10  Stored on the Hoffmann Lab hard drive    Aedes aegypti aegypti   \n",
       "\n",
       "   scientific_name_species2 sequencing_facility sequencing_quote_number  \\\n",
       "6                       NaN                AGRF                     NaN   \n",
       "7                       NaN                AGRF                     NaN   \n",
       "8                       NaN                MHTP              QACCGM0764   \n",
       "9                       NaN                MHTP              QACCGM0764   \n",
       "10         Aedes albopictus                MHTP              QACCGM0756   \n",
       "\n",
       "                stage_at  \n",
       "6   Sequencing completed  \n",
       "7   Sequencing completed  \n",
       "8    Sent for sequencing  \n",
       "9   Sequencing completed  \n",
       "10   Sent for sequencing  \n",
       "\n",
       "[5 rows x 26 columns]"
      ]
     },
     "execution_count": 39,
     "metadata": {},
     "output_type": "execute_result"
    }
   ],
   "source": [
    "libraries_df.tail()"
   ]
  },
  {
   "cell_type": "code",
   "execution_count": 40,
   "metadata": {
    "ExecuteTime": {
     "end_time": "2018-05-30T01:22:29.602789Z",
     "start_time": "2018-05-30T01:22:29.597524Z"
    },
    "collapsed": true
   },
   "outputs": [],
   "source": [
    "# Copy data_df and rename columns\n",
    "tmp = data_df.copy()\n",
    "tmp.columns = [x if re.search(\"size\", x) else \"data_{}\".format(x) for x in tmp.columns]"
   ]
  },
  {
   "cell_type": "code",
   "execution_count": 41,
   "metadata": {
    "ExecuteTime": {
     "end_time": "2018-05-30T01:22:30.014233Z",
     "start_time": "2018-05-30T01:22:30.009354Z"
    },
    "collapsed": true
   },
   "outputs": [],
   "source": [
    "tmp[\"asset_name\"] = [re.sub(\".zip$\", \"\", x) for x in tmp[\"data_asset_name\"]]"
   ]
  },
  {
   "cell_type": "code",
   "execution_count": 42,
   "metadata": {
    "ExecuteTime": {
     "end_time": "2018-05-30T01:22:30.454724Z",
     "start_time": "2018-05-30T01:22:30.434917Z"
    },
    "collapsed": false
   },
   "outputs": [
    {
     "data": {
      "text/html": [
       "<div>\n",
       "<style scoped>\n",
       "    .dataframe tbody tr th:only-of-type {\n",
       "        vertical-align: middle;\n",
       "    }\n",
       "\n",
       "    .dataframe tbody tr th {\n",
       "        vertical-align: top;\n",
       "    }\n",
       "\n",
       "    .dataframe thead th {\n",
       "        text-align: right;\n",
       "    }\n",
       "</style>\n",
       "<table border=\"1\" class=\"dataframe\">\n",
       "  <thead>\n",
       "    <tr style=\"text-align: right;\">\n",
       "      <th></th>\n",
       "      <th>data_asset_id</th>\n",
       "      <th>data_asset_name</th>\n",
       "      <th>data_full_path</th>\n",
       "      <th>approx_size</th>\n",
       "      <th>size_in_bytes</th>\n",
       "      <th>asset_name</th>\n",
       "    </tr>\n",
       "  </thead>\n",
       "  <tbody>\n",
       "    <tr>\n",
       "      <th>0</th>\n",
       "      <td>35512059</td>\n",
       "      <td>P4_CA5YJANXX.zip</td>\n",
       "      <td>/projects/proj-hoffmann_data-1128.4.49/data/P4...</td>\n",
       "      <td>28.992 GB</td>\n",
       "      <td>28992107988</td>\n",
       "      <td>P4_CA5YJANXX</td>\n",
       "    </tr>\n",
       "    <tr>\n",
       "      <th>1</th>\n",
       "      <td>35512420</td>\n",
       "      <td>P5_CA5YJANXX.zip</td>\n",
       "      <td>/projects/proj-hoffmann_data-1128.4.49/data/P5...</td>\n",
       "      <td>28.337 GB</td>\n",
       "      <td>28336907055</td>\n",
       "      <td>P5_CA5YJANXX</td>\n",
       "    </tr>\n",
       "    <tr>\n",
       "      <th>2</th>\n",
       "      <td>35515752</td>\n",
       "      <td>P6_CA5YJANXX.zip</td>\n",
       "      <td>/projects/proj-hoffmann_data-1128.4.49/data/P6...</td>\n",
       "      <td>27.79 GB</td>\n",
       "      <td>27790225800</td>\n",
       "      <td>P6_CA5YJANXX</td>\n",
       "    </tr>\n",
       "    <tr>\n",
       "      <th>3</th>\n",
       "      <td>35516931</td>\n",
       "      <td>QA_library9_albo_INC_DPS_BKK.zip</td>\n",
       "      <td>/projects/proj-hoffmann_data-1128.4.49/data/QA...</td>\n",
       "      <td>30.134 GB</td>\n",
       "      <td>30133670228</td>\n",
       "      <td>QA_library9_albo_INC_DPS_BKK</td>\n",
       "    </tr>\n",
       "    <tr>\n",
       "      <th>4</th>\n",
       "      <td>35535007</td>\n",
       "      <td>CairnsL1.zip</td>\n",
       "      <td>/projects/proj-hoffmann_data-1128.4.49/data/Ca...</td>\n",
       "      <td>33.758 GB</td>\n",
       "      <td>33757722857</td>\n",
       "      <td>CairnsL1</td>\n",
       "    </tr>\n",
       "  </tbody>\n",
       "</table>\n",
       "</div>"
      ],
      "text/plain": [
       "  data_asset_id                   data_asset_name  \\\n",
       "0      35512059                  P4_CA5YJANXX.zip   \n",
       "1      35512420                  P5_CA5YJANXX.zip   \n",
       "2      35515752                  P6_CA5YJANXX.zip   \n",
       "3      35516931  QA_library9_albo_INC_DPS_BKK.zip   \n",
       "4      35535007                      CairnsL1.zip   \n",
       "\n",
       "                                      data_full_path approx_size  \\\n",
       "0  /projects/proj-hoffmann_data-1128.4.49/data/P4...   28.992 GB   \n",
       "1  /projects/proj-hoffmann_data-1128.4.49/data/P5...   28.337 GB   \n",
       "2  /projects/proj-hoffmann_data-1128.4.49/data/P6...    27.79 GB   \n",
       "3  /projects/proj-hoffmann_data-1128.4.49/data/QA...   30.134 GB   \n",
       "4  /projects/proj-hoffmann_data-1128.4.49/data/Ca...   33.758 GB   \n",
       "\n",
       "  size_in_bytes                    asset_name  \n",
       "0   28992107988                  P4_CA5YJANXX  \n",
       "1   28336907055                  P5_CA5YJANXX  \n",
       "2   27790225800                  P6_CA5YJANXX  \n",
       "3   30133670228  QA_library9_albo_INC_DPS_BKK  \n",
       "4   33757722857                      CairnsL1  "
      ]
     },
     "execution_count": 42,
     "metadata": {},
     "output_type": "execute_result"
    }
   ],
   "source": [
    "tmp.head()"
   ]
  },
  {
   "cell_type": "code",
   "execution_count": 43,
   "metadata": {
    "ExecuteTime": {
     "end_time": "2018-05-30T01:22:31.006338Z",
     "start_time": "2018-05-30T01:22:30.997545Z"
    },
    "collapsed": false
   },
   "outputs": [],
   "source": [
    "# Merge with library_df\n",
    "data_libraries_df = pd.merge(left=libraries_df, right=tmp, on=\"asset_name\", how=\"outer\")"
   ]
  },
  {
   "cell_type": "markdown",
   "metadata": {},
   "source": [
    "-----\n",
    "\n",
    "# Output to file\n",
    "\n",
    "Write dataframes to files."
   ]
  },
  {
   "cell_type": "markdown",
   "metadata": {},
   "source": [
    "## Save to tsv"
   ]
  },
  {
   "cell_type": "code",
   "execution_count": 44,
   "metadata": {
    "ExecuteTime": {
     "end_time": "2018-05-30T01:22:32.805120Z",
     "start_time": "2018-05-30T01:22:32.797668Z"
    },
    "collapsed": false
   },
   "outputs": [],
   "source": [
    "data_libraries_df.to_csv(\"output/data_libraries_{}.tsv\".format(date), index=False, sep=\"\\t\", na_rep=\"NA\")"
   ]
  },
  {
   "cell_type": "code",
   "execution_count": 45,
   "metadata": {
    "ExecuteTime": {
     "end_time": "2018-05-30T01:22:33.272907Z",
     "start_time": "2018-05-30T01:22:33.249446Z"
    },
    "collapsed": true
   },
   "outputs": [],
   "source": [
    "individuals_metadata_df.to_csv(\"output/individuals_{}.tsv\".format(date), index=False, sep=\"\\t\", na_rep=\"NA\")"
   ]
  },
  {
   "cell_type": "markdown",
   "metadata": {},
   "source": [
    "## Save to xlsx"
   ]
  },
  {
   "cell_type": "code",
   "execution_count": 46,
   "metadata": {
    "ExecuteTime": {
     "end_time": "2018-05-30T01:22:34.856113Z",
     "start_time": "2018-05-30T01:22:34.304058Z"
    },
    "collapsed": false
   },
   "outputs": [],
   "source": [
    "writer = pd.ExcelWriter(\"output/mediaflux_output_{}.xlsx\".format(date))"
   ]
  },
  {
   "cell_type": "code",
   "execution_count": 47,
   "metadata": {
    "ExecuteTime": {
     "end_time": "2018-05-30T01:22:35.052114Z",
     "start_time": "2018-05-30T01:22:35.002450Z"
    },
    "collapsed": true
   },
   "outputs": [],
   "source": [
    "data_libraries_df.to_excel(writer, \"data_libraries\", index=False, na_rep=\"NA\")"
   ]
  },
  {
   "cell_type": "code",
   "execution_count": 48,
   "metadata": {
    "ExecuteTime": {
     "end_time": "2018-05-30T01:22:36.078018Z",
     "start_time": "2018-05-30T01:22:35.432410Z"
    },
    "collapsed": true
   },
   "outputs": [],
   "source": [
    "individuals_metadata_df.to_excel(writer, \"individuals\", index=False)"
   ]
  },
  {
   "cell_type": "code",
   "execution_count": 49,
   "metadata": {
    "ExecuteTime": {
     "end_time": "2018-05-30T01:22:36.911984Z",
     "start_time": "2018-05-30T01:22:36.080485Z"
    },
    "collapsed": true
   },
   "outputs": [],
   "source": [
    "writer.save()\n",
    "writer.close()"
   ]
  },
  {
   "cell_type": "markdown",
   "metadata": {
    "ExecuteTime": {
     "end_time": "2018-05-30T00:56:54.182654Z",
     "start_time": "2018-05-30T00:56:53.653960Z"
    }
   },
   "source": [
    "-----\n",
    "\n",
    "# Save query cache"
   ]
  },
  {
   "cell_type": "code",
   "execution_count": 50,
   "metadata": {
    "ExecuteTime": {
     "end_time": "2018-05-30T01:22:43.131281Z",
     "start_time": "2018-05-30T01:22:40.335905Z"
    },
    "collapsed": false
   },
   "outputs": [],
   "source": [
    "with open(\"cache_{}.pkl\".format(date), \"wb\") as f:\n",
    "    logging.info(\"Saving query cache.\")\n",
    "    pickle.dump(query_cache, f, pickle.HIGHEST_PROTOCOL)"
   ]
  },
  {
   "cell_type": "markdown",
   "metadata": {
    "collapsed": true
   },
   "source": [
    "-----\n",
    "\n",
    "# Close connection to Mediaflux"
   ]
  },
  {
   "cell_type": "code",
   "execution_count": 51,
   "metadata": {
    "ExecuteTime": {
     "end_time": "2018-05-30T01:22:46.514363Z",
     "start_time": "2018-05-30T01:22:46.454340Z"
    },
    "collapsed": true
   },
   "outputs": [],
   "source": [
    "logging.info(\"Closing connection to mediaflux.\")\n",
    "con.close()"
   ]
  },
  {
   "cell_type": "code",
   "execution_count": null,
   "metadata": {
    "collapsed": true
   },
   "outputs": [],
   "source": []
  }
 ],
 "metadata": {
  "kernelspec": {
   "display_name": "Python 2",
   "language": "python",
   "name": "python2"
  },
  "language_info": {
   "codemirror_mode": {
    "name": "ipython",
    "version": 2
   },
   "file_extension": ".py",
   "mimetype": "text/x-python",
   "name": "python",
   "nbconvert_exporter": "python",
   "pygments_lexer": "ipython2",
   "version": "2.7.13"
  },
  "toc": {
   "nav_menu": {},
   "number_sections": true,
   "sideBar": true,
   "skip_h1_title": false,
   "title_cell": "Table of Contents",
   "title_sidebar": "Contents",
   "toc_cell": true,
   "toc_position": {},
   "toc_section_display": true,
   "toc_window_display": false
  }
 },
 "nbformat": 4,
 "nbformat_minor": 2
}
