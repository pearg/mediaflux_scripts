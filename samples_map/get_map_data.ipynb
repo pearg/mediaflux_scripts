{
 "cells": [
  {
   "cell_type": "markdown",
   "metadata": {
    "toc": true
   },
   "source": [
    "<h1>Table of Contents<span class=\"tocSkip\"></span></h1>\n",
    "<div class=\"toc\"><ul class=\"toc-item\"><li><span><a href=\"#Get-map-data-for-JS-map\" data-toc-modified-id=\"Get-map-data-for-JS-map-1\"><span class=\"toc-item-num\">1&nbsp;&nbsp;</span>Get map data for JS map</a></span></li></ul></div>"
   ]
  },
  {
   "cell_type": "markdown",
   "metadata": {},
   "source": [
    "# Get map data for JS map"
   ]
  },
  {
   "cell_type": "code",
   "execution_count": 1,
   "metadata": {
    "ExecuteTime": {
     "end_time": "2018-07-10T04:17:14.105218Z",
     "start_time": "2018-07-10T04:17:13.208304Z"
    }
   },
   "outputs": [],
   "source": [
    "import pandas as pd\n",
    "import numpy as np\n",
    "import collections"
   ]
  },
  {
   "cell_type": "code",
   "execution_count": 2,
   "metadata": {
    "ExecuteTime": {
     "end_time": "2018-07-10T04:17:14.127549Z",
     "start_time": "2018-07-10T04:17:14.107790Z"
    }
   },
   "outputs": [],
   "source": [
    "data = pd.read_csv(\"../mediaflux_query_dump/output/individuals_2018-05-30.tsv\", sep=\"\\t\")"
   ]
  },
  {
   "cell_type": "code",
   "execution_count": 3,
   "metadata": {
    "ExecuteTime": {
     "end_time": "2018-07-10T04:17:14.580022Z",
     "start_time": "2018-07-10T04:17:14.559779Z"
    }
   },
   "outputs": [
    {
     "data": {
      "text/plain": [
       "Index([u'KDR_assay', u'asset_id', u'barcode_reference_list',\n",
       "       u'common_name_species', u'country', u'date_collection',\n",
       "       u'date_current_update', u'dev_stage_collected', u'dev_stage_stored',\n",
       "       u'dna_tube1_conc', u'dna_tube1_label', u'dna_tube1_location',\n",
       "       u'dna_tube2_conc', u'dna_tube2_label', u'dna_tube2_location',\n",
       "       u'individual_code', u'individual_code_alias', u'individual_description',\n",
       "       u'initial_storage_solution', u'isolate', u'isolation_source',\n",
       "       u'latitude', u'longitude', u'mol_type', u'p1_barcode_code_sequence',\n",
       "       u'p2_barcode_code_sequence', u'person_collection',\n",
       "       u'person_current_update', u'person_identified', u'publication_id',\n",
       "       u'radseq_library_alias', u'radseq_library_name',\n",
       "       u'raw_sequence_filename', u'sampling_scheme', u'sampling_type',\n",
       "       u'scientific_name_species', u'sex', u'specific_location', u'subregion',\n",
       "       u'wolbachia_assay'],\n",
       "      dtype='object')"
      ]
     },
     "execution_count": 3,
     "metadata": {},
     "output_type": "execute_result"
    }
   ],
   "source": [
    "data.columns"
   ]
  },
  {
   "cell_type": "code",
   "execution_count": 4,
   "metadata": {
    "ExecuteTime": {
     "end_time": "2018-07-10T04:17:14.932212Z",
     "start_time": "2018-07-10T04:17:14.926340Z"
    }
   },
   "outputs": [],
   "source": [
    "df = data[[\"asset_id\", \"common_name_species\", \"country\", \"specific_location\", \"latitude\", \"longitude\"]].copy()"
   ]
  },
  {
   "cell_type": "code",
   "execution_count": 5,
   "metadata": {
    "ExecuteTime": {
     "end_time": "2018-07-10T04:17:15.274775Z",
     "start_time": "2018-07-10T04:17:15.251291Z"
    }
   },
   "outputs": [
    {
     "data": {
      "text/html": [
       "<div>\n",
       "<style scoped>\n",
       "    .dataframe tbody tr th:only-of-type {\n",
       "        vertical-align: middle;\n",
       "    }\n",
       "\n",
       "    .dataframe tbody tr th {\n",
       "        vertical-align: top;\n",
       "    }\n",
       "\n",
       "    .dataframe thead th {\n",
       "        text-align: right;\n",
       "    }\n",
       "</style>\n",
       "<table border=\"1\" class=\"dataframe\">\n",
       "  <thead>\n",
       "    <tr style=\"text-align: right;\">\n",
       "      <th></th>\n",
       "      <th>asset_id</th>\n",
       "      <th>common_name_species</th>\n",
       "      <th>country</th>\n",
       "      <th>specific_location</th>\n",
       "      <th>latitude</th>\n",
       "      <th>longitude</th>\n",
       "    </tr>\n",
       "  </thead>\n",
       "  <tbody>\n",
       "    <tr>\n",
       "      <th>333</th>\n",
       "      <td>35547183</td>\n",
       "      <td>Yellow Fever Mosquito</td>\n",
       "      <td>australia</td>\n",
       "      <td>NaN</td>\n",
       "      <td>NaN</td>\n",
       "      <td>NaN</td>\n",
       "    </tr>\n",
       "    <tr>\n",
       "      <th>334</th>\n",
       "      <td>35547201</td>\n",
       "      <td>Yellow Fever Mosquito</td>\n",
       "      <td>australia</td>\n",
       "      <td>NaN</td>\n",
       "      <td>NaN</td>\n",
       "      <td>NaN</td>\n",
       "    </tr>\n",
       "    <tr>\n",
       "      <th>335</th>\n",
       "      <td>35547202</td>\n",
       "      <td>Yellow Fever Mosquito</td>\n",
       "      <td>australia</td>\n",
       "      <td>NaN</td>\n",
       "      <td>NaN</td>\n",
       "      <td>NaN</td>\n",
       "    </tr>\n",
       "    <tr>\n",
       "      <th>336</th>\n",
       "      <td>35547203</td>\n",
       "      <td>Yellow Fever Mosquito</td>\n",
       "      <td>australia</td>\n",
       "      <td>NaN</td>\n",
       "      <td>NaN</td>\n",
       "      <td>NaN</td>\n",
       "    </tr>\n",
       "    <tr>\n",
       "      <th>337</th>\n",
       "      <td>35547204</td>\n",
       "      <td>Yellow Fever Mosquito</td>\n",
       "      <td>australia</td>\n",
       "      <td>NaN</td>\n",
       "      <td>NaN</td>\n",
       "      <td>NaN</td>\n",
       "    </tr>\n",
       "  </tbody>\n",
       "</table>\n",
       "</div>"
      ],
      "text/plain": [
       "     asset_id    common_name_species    country specific_location  latitude  \\\n",
       "333  35547183  Yellow Fever Mosquito  australia               NaN       NaN   \n",
       "334  35547201  Yellow Fever Mosquito  australia               NaN       NaN   \n",
       "335  35547202  Yellow Fever Mosquito  australia               NaN       NaN   \n",
       "336  35547203  Yellow Fever Mosquito  australia               NaN       NaN   \n",
       "337  35547204  Yellow Fever Mosquito  australia               NaN       NaN   \n",
       "\n",
       "     longitude  \n",
       "333        NaN  \n",
       "334        NaN  \n",
       "335        NaN  \n",
       "336        NaN  \n",
       "337        NaN  "
      ]
     },
     "execution_count": 5,
     "metadata": {},
     "output_type": "execute_result"
    }
   ],
   "source": [
    "# Some records don't have lat/long\n",
    "missing_latlong = df[np.isnan(df[\"latitude\"]) | np.isnan(df[\"longitude\"])]\n",
    "missing_latlong.head()"
   ]
  },
  {
   "cell_type": "code",
   "execution_count": 6,
   "metadata": {
    "ExecuteTime": {
     "end_time": "2018-07-10T04:17:15.535659Z",
     "start_time": "2018-07-10T04:17:15.529563Z"
    }
   },
   "outputs": [
    {
     "data": {
      "text/plain": [
       "Counter({'australia': 67, 'brazil': 50, 'vietnam': 99})"
      ]
     },
     "execution_count": 6,
     "metadata": {},
     "output_type": "execute_result"
    }
   ],
   "source": [
    "# Which countries?\n",
    "collections.Counter(missing_latlong[\"country\"])"
   ]
  },
  {
   "cell_type": "code",
   "execution_count": 7,
   "metadata": {
    "ExecuteTime": {
     "end_time": "2018-07-10T04:17:15.773997Z",
     "start_time": "2018-07-10T04:17:15.766349Z"
    }
   },
   "outputs": [
    {
     "data": {
      "text/plain": [
       "Counter({nan: 216})"
      ]
     },
     "execution_count": 7,
     "metadata": {},
     "output_type": "execute_result"
    }
   ],
   "source": [
    "# Specific locations?\n",
    "collections.Counter(missing_latlong[\"specific_location\"])"
   ]
  },
  {
   "cell_type": "code",
   "execution_count": 8,
   "metadata": {
    "ExecuteTime": {
     "end_time": "2018-07-10T04:17:16.027361Z",
     "start_time": "2018-07-10T04:17:16.023856Z"
    }
   },
   "outputs": [],
   "source": [
    "# If missing lat/long, use values from:\n",
    "# https://developers.google.com/public-data/docs/canonical/countries_csv"
   ]
  },
  {
   "cell_type": "code",
   "execution_count": 9,
   "metadata": {
    "ExecuteTime": {
     "end_time": "2018-07-10T04:17:16.427329Z",
     "start_time": "2018-07-10T04:17:16.408698Z"
    }
   },
   "outputs": [
    {
     "data": {
      "text/html": [
       "<div>\n",
       "<style scoped>\n",
       "    .dataframe tbody tr th:only-of-type {\n",
       "        vertical-align: middle;\n",
       "    }\n",
       "\n",
       "    .dataframe tbody tr th {\n",
       "        vertical-align: top;\n",
       "    }\n",
       "\n",
       "    .dataframe thead th {\n",
       "        text-align: right;\n",
       "    }\n",
       "</style>\n",
       "<table border=\"1\" class=\"dataframe\">\n",
       "  <thead>\n",
       "    <tr style=\"text-align: right;\">\n",
       "      <th></th>\n",
       "      <th>country</th>\n",
       "      <th>latitude</th>\n",
       "      <th>longitude</th>\n",
       "      <th>name</th>\n",
       "    </tr>\n",
       "  </thead>\n",
       "  <tbody>\n",
       "    <tr>\n",
       "      <th>0</th>\n",
       "      <td>AD</td>\n",
       "      <td>42.546245</td>\n",
       "      <td>1.601554</td>\n",
       "      <td>Andorra</td>\n",
       "    </tr>\n",
       "    <tr>\n",
       "      <th>1</th>\n",
       "      <td>AE</td>\n",
       "      <td>23.424076</td>\n",
       "      <td>53.847818</td>\n",
       "      <td>United Arab Emirates</td>\n",
       "    </tr>\n",
       "    <tr>\n",
       "      <th>2</th>\n",
       "      <td>AF</td>\n",
       "      <td>33.939110</td>\n",
       "      <td>67.709953</td>\n",
       "      <td>Afghanistan</td>\n",
       "    </tr>\n",
       "    <tr>\n",
       "      <th>3</th>\n",
       "      <td>AG</td>\n",
       "      <td>17.060816</td>\n",
       "      <td>-61.796428</td>\n",
       "      <td>Antigua and Barbuda</td>\n",
       "    </tr>\n",
       "    <tr>\n",
       "      <th>4</th>\n",
       "      <td>AI</td>\n",
       "      <td>18.220554</td>\n",
       "      <td>-63.068615</td>\n",
       "      <td>Anguilla</td>\n",
       "    </tr>\n",
       "  </tbody>\n",
       "</table>\n",
       "</div>"
      ],
      "text/plain": [
       "  country   latitude  longitude                  name\n",
       "0      AD  42.546245   1.601554               Andorra\n",
       "1      AE  23.424076  53.847818  United Arab Emirates\n",
       "2      AF  33.939110  67.709953           Afghanistan\n",
       "3      AG  17.060816 -61.796428   Antigua and Barbuda\n",
       "4      AI  18.220554 -63.068615              Anguilla"
      ]
     },
     "execution_count": 9,
     "metadata": {},
     "output_type": "execute_result"
    }
   ],
   "source": [
    "countries_latlong = pd.read_csv(\"countries.csv\")\n",
    "countries_latlong.head()"
   ]
  },
  {
   "cell_type": "code",
   "execution_count": 10,
   "metadata": {
    "ExecuteTime": {
     "end_time": "2018-07-10T04:17:16.719002Z",
     "start_time": "2018-07-10T04:17:16.711349Z"
    }
   },
   "outputs": [],
   "source": [
    "# Change name column to be lower case\n",
    "countries_latlong[\"name\"] = [x.lower() for x in list(countries_latlong[\"name\"])]"
   ]
  },
  {
   "cell_type": "code",
   "execution_count": 11,
   "metadata": {
    "ExecuteTime": {
     "end_time": "2018-07-10T04:17:17.001902Z",
     "start_time": "2018-07-10T04:17:16.991592Z"
    }
   },
   "outputs": [
    {
     "name": "stdout",
     "output_type": "stream",
     "text": [
      "brazil: OK\n",
      "australia: OK\n",
      "vietnam: OK\n"
     ]
    }
   ],
   "source": [
    "# Check all countries with missing lat/long can be found in the list\n",
    "countries = collections.Counter(missing_latlong[\"country\"]).keys()\n",
    "for country in countries:\n",
    "    if country in list(countries_latlong[\"name\"]):\n",
    "        print(country + \": OK\")\n",
    "    else:\n",
    "        print(country + \": MISSING\")"
   ]
  },
  {
   "cell_type": "code",
   "execution_count": 12,
   "metadata": {
    "ExecuteTime": {
     "end_time": "2018-07-10T04:17:17.757234Z",
     "start_time": "2018-07-10T04:17:17.277084Z"
    }
   },
   "outputs": [],
   "source": [
    "for i in df.index:\n",
    "    if np.isnan(df[\"latitude\"].loc[i]) or np.isnan(df[\"longitude\"].loc[i]):\n",
    "        country = df[\"country\"].loc[i]\n",
    "        lat = countries_latlong[countries_latlong[\"name\"] == country][\"latitude\"].values[0]\n",
    "        lng = countries_latlong[countries_latlong[\"name\"] == country][\"longitude\"].values[0]\n",
    "        df.loc[i,\"latitude\"] = lat\n",
    "        df.loc[i,\"longitude\"] = lng"
   ]
  },
  {
   "cell_type": "code",
   "execution_count": 13,
   "metadata": {
    "ExecuteTime": {
     "end_time": "2018-07-10T04:17:17.763733Z",
     "start_time": "2018-07-10T04:17:17.759366Z"
    }
   },
   "outputs": [],
   "source": [
    "# Create column for popup text in map\n",
    "# Change asset_id to string\n",
    "df[\"asset_id_str\"] = [\"({})\".format(x) for x in list(df[\"asset_id\"])]"
   ]
  },
  {
   "cell_type": "code",
   "execution_count": 14,
   "metadata": {
    "ExecuteTime": {
     "end_time": "2018-07-10T04:17:17.882034Z",
     "start_time": "2018-07-10T04:17:17.862042Z"
    }
   },
   "outputs": [
    {
     "data": {
      "text/html": [
       "<div>\n",
       "<style scoped>\n",
       "    .dataframe tbody tr th:only-of-type {\n",
       "        vertical-align: middle;\n",
       "    }\n",
       "\n",
       "    .dataframe tbody tr th {\n",
       "        vertical-align: top;\n",
       "    }\n",
       "\n",
       "    .dataframe thead th {\n",
       "        text-align: right;\n",
       "    }\n",
       "</style>\n",
       "<table border=\"1\" class=\"dataframe\">\n",
       "  <thead>\n",
       "    <tr style=\"text-align: right;\">\n",
       "      <th></th>\n",
       "      <th>asset_id</th>\n",
       "      <th>common_name_species</th>\n",
       "      <th>country</th>\n",
       "      <th>specific_location</th>\n",
       "      <th>latitude</th>\n",
       "      <th>longitude</th>\n",
       "      <th>asset_id_str</th>\n",
       "    </tr>\n",
       "  </thead>\n",
       "  <tbody>\n",
       "    <tr>\n",
       "      <th>0</th>\n",
       "      <td>35280960</td>\n",
       "      <td>Asian Tiger Mosquito</td>\n",
       "      <td>China</td>\n",
       "      <td>Jiuwei Village</td>\n",
       "      <td>23.106714</td>\n",
       "      <td>113.445278</td>\n",
       "      <td>(35280960)</td>\n",
       "    </tr>\n",
       "    <tr>\n",
       "      <th>1</th>\n",
       "      <td>35281030</td>\n",
       "      <td>Asian Tiger Mosquito</td>\n",
       "      <td>China</td>\n",
       "      <td>Jiuwei Village</td>\n",
       "      <td>23.106714</td>\n",
       "      <td>113.445278</td>\n",
       "      <td>(35281030)</td>\n",
       "    </tr>\n",
       "    <tr>\n",
       "      <th>2</th>\n",
       "      <td>35281033</td>\n",
       "      <td>Asian Tiger Mosquito</td>\n",
       "      <td>China</td>\n",
       "      <td>Jiuwei Village</td>\n",
       "      <td>23.106714</td>\n",
       "      <td>113.445278</td>\n",
       "      <td>(35281033)</td>\n",
       "    </tr>\n",
       "    <tr>\n",
       "      <th>3</th>\n",
       "      <td>35281798</td>\n",
       "      <td>Asian Tiger Mosquito</td>\n",
       "      <td>China</td>\n",
       "      <td>Jiuwei Village</td>\n",
       "      <td>23.106714</td>\n",
       "      <td>113.445278</td>\n",
       "      <td>(35281798)</td>\n",
       "    </tr>\n",
       "    <tr>\n",
       "      <th>4</th>\n",
       "      <td>35282328</td>\n",
       "      <td>Asian Tiger Mosquito</td>\n",
       "      <td>China</td>\n",
       "      <td>Jiuwei Village</td>\n",
       "      <td>23.106714</td>\n",
       "      <td>113.445278</td>\n",
       "      <td>(35282328)</td>\n",
       "    </tr>\n",
       "  </tbody>\n",
       "</table>\n",
       "</div>"
      ],
      "text/plain": [
       "   asset_id   common_name_species country specific_location   latitude  \\\n",
       "0  35280960  Asian Tiger Mosquito   China    Jiuwei Village  23.106714   \n",
       "1  35281030  Asian Tiger Mosquito   China    Jiuwei Village  23.106714   \n",
       "2  35281033  Asian Tiger Mosquito   China    Jiuwei Village  23.106714   \n",
       "3  35281798  Asian Tiger Mosquito   China    Jiuwei Village  23.106714   \n",
       "4  35282328  Asian Tiger Mosquito   China    Jiuwei Village  23.106714   \n",
       "\n",
       "    longitude asset_id_str  \n",
       "0  113.445278   (35280960)  \n",
       "1  113.445278   (35281030)  \n",
       "2  113.445278   (35281033)  \n",
       "3  113.445278   (35281798)  \n",
       "4  113.445278   (35282328)  "
      ]
     },
     "execution_count": 14,
     "metadata": {},
     "output_type": "execute_result"
    }
   ],
   "source": [
    "df.head()"
   ]
  },
  {
   "cell_type": "code",
   "execution_count": 15,
   "metadata": {
    "ExecuteTime": {
     "end_time": "2018-07-10T04:17:18.184860Z",
     "start_time": "2018-07-10T04:17:18.175494Z"
    }
   },
   "outputs": [],
   "source": [
    "df[\"text\"] = df[\"common_name_species\"] + \" \" + df[\"asset_id_str\"]"
   ]
  },
  {
   "cell_type": "code",
   "execution_count": 16,
   "metadata": {
    "ExecuteTime": {
     "end_time": "2018-07-10T04:17:18.506349Z",
     "start_time": "2018-07-10T04:17:18.482276Z"
    }
   },
   "outputs": [
    {
     "data": {
      "text/html": [
       "<div>\n",
       "<style scoped>\n",
       "    .dataframe tbody tr th:only-of-type {\n",
       "        vertical-align: middle;\n",
       "    }\n",
       "\n",
       "    .dataframe tbody tr th {\n",
       "        vertical-align: top;\n",
       "    }\n",
       "\n",
       "    .dataframe thead th {\n",
       "        text-align: right;\n",
       "    }\n",
       "</style>\n",
       "<table border=\"1\" class=\"dataframe\">\n",
       "  <thead>\n",
       "    <tr style=\"text-align: right;\">\n",
       "      <th></th>\n",
       "      <th>asset_id</th>\n",
       "      <th>common_name_species</th>\n",
       "      <th>country</th>\n",
       "      <th>specific_location</th>\n",
       "      <th>latitude</th>\n",
       "      <th>longitude</th>\n",
       "      <th>asset_id_str</th>\n",
       "      <th>text</th>\n",
       "    </tr>\n",
       "  </thead>\n",
       "  <tbody>\n",
       "    <tr>\n",
       "      <th>0</th>\n",
       "      <td>35280960</td>\n",
       "      <td>Asian Tiger Mosquito</td>\n",
       "      <td>China</td>\n",
       "      <td>Jiuwei Village</td>\n",
       "      <td>23.106714</td>\n",
       "      <td>113.445278</td>\n",
       "      <td>(35280960)</td>\n",
       "      <td>Asian Tiger Mosquito (35280960)</td>\n",
       "    </tr>\n",
       "    <tr>\n",
       "      <th>1</th>\n",
       "      <td>35281030</td>\n",
       "      <td>Asian Tiger Mosquito</td>\n",
       "      <td>China</td>\n",
       "      <td>Jiuwei Village</td>\n",
       "      <td>23.106714</td>\n",
       "      <td>113.445278</td>\n",
       "      <td>(35281030)</td>\n",
       "      <td>Asian Tiger Mosquito (35281030)</td>\n",
       "    </tr>\n",
       "    <tr>\n",
       "      <th>2</th>\n",
       "      <td>35281033</td>\n",
       "      <td>Asian Tiger Mosquito</td>\n",
       "      <td>China</td>\n",
       "      <td>Jiuwei Village</td>\n",
       "      <td>23.106714</td>\n",
       "      <td>113.445278</td>\n",
       "      <td>(35281033)</td>\n",
       "      <td>Asian Tiger Mosquito (35281033)</td>\n",
       "    </tr>\n",
       "    <tr>\n",
       "      <th>3</th>\n",
       "      <td>35281798</td>\n",
       "      <td>Asian Tiger Mosquito</td>\n",
       "      <td>China</td>\n",
       "      <td>Jiuwei Village</td>\n",
       "      <td>23.106714</td>\n",
       "      <td>113.445278</td>\n",
       "      <td>(35281798)</td>\n",
       "      <td>Asian Tiger Mosquito (35281798)</td>\n",
       "    </tr>\n",
       "    <tr>\n",
       "      <th>4</th>\n",
       "      <td>35282328</td>\n",
       "      <td>Asian Tiger Mosquito</td>\n",
       "      <td>China</td>\n",
       "      <td>Jiuwei Village</td>\n",
       "      <td>23.106714</td>\n",
       "      <td>113.445278</td>\n",
       "      <td>(35282328)</td>\n",
       "      <td>Asian Tiger Mosquito (35282328)</td>\n",
       "    </tr>\n",
       "  </tbody>\n",
       "</table>\n",
       "</div>"
      ],
      "text/plain": [
       "   asset_id   common_name_species country specific_location   latitude  \\\n",
       "0  35280960  Asian Tiger Mosquito   China    Jiuwei Village  23.106714   \n",
       "1  35281030  Asian Tiger Mosquito   China    Jiuwei Village  23.106714   \n",
       "2  35281033  Asian Tiger Mosquito   China    Jiuwei Village  23.106714   \n",
       "3  35281798  Asian Tiger Mosquito   China    Jiuwei Village  23.106714   \n",
       "4  35282328  Asian Tiger Mosquito   China    Jiuwei Village  23.106714   \n",
       "\n",
       "    longitude asset_id_str                             text  \n",
       "0  113.445278   (35280960)  Asian Tiger Mosquito (35280960)  \n",
       "1  113.445278   (35281030)  Asian Tiger Mosquito (35281030)  \n",
       "2  113.445278   (35281033)  Asian Tiger Mosquito (35281033)  \n",
       "3  113.445278   (35281798)  Asian Tiger Mosquito (35281798)  \n",
       "4  113.445278   (35282328)  Asian Tiger Mosquito (35282328)  "
      ]
     },
     "execution_count": 16,
     "metadata": {},
     "output_type": "execute_result"
    }
   ],
   "source": [
    "df.head()"
   ]
  },
  {
   "cell_type": "code",
   "execution_count": 17,
   "metadata": {
    "ExecuteTime": {
     "end_time": "2018-07-10T04:17:18.799257Z",
     "start_time": "2018-07-10T04:17:18.791553Z"
    }
   },
   "outputs": [],
   "source": [
    "# Round latitude and longitude to three decimal places to preserve some anonymity\n",
    "# since some coordinates pinpoint particular buildings\n",
    "df[\"latitude\"] = [round(x, 3) for x in list(df[\"latitude\"])]\n",
    "df[\"longitude\"] = [round(x, 3) for x in list(df[\"longitude\"])]"
   ]
  },
  {
   "cell_type": "code",
   "execution_count": 18,
   "metadata": {
    "ExecuteTime": {
     "end_time": "2018-07-10T04:17:19.254676Z",
     "start_time": "2018-07-10T04:17:19.229704Z"
    }
   },
   "outputs": [
    {
     "data": {
      "text/html": [
       "<div>\n",
       "<style scoped>\n",
       "    .dataframe tbody tr th:only-of-type {\n",
       "        vertical-align: middle;\n",
       "    }\n",
       "\n",
       "    .dataframe tbody tr th {\n",
       "        vertical-align: top;\n",
       "    }\n",
       "\n",
       "    .dataframe thead th {\n",
       "        text-align: right;\n",
       "    }\n",
       "</style>\n",
       "<table border=\"1\" class=\"dataframe\">\n",
       "  <thead>\n",
       "    <tr style=\"text-align: right;\">\n",
       "      <th></th>\n",
       "      <th>asset_id</th>\n",
       "      <th>common_name_species</th>\n",
       "      <th>country</th>\n",
       "      <th>specific_location</th>\n",
       "      <th>latitude</th>\n",
       "      <th>longitude</th>\n",
       "      <th>asset_id_str</th>\n",
       "      <th>text</th>\n",
       "    </tr>\n",
       "  </thead>\n",
       "  <tbody>\n",
       "    <tr>\n",
       "      <th>0</th>\n",
       "      <td>35280960</td>\n",
       "      <td>Asian Tiger Mosquito</td>\n",
       "      <td>China</td>\n",
       "      <td>Jiuwei Village</td>\n",
       "      <td>23.107</td>\n",
       "      <td>113.445</td>\n",
       "      <td>(35280960)</td>\n",
       "      <td>Asian Tiger Mosquito (35280960)</td>\n",
       "    </tr>\n",
       "    <tr>\n",
       "      <th>1</th>\n",
       "      <td>35281030</td>\n",
       "      <td>Asian Tiger Mosquito</td>\n",
       "      <td>China</td>\n",
       "      <td>Jiuwei Village</td>\n",
       "      <td>23.107</td>\n",
       "      <td>113.445</td>\n",
       "      <td>(35281030)</td>\n",
       "      <td>Asian Tiger Mosquito (35281030)</td>\n",
       "    </tr>\n",
       "    <tr>\n",
       "      <th>2</th>\n",
       "      <td>35281033</td>\n",
       "      <td>Asian Tiger Mosquito</td>\n",
       "      <td>China</td>\n",
       "      <td>Jiuwei Village</td>\n",
       "      <td>23.107</td>\n",
       "      <td>113.445</td>\n",
       "      <td>(35281033)</td>\n",
       "      <td>Asian Tiger Mosquito (35281033)</td>\n",
       "    </tr>\n",
       "    <tr>\n",
       "      <th>3</th>\n",
       "      <td>35281798</td>\n",
       "      <td>Asian Tiger Mosquito</td>\n",
       "      <td>China</td>\n",
       "      <td>Jiuwei Village</td>\n",
       "      <td>23.107</td>\n",
       "      <td>113.445</td>\n",
       "      <td>(35281798)</td>\n",
       "      <td>Asian Tiger Mosquito (35281798)</td>\n",
       "    </tr>\n",
       "    <tr>\n",
       "      <th>4</th>\n",
       "      <td>35282328</td>\n",
       "      <td>Asian Tiger Mosquito</td>\n",
       "      <td>China</td>\n",
       "      <td>Jiuwei Village</td>\n",
       "      <td>23.107</td>\n",
       "      <td>113.445</td>\n",
       "      <td>(35282328)</td>\n",
       "      <td>Asian Tiger Mosquito (35282328)</td>\n",
       "    </tr>\n",
       "  </tbody>\n",
       "</table>\n",
       "</div>"
      ],
      "text/plain": [
       "   asset_id   common_name_species country specific_location  latitude  \\\n",
       "0  35280960  Asian Tiger Mosquito   China    Jiuwei Village    23.107   \n",
       "1  35281030  Asian Tiger Mosquito   China    Jiuwei Village    23.107   \n",
       "2  35281033  Asian Tiger Mosquito   China    Jiuwei Village    23.107   \n",
       "3  35281798  Asian Tiger Mosquito   China    Jiuwei Village    23.107   \n",
       "4  35282328  Asian Tiger Mosquito   China    Jiuwei Village    23.107   \n",
       "\n",
       "   longitude asset_id_str                             text  \n",
       "0    113.445   (35280960)  Asian Tiger Mosquito (35280960)  \n",
       "1    113.445   (35281030)  Asian Tiger Mosquito (35281030)  \n",
       "2    113.445   (35281033)  Asian Tiger Mosquito (35281033)  \n",
       "3    113.445   (35281798)  Asian Tiger Mosquito (35281798)  \n",
       "4    113.445   (35282328)  Asian Tiger Mosquito (35282328)  "
      ]
     },
     "execution_count": 18,
     "metadata": {},
     "output_type": "execute_result"
    }
   ],
   "source": [
    "df.head()"
   ]
  },
  {
   "cell_type": "code",
   "execution_count": 19,
   "metadata": {
    "ExecuteTime": {
     "end_time": "2018-07-10T04:17:19.676029Z",
     "start_time": "2018-07-10T04:17:19.639759Z"
    }
   },
   "outputs": [],
   "source": [
    "# Convert to list of objects\n",
    "json = []\n",
    "for i in df.index:\n",
    "    json.append('{\"latlng\":[%.03f,%.03f],\"text\":\"%s\"}' % \n",
    "                (df.loc[i,\"latitude\"], df.loc[i,\"longitude\"], df.loc[i,\"text\"]))"
   ]
  },
  {
   "cell_type": "code",
   "execution_count": 20,
   "metadata": {
    "ExecuteTime": {
     "end_time": "2018-07-10T04:17:20.496417Z",
     "start_time": "2018-07-10T04:17:20.490417Z"
    }
   },
   "outputs": [
    {
     "data": {
      "text/plain": [
       "['{\"latlng\":[23.107,113.445],\"text\":\"Asian Tiger Mosquito (35280960)\"}',\n",
       " '{\"latlng\":[23.107,113.445],\"text\":\"Asian Tiger Mosquito (35281030)\"}',\n",
       " '{\"latlng\":[23.107,113.445],\"text\":\"Asian Tiger Mosquito (35281033)\"}',\n",
       " '{\"latlng\":[23.107,113.445],\"text\":\"Asian Tiger Mosquito (35281798)\"}',\n",
       " '{\"latlng\":[23.107,113.445],\"text\":\"Asian Tiger Mosquito (35282328)\"}']"
      ]
     },
     "execution_count": 20,
     "metadata": {},
     "output_type": "execute_result"
    }
   ],
   "source": [
    "json[:5]"
   ]
  },
  {
   "cell_type": "code",
   "execution_count": 21,
   "metadata": {
    "ExecuteTime": {
     "end_time": "2018-07-10T04:17:21.278234Z",
     "start_time": "2018-07-10T04:17:21.274480Z"
    }
   },
   "outputs": [],
   "source": [
    "# Convert to string\n",
    "js_string_array = \"var sampleData = [{}]\".format(\", \".join(json))"
   ]
  },
  {
   "cell_type": "code",
   "execution_count": 22,
   "metadata": {
    "ExecuteTime": {
     "end_time": "2018-07-10T04:17:22.875420Z",
     "start_time": "2018-07-10T04:17:22.871145Z"
    }
   },
   "outputs": [],
   "source": [
    "# js_string_array"
   ]
  },
  {
   "cell_type": "code",
   "execution_count": 23,
   "metadata": {
    "ExecuteTime": {
     "end_time": "2018-07-10T04:17:23.979248Z",
     "start_time": "2018-07-10T04:17:23.966782Z"
    }
   },
   "outputs": [],
   "source": [
    "# Save JSON\n",
    "df[[\"text\", \"latitude\", \"longitude\"]].to_json(\"resources/data/data.json\")"
   ]
  },
  {
   "cell_type": "code",
   "execution_count": null,
   "metadata": {
    "collapsed": true
   },
   "outputs": [],
   "source": []
  }
 ],
 "metadata": {
  "kernelspec": {
   "display_name": "Python 2",
   "language": "python",
   "name": "python2"
  },
  "language_info": {
   "codemirror_mode": {
    "name": "ipython",
    "version": 2
   },
   "file_extension": ".py",
   "mimetype": "text/x-python",
   "name": "python",
   "nbconvert_exporter": "python",
   "pygments_lexer": "ipython2",
   "version": "2.7.13"
  },
  "toc": {
   "nav_menu": {},
   "number_sections": true,
   "sideBar": true,
   "skip_h1_title": false,
   "title_cell": "Table of Contents",
   "title_sidebar": "Contents",
   "toc_cell": true,
   "toc_position": {},
   "toc_section_display": true,
   "toc_window_display": false
  }
 },
 "nbformat": 4,
 "nbformat_minor": 2
}
