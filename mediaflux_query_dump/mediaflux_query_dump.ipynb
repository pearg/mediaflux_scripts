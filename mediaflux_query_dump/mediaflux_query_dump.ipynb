{
 "cells": [
  {
   "cell_type": "markdown",
   "metadata": {
    "toc": true
   },
   "source": [
    "<h1>Table of Contents<span class=\"tocSkip\"></span></h1>\n",
    "<div class=\"toc\"><ul class=\"toc-item\"><li><span><a href=\"#Mediaflux-query-dump\" data-toc-modified-id=\"Mediaflux-query-dump-1\"><span class=\"toc-item-num\">1&nbsp;&nbsp;</span>Mediaflux query dump</a></span></li><li><span><a href=\"#Connect-to-MF-server\" data-toc-modified-id=\"Connect-to-MF-server-2\"><span class=\"toc-item-num\">2&nbsp;&nbsp;</span>Connect to MF server</a></span></li><li><span><a href=\"#Find-assets-in-Mediaflux\" data-toc-modified-id=\"Find-assets-in-Mediaflux-3\"><span class=\"toc-item-num\">3&nbsp;&nbsp;</span>Find assets in Mediaflux</a></span></li><li><span><a href=\"#Get-metadata-documents\" data-toc-modified-id=\"Get-metadata-documents-4\"><span class=\"toc-item-num\">4&nbsp;&nbsp;</span>Get metadata documents</a></span></li><li><span><a href=\"#For-each-asset,-get-metadata\" data-toc-modified-id=\"For-each-asset,-get-metadata-5\"><span class=\"toc-item-num\">5&nbsp;&nbsp;</span>For each asset, get metadata</a></span><ul class=\"toc-item\"><li><span><a href=\"#Data\" data-toc-modified-id=\"Data-5.1\"><span class=\"toc-item-num\">5.1&nbsp;&nbsp;</span>Data</a></span></li><li><span><a href=\"#Libraries\" data-toc-modified-id=\"Libraries-5.2\"><span class=\"toc-item-num\">5.2&nbsp;&nbsp;</span>Libraries</a></span></li><li><span><a href=\"#Individuals\" data-toc-modified-id=\"Individuals-5.3\"><span class=\"toc-item-num\">5.3&nbsp;&nbsp;</span>Individuals</a></span></li></ul></li><li><span><a href=\"#Get-library-archive-size-from-data-dataframe\" data-toc-modified-id=\"Get-library-archive-size-from-data-dataframe-6\"><span class=\"toc-item-num\">6&nbsp;&nbsp;</span>Get library archive size from data dataframe</a></span></li><li><span><a href=\"#Output-to-file\" data-toc-modified-id=\"Output-to-file-7\"><span class=\"toc-item-num\">7&nbsp;&nbsp;</span>Output to file</a></span><ul class=\"toc-item\"><li><span><a href=\"#Save-to-tsv\" data-toc-modified-id=\"Save-to-tsv-7.1\"><span class=\"toc-item-num\">7.1&nbsp;&nbsp;</span>Save to tsv</a></span></li><li><span><a href=\"#Save-to-xlsx\" data-toc-modified-id=\"Save-to-xlsx-7.2\"><span class=\"toc-item-num\">7.2&nbsp;&nbsp;</span>Save to xlsx</a></span></li></ul></li><li><span><a href=\"#Save-query-cache\" data-toc-modified-id=\"Save-query-cache-8\"><span class=\"toc-item-num\">8&nbsp;&nbsp;</span>Save query cache</a></span></li><li><span><a href=\"#Close-connection-to-Mediaflux\" data-toc-modified-id=\"Close-connection-to-Mediaflux-9\"><span class=\"toc-item-num\">9&nbsp;&nbsp;</span>Close connection to Mediaflux</a></span></li></ul></div>"
   ]
  },
  {
   "cell_type": "code",
   "execution_count": 1,
   "metadata": {
    "ExecuteTime": {
     "end_time": "2021-01-25T00:19:02.186216Z",
     "start_time": "2021-01-25T00:19:02.177331Z"
    }
   },
   "outputs": [],
   "source": [
    "date = \"2022-07-25\"\n",
    "load_cache = True\n",
    "max_retry = 3"
   ]
  },
  {
   "cell_type": "code",
   "execution_count": 2,
   "metadata": {
    "ExecuteTime": {
     "end_time": "2021-01-25T00:19:02.897910Z",
     "start_time": "2021-01-25T00:19:02.894004Z"
    }
   },
   "outputs": [],
   "source": [
    "# TODO: Get metadata documents and check max occurrences for each field is 1"
   ]
  },
  {
   "cell_type": "markdown",
   "metadata": {},
   "source": [
    "-----\n",
    "\n",
    "# Mediaflux query dump\n",
    "\n",
    "Get all assets in the `proj-hoffmann_data-1128.4.49` project. Extract all metadata into dataframes and output to files.\n"
   ]
  },
  {
   "cell_type": "code",
   "execution_count": 3,
   "metadata": {
    "ExecuteTime": {
     "end_time": "2021-01-25T00:19:07.566983Z",
     "start_time": "2021-01-25T00:19:07.023302Z"
    }
   },
   "outputs": [],
   "source": [
    "import sys\n",
    "import logging\n",
    "import pandas as pd\n",
    "import random\n",
    "import re\n",
    "import os\n",
    "import datetime\n",
    "import time\n",
    "import collections\n",
    "import pickle\n",
    "from cryptography.fernet import Fernet"
   ]
  },
  {
   "cell_type": "code",
   "execution_count": 4,
   "metadata": {
    "ExecuteTime": {
     "end_time": "2021-01-25T00:19:08.219285Z",
     "start_time": "2021-01-25T00:19:08.205318Z"
    }
   },
   "outputs": [],
   "source": [
    "sys.path.insert(0, '../python-mfclient/src')\n",
    "import mfclient"
   ]
  },
  {
   "cell_type": "code",
   "execution_count": 5,
   "metadata": {
    "ExecuteTime": {
     "end_time": "2021-01-25T00:19:09.403237Z",
     "start_time": "2021-01-25T00:19:09.394624Z"
    }
   },
   "outputs": [],
   "source": [
    "# Set up logging\n",
    "logging.basicConfig(\n",
    "    filename=\"mf_{}.log\".format(date),\n",
    "    level=logging.DEBUG,\n",
    "    filemode=\"a\",\n",
    "    format='%(asctime)s %(levelname)s - %(message)s',\n",
    "    datefmt='%m-%d-%Y %H:%M:%S')"
   ]
  },
  {
   "cell_type": "code",
   "execution_count": 6,
   "metadata": {
    "ExecuteTime": {
     "end_time": "2021-01-25T00:19:11.103972Z",
     "start_time": "2021-01-25T00:19:11.094507Z"
    }
   },
   "outputs": [],
   "source": [
    "# Save all Mediaflux get queries in cache\n",
    "cache_filename = \"cache_{}.pkl\".format(date)\n",
    "if load_cache and os.path.exists(cache_filename):\n",
    "    logging.info(\"Loading query cache from file: {}\".format(cache_filename))\n",
    "    query_cache = pickle.load(open(cache_filename, \"rb\"))\n",
    "else:\n",
    "    query_cache = {}"
   ]
  },
  {
   "cell_type": "code",
   "execution_count": 7,
   "metadata": {
    "ExecuteTime": {
     "end_time": "2021-01-25T00:19:11.517975Z",
     "start_time": "2021-01-25T00:19:11.502771Z"
    }
   },
   "outputs": [],
   "source": [
    "def get_asset(asset_id):\n",
    "    if asset_id in query_cache:\n",
    "        logging.info(\"Retrieving {} from cache\".format(asset_id))\n",
    "        return query_cache[asset_id]\n",
    "    logging.info(\"Getting asset info for {}.\".format(asset_id))\n",
    "    args = mfclient.XmlStringWriter(\"args\")\n",
    "    args.add(\"id\", asset_id)\n",
    "    query = con.execute(\"asset.get\", args.doc_text())\n",
    "    query_cache[asset_id] = query\n",
    "    return query"
   ]
  },
  {
   "cell_type": "markdown",
   "metadata": {},
   "source": [
    "-----\n",
    "\n",
    "# Connect to MF server"
   ]
  },
  {
   "cell_type": "markdown",
   "metadata": {},
   "source": [
    "Generate your encrypted password with the script in `../encrypt_password`. Alternatively, you can delete the next two code blocks and read in your password inside a file if it's not encrypted, or just set your password in `MF_PASSWORD` (not recommended)."
   ]
  },
  {
   "cell_type": "code",
   "execution_count": 8,
   "metadata": {
    "ExecuteTime": {
     "end_time": "2021-01-25T00:19:17.041482Z",
     "start_time": "2021-01-25T00:19:17.032773Z"
    }
   },
   "outputs": [],
   "source": [
    "with open(\"/Users/jess/.ssh/mf_keys/key\") as f:\n",
    "    key = f.read()\n",
    "with open(\"/Users/jess/.ssh/mf_keys/pw\") as f:\n",
    "    encrypted_pw = f.read()"
   ]
  },
  {
   "cell_type": "code",
   "execution_count": 9,
   "metadata": {
    "ExecuteTime": {
     "end_time": "2021-01-25T00:19:17.529692Z",
     "start_time": "2021-01-25T00:19:17.515995Z"
    }
   },
   "outputs": [],
   "source": [
    "f = Fernet(str.encode(key))\n",
    "pw = f.decrypt(str.encode(encrypted_pw))"
   ]
  },
  {
   "cell_type": "code",
   "execution_count": 10,
   "metadata": {
    "ExecuteTime": {
     "end_time": "2021-01-25T00:19:18.020934Z",
     "start_time": "2021-01-25T00:19:18.014975Z"
    }
   },
   "outputs": [],
   "source": [
    "MF_HOST = \"mediaflux.researchsoftware.unimelb.edu.au\"\n",
    "MF_PORT = 443\n",
    "MF_TRANSPORT = \"https\"\n",
    "MF_DOMAIN = \"unimelb\"\n",
    "MF_USER = \"jessicac\"\n",
    "MF_PASSWORD = pw.decode()"
   ]
  },
  {
   "cell_type": "code",
   "execution_count": 11,
   "metadata": {
    "ExecuteTime": {
     "end_time": "2021-01-25T00:19:18.752735Z",
     "start_time": "2021-01-25T00:19:18.745114Z"
    },
    "tags": []
   },
   "outputs": [],
   "source": [
    "con = mfclient.MFConnection(host=MF_HOST,\n",
    "                            port=MF_PORT,\n",
    "                            transport=MF_TRANSPORT,\n",
    "                            domain=MF_DOMAIN,\n",
    "                            user=MF_USER,\n",
    "                            password=MF_PASSWORD)"
   ]
  },
  {
   "cell_type": "code",
   "execution_count": 12,
   "metadata": {
    "ExecuteTime": {
     "end_time": "2021-01-25T00:19:19.865267Z",
     "start_time": "2021-01-25T00:19:19.621893Z"
    },
    "tags": []
   },
   "outputs": [],
   "source": [
    "logging.info(\"Connecting to mediaflux.\")\n",
    "con.open()\n",
    "result = con.execute(\"server.version\")"
   ]
  },
  {
   "cell_type": "code",
   "execution_count": 13,
   "metadata": {
    "ExecuteTime": {
     "end_time": "2021-01-25T00:19:20.409096Z",
     "start_time": "2021-01-25T00:19:20.385030Z"
    }
   },
   "outputs": [
    {
     "data": {
      "text/plain": [
       "'<result><ant-version>Apache Ant 1.10.7</ant-version><binary>aserver</binary><build-time>14-Jun-2022 14:11:17 AEST</build-time><built-by>Arcitecta. Pty. Ltd.</built-by><created-by>1.8.0_292-b10 (Azul Systems, Inc.)</created-by><manifest-version>1.0</manifest-version><target-jvm>1.8</target-jvm><vendor>Arcitecta Pty. Ltd.</vendor><version>4.14.004</version></result>'"
      ]
     },
     "execution_count": 13,
     "metadata": {},
     "output_type": "execute_result"
    }
   ],
   "source": [
    "result.tostring()"
   ]
  },
  {
   "cell_type": "markdown",
   "metadata": {},
   "source": [
    "-----\n",
    "\n",
    "# Find assets in Mediaflux\n",
    "\n",
    "Find assets and get asset ID on the Mediaflux server in `data/`, `individuals/`, and `libraries/`."
   ]
  },
  {
   "cell_type": "code",
   "execution_count": 14,
   "metadata": {
    "ExecuteTime": {
     "end_time": "2021-01-25T00:19:24.696311Z",
     "start_time": "2021-01-25T00:19:24.559295Z"
    }
   },
   "outputs": [],
   "source": [
    "# Query for data directory\n",
    "args = mfclient.XmlStringWriter(\"args\")\n",
    "args.add(\"where\", \"namespace=/projects/proj-hoffmann_data-1128.4.49/data\")\n",
    "args.add(\"action\", \"get-path\")\n",
    "args.add(\"size\", \"infinity\")\n",
    "data_query = con.execute(\"asset.query\", args.doc_text())"
   ]
  },
  {
   "cell_type": "code",
   "execution_count": 15,
   "metadata": {
    "ExecuteTime": {
     "end_time": "2021-01-25T00:19:26.173887Z",
     "start_time": "2021-01-25T00:19:25.209114Z"
    }
   },
   "outputs": [],
   "source": [
    "# Query for individual directory\n",
    "args = mfclient.XmlStringWriter(\"args\")\n",
    "args.add(\"where\", \"namespace=/projects/proj-hoffmann_data-1128.4.49/individuals\")\n",
    "args.add(\"action\", \"get-path\")\n",
    "args.add(\"size\", \"infinity\")\n",
    "individuals_query = con.execute(\"asset.query\", args.doc_text())"
   ]
  },
  {
   "cell_type": "code",
   "execution_count": 16,
   "metadata": {
    "ExecuteTime": {
     "end_time": "2021-01-25T00:19:26.470857Z",
     "start_time": "2021-01-25T00:19:26.365443Z"
    }
   },
   "outputs": [],
   "source": [
    "# Query for library directory\n",
    "args = mfclient.XmlStringWriter(\"args\")\n",
    "args.add(\"where\", \"namespace=/projects/proj-hoffmann_data-1128.4.49/libraries\")\n",
    "args.add(\"action\", \"get-path\")\n",
    "args.add(\"size\", \"infinity\")\n",
    "libraries_query = con.execute(\"asset.query\", args.doc_text())"
   ]
  },
  {
   "cell_type": "code",
   "execution_count": 17,
   "metadata": {
    "ExecuteTime": {
     "end_time": "2021-01-25T00:19:27.251293Z",
     "start_time": "2021-01-25T00:19:27.238246Z"
    }
   },
   "outputs": [
    {
     "data": {
      "text/plain": [
       "'<result><path id=\"35280914\" version=\"7\">/projects/proj-hoffmann_data-1128.4.49/libraries/P4_CA5YJANXX</path><path id=\"35280919\" version=\"7\">/projects/proj-hoffmann_data-1128.4.49/libraries/P5_CA5YJANXX</path><path id=\"35280920\" version=\"7\">/projects/proj-hoffmann_data-1128.4.49/libraries/P6_CA5YJANXX</path><path id=\"35547226\" version=\"2\">/projects/proj-hoffmann_data-1128.4.49/libraries/CairnsL1</path><path id=\"35547227\" version=\"2\">/projects/proj-hoffmann_data-1128.4.49/libraries/CairnsL2</path><path id=\"35547228\" version=\"2\">/projects/proj-hoffmann_data-1128.4.49/libraries/CairnsL3</path><path id=\"36551235\" version=\"4\">/projects/proj-hoffmann_data-1128.4.49/libraries/ASH_LIB_02_BRA</path><path id=\"36551336\" version=\"3\">/projects/proj-hoffmann_data-1128.4.49/libraries/ASH_LIB_01_QLD</path><path id=\"36609035\" version=\"3\">/projects/proj-hoffmann_data-1128.4.49/libraries/RLEM_SA_2018</path><path id=\"36609036\" version=\"1\">/projects/proj-hoffmann_data-1128.4.49/libraries/tom_albo_2018</path'"
      ]
     },
     "execution_count": 17,
     "metadata": {},
     "output_type": "execute_result"
    }
   ],
   "source": [
    "libraries_query.tostring()[:1000]"
   ]
  },
  {
   "cell_type": "code",
   "execution_count": 18,
   "metadata": {
    "ExecuteTime": {
     "end_time": "2021-01-25T00:19:27.991885Z",
     "start_time": "2021-01-25T00:19:27.982043Z"
    }
   },
   "outputs": [],
   "source": [
    "def create_asset_id_dataframe(query):\n",
    "    df = []\n",
    "    path_elements = query.elements(\"path\")\n",
    "    for pe in path_elements:\n",
    "        path = pe.value()\n",
    "        id = pe.value(\"@id\")\n",
    "        archive_name = os.path.basename(path)\n",
    "        df.append([id, archive_name, path])\n",
    "    df = pd.DataFrame(df)\n",
    "    df.columns = [\"asset_id\", \"asset_name\", \"full_path\"]\n",
    "    return df"
   ]
  },
  {
   "cell_type": "code",
   "execution_count": 19,
   "metadata": {
    "ExecuteTime": {
     "end_time": "2021-01-25T00:19:28.828012Z",
     "start_time": "2021-01-25T00:19:28.794731Z"
    }
   },
   "outputs": [],
   "source": [
    "data_df = create_asset_id_dataframe(data_query)\n",
    "individuals_df = create_asset_id_dataframe(individuals_query)\n",
    "libraries_df = create_asset_id_dataframe(libraries_query)"
   ]
  },
  {
   "cell_type": "code",
   "execution_count": 20,
   "metadata": {
    "ExecuteTime": {
     "end_time": "2021-01-25T00:19:29.731571Z",
     "start_time": "2021-01-25T00:19:29.720301Z"
    }
   },
   "outputs": [
    {
     "name": "stdout",
     "output_type": "stream",
     "text": [
      "(132, 3)\n",
      "(2382, 3)\n",
      "(29, 3)\n"
     ]
    }
   ],
   "source": [
    "print(data_df.shape)\n",
    "print(individuals_df.shape)\n",
    "print(libraries_df.shape)"
   ]
  },
  {
   "cell_type": "markdown",
   "metadata": {},
   "source": [
    "-----\n",
    "\n",
    "# Get metadata documents\n",
    "\n"
   ]
  },
  {
   "cell_type": "code",
   "execution_count": 21,
   "metadata": {
    "ExecuteTime": {
     "end_time": "2021-01-25T00:19:31.615292Z",
     "start_time": "2021-01-25T00:19:31.602697Z"
    }
   },
   "outputs": [],
   "source": [
    "# args = mfclient.XmlStringWriter(\"args\")\n",
    "# args.add(\"type\", \"proj-hoffmann_data-1128.4.49:libraries_metadata\")\n",
    "# result = con.execute(\"asset.doc.type.describe\", args.doc_text())\n",
    "# result.tostring()[0:2000]"
   ]
  },
  {
   "cell_type": "code",
   "execution_count": 22,
   "metadata": {
    "ExecuteTime": {
     "end_time": "2021-01-25T00:19:32.097698Z",
     "start_time": "2021-01-25T00:19:32.090282Z"
    }
   },
   "outputs": [],
   "source": [
    "def get_element_if_exists(element, name):\n",
    "    try:\n",
    "        text = element.element(name).text\n",
    "        return text\n",
    "    except AttributeError:\n",
    "        return \"NA\""
   ]
  },
  {
   "cell_type": "code",
   "execution_count": 23,
   "metadata": {
    "ExecuteTime": {
     "end_time": "2021-01-25T00:19:32.606741Z",
     "start_time": "2021-01-25T00:19:32.596644Z"
    }
   },
   "outputs": [],
   "source": [
    "def extract_info_from_document(result):\n",
    "    \"Extract defined columns from a asset.doc.type.describe query result\"\n",
    "    df = [[x.attribute(\"name\"), \n",
    "            x.attribute(\"min-occurs\"), \n",
    "            x.attribute(\"max-occurs\"), \n",
    "            x.attribute(\"type\"),\n",
    "            get_element_if_exists(x, \"description\"),\n",
    "            get_element_if_exists(x, \"instructions\")\n",
    "           ] for x in result.element(\"type/definition\")]\n",
    "    df = pd.DataFrame(df)\n",
    "    df.columns = [\"name\", \"min_occurs\", \"max_occurs\", \"type\", \"description\", \"instructions\"]\n",
    "    return df"
   ]
  },
  {
   "cell_type": "code",
   "execution_count": 24,
   "metadata": {
    "ExecuteTime": {
     "end_time": "2021-01-25T00:19:33.081349Z",
     "start_time": "2021-01-25T00:19:33.075479Z"
    }
   },
   "outputs": [],
   "source": [
    "# metadata_document_names = [\"individuals_assays\",\n",
    "#                            \"individuals_locations\",\n",
    "#                            \"individuals_metadata\",\n",
    "#                            \"individuals_name\",\n",
    "#                            \"individuals_storage\",\n",
    "#                            \"individuals_store-and-retrieve\",\n",
    "#                            \"libraries_metadata\",\n",
    "#                            \"libraries_storage\"]"
   ]
  },
  {
   "cell_type": "code",
   "execution_count": 25,
   "metadata": {
    "ExecuteTime": {
     "end_time": "2021-01-25T00:19:33.577721Z",
     "start_time": "2021-01-25T00:19:33.570395Z"
    }
   },
   "outputs": [],
   "source": [
    "# Sensible order of documents\n",
    "metadata_document_names = [\n",
    "    \"individuals_metadata\",\n",
    "    \"individuals_storage\",\n",
    "    \"individuals_locations\",\n",
    "    \"individuals_store-and-retrieve\",\n",
    "    \"individuals_name\",\n",
    "    \"individuals_assays\",\n",
    "    \"libraries_metadata\",\n",
    "    \"libraries_storage\"\n",
    "]"
   ]
  },
  {
   "cell_type": "code",
   "execution_count": 26,
   "metadata": {
    "ExecuteTime": {
     "end_time": "2021-01-25T00:19:34.855649Z",
     "start_time": "2021-01-25T00:19:34.069787Z"
    }
   },
   "outputs": [],
   "source": [
    "metadata_document_dfs = []\n",
    "for doc in metadata_document_names:    \n",
    "    doc_name = \"proj-hoffmann_data-1128.4.49:{}\".format(doc)\n",
    "    args = mfclient.XmlStringWriter(\"args\")\n",
    "    args.add(\"type\", doc_name)\n",
    "    result = con.execute(\"asset.doc.type.describe\", args.doc_text())\n",
    "    df = extract_info_from_document(result)\n",
    "    df[\"metadata_document_name\"] = doc\n",
    "    metadata_document_dfs.append(df)"
   ]
  },
  {
   "cell_type": "code",
   "execution_count": 27,
   "metadata": {
    "ExecuteTime": {
     "end_time": "2021-01-25T00:19:34.891953Z",
     "start_time": "2021-01-25T00:19:34.857788Z"
    }
   },
   "outputs": [],
   "source": [
    "combined_metadata_document_df = pd.concat(metadata_document_dfs)"
   ]
  },
  {
   "cell_type": "code",
   "execution_count": 28,
   "metadata": {
    "ExecuteTime": {
     "end_time": "2021-01-25T00:19:35.128928Z",
     "start_time": "2021-01-25T00:19:35.118443Z"
    },
    "scrolled": true
   },
   "outputs": [
    {
     "data": {
      "text/plain": [
       "['metadata_document_name',\n",
       " 'name',\n",
       " 'min_occurs',\n",
       " 'max_occurs',\n",
       " 'type',\n",
       " 'description',\n",
       " 'instructions']"
      ]
     },
     "execution_count": 28,
     "metadata": {},
     "output_type": "execute_result"
    }
   ],
   "source": [
    "# Reorder columns\n",
    "new_order = [combined_metadata_document_df.columns[-1]] + list(combined_metadata_document_df.columns[:-1])\n",
    "new_order"
   ]
  },
  {
   "cell_type": "code",
   "execution_count": 29,
   "metadata": {
    "ExecuteTime": {
     "end_time": "2021-01-25T00:19:35.712944Z",
     "start_time": "2021-01-25T00:19:35.699495Z"
    }
   },
   "outputs": [],
   "source": [
    "combined_metadata_document_df = combined_metadata_document_df[new_order]"
   ]
  },
  {
   "cell_type": "code",
   "execution_count": 30,
   "metadata": {
    "ExecuteTime": {
     "end_time": "2021-01-25T00:19:36.272302Z",
     "start_time": "2021-01-25T00:19:36.241937Z"
    }
   },
   "outputs": [
    {
     "data": {
      "text/html": [
       "<div>\n",
       "<style scoped>\n",
       "    .dataframe tbody tr th:only-of-type {\n",
       "        vertical-align: middle;\n",
       "    }\n",
       "\n",
       "    .dataframe tbody tr th {\n",
       "        vertical-align: top;\n",
       "    }\n",
       "\n",
       "    .dataframe thead th {\n",
       "        text-align: right;\n",
       "    }\n",
       "</style>\n",
       "<table border=\"1\" class=\"dataframe\">\n",
       "  <thead>\n",
       "    <tr style=\"text-align: right;\">\n",
       "      <th></th>\n",
       "      <th>metadata_document_name</th>\n",
       "      <th>name</th>\n",
       "      <th>min_occurs</th>\n",
       "      <th>max_occurs</th>\n",
       "      <th>type</th>\n",
       "      <th>description</th>\n",
       "      <th>instructions</th>\n",
       "    </tr>\n",
       "  </thead>\n",
       "  <tbody>\n",
       "    <tr>\n",
       "      <th>0</th>\n",
       "      <td>individuals_metadata</td>\n",
       "      <td>date_current_update</td>\n",
       "      <td>None</td>\n",
       "      <td>1</td>\n",
       "      <td>date</td>\n",
       "      <td>Date when this record was last updated.</td>\n",
       "      <td>NA</td>\n",
       "    </tr>\n",
       "    <tr>\n",
       "      <th>1</th>\n",
       "      <td>individuals_metadata</td>\n",
       "      <td>person_current_update</td>\n",
       "      <td>None</td>\n",
       "      <td>1</td>\n",
       "      <td>string</td>\n",
       "      <td>First name and last name of the person who mad...</td>\n",
       "      <td>First name and last name of the person who mad...</td>\n",
       "    </tr>\n",
       "    <tr>\n",
       "      <th>2</th>\n",
       "      <td>individuals_metadata</td>\n",
       "      <td>scientific_name_species</td>\n",
       "      <td>None</td>\n",
       "      <td>1</td>\n",
       "      <td>enumeration</td>\n",
       "      <td>Full scientific name (Genus, Species, Subspeci...</td>\n",
       "      <td>Select the species from this list. If it is no...</td>\n",
       "    </tr>\n",
       "    <tr>\n",
       "      <th>3</th>\n",
       "      <td>individuals_metadata</td>\n",
       "      <td>common_name_species</td>\n",
       "      <td>None</td>\n",
       "      <td>1</td>\n",
       "      <td>enumeration</td>\n",
       "      <td>Full common name of the species of the individ...</td>\n",
       "      <td>Select the species from this list. If it is no...</td>\n",
       "    </tr>\n",
       "    <tr>\n",
       "      <th>4</th>\n",
       "      <td>individuals_metadata</td>\n",
       "      <td>individual_description</td>\n",
       "      <td>None</td>\n",
       "      <td>1</td>\n",
       "      <td>string</td>\n",
       "      <td>Provide any details about the individual not l...</td>\n",
       "      <td>Include here any information that may be of va...</td>\n",
       "    </tr>\n",
       "  </tbody>\n",
       "</table>\n",
       "</div>"
      ],
      "text/plain": [
       "  metadata_document_name                     name min_occurs max_occurs  \\\n",
       "0   individuals_metadata      date_current_update       None          1   \n",
       "1   individuals_metadata    person_current_update       None          1   \n",
       "2   individuals_metadata  scientific_name_species       None          1   \n",
       "3   individuals_metadata      common_name_species       None          1   \n",
       "4   individuals_metadata   individual_description       None          1   \n",
       "\n",
       "          type                                        description  \\\n",
       "0         date            Date when this record was last updated.   \n",
       "1       string  First name and last name of the person who mad...   \n",
       "2  enumeration  Full scientific name (Genus, Species, Subspeci...   \n",
       "3  enumeration  Full common name of the species of the individ...   \n",
       "4       string  Provide any details about the individual not l...   \n",
       "\n",
       "                                        instructions  \n",
       "0                                                 NA  \n",
       "1  First name and last name of the person who mad...  \n",
       "2  Select the species from this list. If it is no...  \n",
       "3  Select the species from this list. If it is no...  \n",
       "4  Include here any information that may be of va...  "
      ]
     },
     "execution_count": 30,
     "metadata": {},
     "output_type": "execute_result"
    }
   ],
   "source": [
    "combined_metadata_document_df.head()"
   ]
  },
  {
   "cell_type": "markdown",
   "metadata": {},
   "source": [
    "-----\n",
    "\n",
    "# For each asset, get metadata\n",
    "\n"
   ]
  },
  {
   "cell_type": "markdown",
   "metadata": {},
   "source": [
    "## Data\n",
    "\n",
    "Get size of each asset in `data/`"
   ]
  },
  {
   "cell_type": "code",
   "execution_count": 31,
   "metadata": {
    "ExecuteTime": {
     "end_time": "2021-01-25T00:19:37.820174Z",
     "start_time": "2021-01-25T00:19:37.816079Z"
    }
   },
   "outputs": [],
   "source": [
    "asset_id_list = list(data_df[\"asset_id\"])"
   ]
  },
  {
   "cell_type": "code",
   "execution_count": 32,
   "metadata": {},
   "outputs": [
    {
     "data": {
      "text/plain": [
       "132"
      ]
     },
     "execution_count": 32,
     "metadata": {},
     "output_type": "execute_result"
    }
   ],
   "source": [
    "len(asset_id_list)"
   ]
  },
  {
   "cell_type": "code",
   "execution_count": 33,
   "metadata": {
    "ExecuteTime": {
     "end_time": "2021-01-25T00:19:45.179592Z",
     "start_time": "2021-01-25T00:19:38.297930Z"
    }
   },
   "outputs": [],
   "source": [
    "human_size = []\n",
    "size = []\n",
    "for asset_id in asset_id_list:\n",
    "    query = get_asset(asset_id)\n",
    "    human_size.append(query.element(\"asset/content/size\").attribute(\"h\"))\n",
    "    size.append(query.element(\"asset/content/size\").value())"
   ]
  },
  {
   "cell_type": "code",
   "execution_count": 34,
   "metadata": {
    "ExecuteTime": {
     "end_time": "2021-01-25T00:19:45.212055Z",
     "start_time": "2021-01-25T00:19:45.182051Z"
    }
   },
   "outputs": [],
   "source": [
    "data_df[\"approx_size\"] = human_size\n",
    "data_df[\"size_in_bytes\"] = size"
   ]
  },
  {
   "cell_type": "code",
   "execution_count": 35,
   "metadata": {
    "ExecuteTime": {
     "end_time": "2021-01-25T00:19:45.291071Z",
     "start_time": "2021-01-25T00:19:45.225147Z"
    }
   },
   "outputs": [
    {
     "data": {
      "text/html": [
       "<div>\n",
       "<style scoped>\n",
       "    .dataframe tbody tr th:only-of-type {\n",
       "        vertical-align: middle;\n",
       "    }\n",
       "\n",
       "    .dataframe tbody tr th {\n",
       "        vertical-align: top;\n",
       "    }\n",
       "\n",
       "    .dataframe thead th {\n",
       "        text-align: right;\n",
       "    }\n",
       "</style>\n",
       "<table border=\"1\" class=\"dataframe\">\n",
       "  <thead>\n",
       "    <tr style=\"text-align: right;\">\n",
       "      <th></th>\n",
       "      <th>asset_id</th>\n",
       "      <th>asset_name</th>\n",
       "      <th>full_path</th>\n",
       "      <th>approx_size</th>\n",
       "      <th>size_in_bytes</th>\n",
       "    </tr>\n",
       "  </thead>\n",
       "  <tbody>\n",
       "    <tr>\n",
       "      <th>0</th>\n",
       "      <td>35516931</td>\n",
       "      <td>QA_library9_albo_INC_DPS_BKK.zip</td>\n",
       "      <td>/projects/proj-hoffmann_data-1128.4.49/data/QA...</td>\n",
       "      <td>30.134 GB</td>\n",
       "      <td>30133670228</td>\n",
       "    </tr>\n",
       "    <tr>\n",
       "      <th>1</th>\n",
       "      <td>35535007</td>\n",
       "      <td>CairnsL1.zip</td>\n",
       "      <td>/projects/proj-hoffmann_data-1128.4.49/data/Ca...</td>\n",
       "      <td>33.758 GB</td>\n",
       "      <td>33757722857</td>\n",
       "    </tr>\n",
       "    <tr>\n",
       "      <th>2</th>\n",
       "      <td>35535045</td>\n",
       "      <td>CairnsL2.zip</td>\n",
       "      <td>/projects/proj-hoffmann_data-1128.4.49/data/Ca...</td>\n",
       "      <td>34.249 GB</td>\n",
       "      <td>34249245760</td>\n",
       "    </tr>\n",
       "    <tr>\n",
       "      <th>3</th>\n",
       "      <td>35535046</td>\n",
       "      <td>CairnsL3.zip</td>\n",
       "      <td>/projects/proj-hoffmann_data-1128.4.49/data/Ca...</td>\n",
       "      <td>32.552 GB</td>\n",
       "      <td>32551905980</td>\n",
       "    </tr>\n",
       "    <tr>\n",
       "      <th>4</th>\n",
       "      <td>36550156</td>\n",
       "      <td>Gv10_1_ATCACG.zip</td>\n",
       "      <td>/projects/proj-hoffmann_data-1128.4.49/data/Gv...</td>\n",
       "      <td>85.148 GB</td>\n",
       "      <td>85147802719</td>\n",
       "    </tr>\n",
       "  </tbody>\n",
       "</table>\n",
       "</div>"
      ],
      "text/plain": [
       "   asset_id                        asset_name  \\\n",
       "0  35516931  QA_library9_albo_INC_DPS_BKK.zip   \n",
       "1  35535007                      CairnsL1.zip   \n",
       "2  35535045                      CairnsL2.zip   \n",
       "3  35535046                      CairnsL3.zip   \n",
       "4  36550156                 Gv10_1_ATCACG.zip   \n",
       "\n",
       "                                           full_path approx_size size_in_bytes  \n",
       "0  /projects/proj-hoffmann_data-1128.4.49/data/QA...   30.134 GB   30133670228  \n",
       "1  /projects/proj-hoffmann_data-1128.4.49/data/Ca...   33.758 GB   33757722857  \n",
       "2  /projects/proj-hoffmann_data-1128.4.49/data/Ca...   34.249 GB   34249245760  \n",
       "3  /projects/proj-hoffmann_data-1128.4.49/data/Ca...   32.552 GB   32551905980  \n",
       "4  /projects/proj-hoffmann_data-1128.4.49/data/Gv...   85.148 GB   85147802719  "
      ]
     },
     "execution_count": 35,
     "metadata": {},
     "output_type": "execute_result"
    }
   ],
   "source": [
    "data_df.head()"
   ]
  },
  {
   "cell_type": "markdown",
   "metadata": {},
   "source": [
    "## Libraries\n",
    "\n",
    "Get metadata from all assets in `libraries/`"
   ]
  },
  {
   "cell_type": "code",
   "execution_count": 36,
   "metadata": {
    "ExecuteTime": {
     "end_time": "2021-01-25T00:19:48.382279Z",
     "start_time": "2021-01-25T00:19:48.376006Z"
    }
   },
   "outputs": [],
   "source": [
    "asset_id_list = list(libraries_df[\"asset_id\"])"
   ]
  },
  {
   "cell_type": "code",
   "execution_count": 37,
   "metadata": {
    "ExecuteTime": {
     "end_time": "2021-01-25T00:19:50.019479Z",
     "start_time": "2021-01-25T00:19:49.908677Z"
    }
   },
   "outputs": [],
   "source": [
    "# Query one asset\n",
    "query = get_asset(asset_id_list[0])"
   ]
  },
  {
   "cell_type": "code",
   "execution_count": 38,
   "metadata": {
    "ExecuteTime": {
     "end_time": "2021-01-25T00:19:50.320468Z",
     "start_time": "2021-01-25T00:19:50.310687Z"
    }
   },
   "outputs": [
    {
     "data": {
      "text/plain": [
       "['proj-hoffmann_data-1128.4.49:libraries_metadata',\n",
       " 'proj-hoffmann_data-1128.4.49:libraries_storage']"
      ]
     },
     "execution_count": 38,
     "metadata": {},
     "output_type": "execute_result"
    }
   ],
   "source": [
    "# Get metadata documents\n",
    "metadata_documents = [x.name() for x in query.element(\"asset/meta\").elements() if x.name() != \"mf-revision-history\"]\n",
    "metadata_documents"
   ]
  },
  {
   "cell_type": "code",
   "execution_count": 39,
   "metadata": {
    "ExecuteTime": {
     "end_time": "2021-01-25T00:19:50.744508Z",
     "start_time": "2021-01-25T00:19:50.739203Z"
    }
   },
   "outputs": [],
   "source": [
    "# # Test asset with multiple metadata documents from MPP project\n",
    "# args = mfclient.XmlStringWriter(\"args\")\n",
    "# args.add(\"id\", \"35532748\")\n",
    "# query = con.execute(\"asset.get\", args.doc_text())\n",
    "# query.tostring()\n",
    "# metadata_documents = [x.name() for x in query.element(\"asset/meta\").elements() if x.name() != \"mf-revision-history\"]\n",
    "# metadata_documents"
   ]
  },
  {
   "cell_type": "code",
   "execution_count": 40,
   "metadata": {
    "ExecuteTime": {
     "end_time": "2021-01-25T00:19:53.634023Z",
     "start_time": "2021-01-25T00:19:51.216749Z"
    }
   },
   "outputs": [],
   "source": [
    "libraries_metadata_dicts = {}\n",
    "for asset_id in asset_id_list:\n",
    "    d = collections.OrderedDict({\"asset_id\": asset_id})\n",
    "    query = get_asset(asset_id)\n",
    "    metadata_documents = [x.name() for x in query.element(\"asset/meta\").elements() \n",
    "                          if x.name() != \"mf-revision-history\"]\n",
    "    # Not expecting any metadata document to appear multiple times\n",
    "    assert(len(metadata_documents) == len(set(metadata_documents)))\n",
    "    for document in metadata_documents:\n",
    "        for element in query.element(\"asset/meta/{}\".format(document)).elements():\n",
    "            d[element.name()] = element.value()\n",
    "    libraries_metadata_dicts[asset_id] = d"
   ]
  },
  {
   "cell_type": "code",
   "execution_count": 41,
   "metadata": {
    "ExecuteTime": {
     "end_time": "2021-01-25T00:19:53.698185Z",
     "start_time": "2021-01-25T00:19:53.636626Z"
    }
   },
   "outputs": [
    {
     "data": {
      "text/html": [
       "<div>\n",
       "<style scoped>\n",
       "    .dataframe tbody tr th:only-of-type {\n",
       "        vertical-align: middle;\n",
       "    }\n",
       "\n",
       "    .dataframe tbody tr th {\n",
       "        vertical-align: top;\n",
       "    }\n",
       "\n",
       "    .dataframe thead th {\n",
       "        text-align: right;\n",
       "    }\n",
       "</style>\n",
       "<table border=\"1\" class=\"dataframe\">\n",
       "  <thead>\n",
       "    <tr style=\"text-align: right;\">\n",
       "      <th></th>\n",
       "      <th>asset_id</th>\n",
       "      <th>radseq_library_name</th>\n",
       "      <th>radseq_library_alias</th>\n",
       "      <th>date_current_update</th>\n",
       "      <th>person_current_update</th>\n",
       "      <th>stage_at</th>\n",
       "      <th>person_molecular_work</th>\n",
       "      <th>person_organise_sequencing</th>\n",
       "      <th>sequencing_facility</th>\n",
       "      <th>sequencing_quote_number</th>\n",
       "      <th>...</th>\n",
       "      <th>raw_sequence_storage2</th>\n",
       "      <th>library_freezer</th>\n",
       "      <th>scientific_name_species2</th>\n",
       "      <th>common_name_species2</th>\n",
       "      <th>size_select_low</th>\n",
       "      <th>size_select_high</th>\n",
       "      <th>bp_sequencing</th>\n",
       "      <th>library_tube_name</th>\n",
       "      <th>library_freezer_shelf</th>\n",
       "      <th>library_freezer_location</th>\n",
       "    </tr>\n",
       "  </thead>\n",
       "  <tbody>\n",
       "    <tr>\n",
       "      <th>35280914</th>\n",
       "      <td>35280914</td>\n",
       "      <td>P4_CA5YJANXX</td>\n",
       "      <td>P4</td>\n",
       "      <td>31-Oct-2017</td>\n",
       "      <td>Tom Schmidt</td>\n",
       "      <td>Sequencing completed</td>\n",
       "      <td>Tom Schmidt</td>\n",
       "      <td>Tom Schmidt</td>\n",
       "      <td>AGRF</td>\n",
       "      <td>CAGRF13590</td>\n",
       "      <td>...</td>\n",
       "      <td>Stored on the Hoffmann Lab hard drive, G22.</td>\n",
       "      <td>Library not retained</td>\n",
       "      <td>NaN</td>\n",
       "      <td>NaN</td>\n",
       "      <td>NaN</td>\n",
       "      <td>NaN</td>\n",
       "      <td>NaN</td>\n",
       "      <td>NaN</td>\n",
       "      <td>NaN</td>\n",
       "      <td>NaN</td>\n",
       "    </tr>\n",
       "    <tr>\n",
       "      <th>35280919</th>\n",
       "      <td>35280919</td>\n",
       "      <td>P5_CA5YJANXX</td>\n",
       "      <td>P5</td>\n",
       "      <td>31-Oct-2017</td>\n",
       "      <td>Tom Schmidt</td>\n",
       "      <td>Sequencing completed</td>\n",
       "      <td>Tom Schmidt</td>\n",
       "      <td>Tom Schmidt</td>\n",
       "      <td>AGRF</td>\n",
       "      <td>CAGRF13590</td>\n",
       "      <td>...</td>\n",
       "      <td>Stored on the Hoffmann Lab hard drive, G22.</td>\n",
       "      <td>Library not retained</td>\n",
       "      <td>NaN</td>\n",
       "      <td>NaN</td>\n",
       "      <td>NaN</td>\n",
       "      <td>NaN</td>\n",
       "      <td>NaN</td>\n",
       "      <td>NaN</td>\n",
       "      <td>NaN</td>\n",
       "      <td>NaN</td>\n",
       "    </tr>\n",
       "    <tr>\n",
       "      <th>35280920</th>\n",
       "      <td>35280920</td>\n",
       "      <td>P6_CA5YJANXX</td>\n",
       "      <td>P6</td>\n",
       "      <td>31-Oct-2017</td>\n",
       "      <td>Tom Schmidt</td>\n",
       "      <td>Sequencing completed</td>\n",
       "      <td>Tom Schmidt</td>\n",
       "      <td>Tom Schmidt</td>\n",
       "      <td>AGRF</td>\n",
       "      <td>CAGRF13590</td>\n",
       "      <td>...</td>\n",
       "      <td>Stored on the Hoffmann Lab hard drive, G22.</td>\n",
       "      <td>Library not retained</td>\n",
       "      <td>NaN</td>\n",
       "      <td>NaN</td>\n",
       "      <td>NaN</td>\n",
       "      <td>NaN</td>\n",
       "      <td>NaN</td>\n",
       "      <td>NaN</td>\n",
       "      <td>NaN</td>\n",
       "      <td>NaN</td>\n",
       "    </tr>\n",
       "    <tr>\n",
       "      <th>35547226</th>\n",
       "      <td>35547226</td>\n",
       "      <td>cairnsL1</td>\n",
       "      <td>NaN</td>\n",
       "      <td>16-Feb-2018</td>\n",
       "      <td>Tom Schmidt</td>\n",
       "      <td>Sequencing completed</td>\n",
       "      <td>Tom Schmidt</td>\n",
       "      <td>Tom Schmidt</td>\n",
       "      <td>AGRF</td>\n",
       "      <td>CAGRF11131</td>\n",
       "      <td>...</td>\n",
       "      <td>Stored on the Hoffmann Lab hard drive, G22</td>\n",
       "      <td>Library not retained</td>\n",
       "      <td>NaN</td>\n",
       "      <td>NaN</td>\n",
       "      <td>NaN</td>\n",
       "      <td>NaN</td>\n",
       "      <td>NaN</td>\n",
       "      <td>NaN</td>\n",
       "      <td>NaN</td>\n",
       "      <td>NaN</td>\n",
       "    </tr>\n",
       "    <tr>\n",
       "      <th>35547227</th>\n",
       "      <td>35547227</td>\n",
       "      <td>cairnsL2</td>\n",
       "      <td>NaN</td>\n",
       "      <td>16-Feb-2018</td>\n",
       "      <td>Tom Schmidt</td>\n",
       "      <td>Sequencing completed</td>\n",
       "      <td>Tom Schmidt</td>\n",
       "      <td>Tom Schmidt</td>\n",
       "      <td>AGRF</td>\n",
       "      <td>CAGRF11131</td>\n",
       "      <td>...</td>\n",
       "      <td>Stored on the Hoffmann Lab hard drive</td>\n",
       "      <td>Library not retained</td>\n",
       "      <td>NaN</td>\n",
       "      <td>NaN</td>\n",
       "      <td>NaN</td>\n",
       "      <td>NaN</td>\n",
       "      <td>NaN</td>\n",
       "      <td>NaN</td>\n",
       "      <td>NaN</td>\n",
       "      <td>NaN</td>\n",
       "    </tr>\n",
       "  </tbody>\n",
       "</table>\n",
       "<p>5 rows × 30 columns</p>\n",
       "</div>"
      ],
      "text/plain": [
       "          asset_id radseq_library_name radseq_library_alias  \\\n",
       "35280914  35280914        P4_CA5YJANXX                   P4   \n",
       "35280919  35280919        P5_CA5YJANXX                   P5   \n",
       "35280920  35280920        P6_CA5YJANXX                   P6   \n",
       "35547226  35547226            cairnsL1                  NaN   \n",
       "35547227  35547227            cairnsL2                  NaN   \n",
       "\n",
       "         date_current_update person_current_update              stage_at  \\\n",
       "35280914         31-Oct-2017           Tom Schmidt  Sequencing completed   \n",
       "35280919         31-Oct-2017           Tom Schmidt  Sequencing completed   \n",
       "35280920         31-Oct-2017           Tom Schmidt  Sequencing completed   \n",
       "35547226         16-Feb-2018           Tom Schmidt  Sequencing completed   \n",
       "35547227         16-Feb-2018           Tom Schmidt  Sequencing completed   \n",
       "\n",
       "         person_molecular_work person_organise_sequencing sequencing_facility  \\\n",
       "35280914           Tom Schmidt                Tom Schmidt                AGRF   \n",
       "35280919           Tom Schmidt                Tom Schmidt                AGRF   \n",
       "35280920           Tom Schmidt                Tom Schmidt                AGRF   \n",
       "35547226           Tom Schmidt                Tom Schmidt                AGRF   \n",
       "35547227           Tom Schmidt                Tom Schmidt                AGRF   \n",
       "\n",
       "         sequencing_quote_number  ...  \\\n",
       "35280914              CAGRF13590  ...   \n",
       "35280919              CAGRF13590  ...   \n",
       "35280920              CAGRF13590  ...   \n",
       "35547226              CAGRF11131  ...   \n",
       "35547227              CAGRF11131  ...   \n",
       "\n",
       "                                raw_sequence_storage2       library_freezer  \\\n",
       "35280914  Stored on the Hoffmann Lab hard drive, G22.  Library not retained   \n",
       "35280919  Stored on the Hoffmann Lab hard drive, G22.  Library not retained   \n",
       "35280920  Stored on the Hoffmann Lab hard drive, G22.  Library not retained   \n",
       "35547226   Stored on the Hoffmann Lab hard drive, G22  Library not retained   \n",
       "35547227        Stored on the Hoffmann Lab hard drive  Library not retained   \n",
       "\n",
       "         scientific_name_species2 common_name_species2 size_select_low  \\\n",
       "35280914                      NaN                  NaN             NaN   \n",
       "35280919                      NaN                  NaN             NaN   \n",
       "35280920                      NaN                  NaN             NaN   \n",
       "35547226                      NaN                  NaN             NaN   \n",
       "35547227                      NaN                  NaN             NaN   \n",
       "\n",
       "         size_select_high bp_sequencing library_tube_name  \\\n",
       "35280914              NaN           NaN               NaN   \n",
       "35280919              NaN           NaN               NaN   \n",
       "35280920              NaN           NaN               NaN   \n",
       "35547226              NaN           NaN               NaN   \n",
       "35547227              NaN           NaN               NaN   \n",
       "\n",
       "         library_freezer_shelf library_freezer_location  \n",
       "35280914                   NaN                      NaN  \n",
       "35280919                   NaN                      NaN  \n",
       "35280920                   NaN                      NaN  \n",
       "35547226                   NaN                      NaN  \n",
       "35547227                   NaN                      NaN  \n",
       "\n",
       "[5 rows x 30 columns]"
      ]
     },
     "execution_count": 41,
     "metadata": {},
     "output_type": "execute_result"
    }
   ],
   "source": [
    "libraries_metadata_df = pd.DataFrame(libraries_metadata_dicts).T\n",
    "libraries_metadata_df.head()"
   ]
  },
  {
   "cell_type": "code",
   "execution_count": 42,
   "metadata": {
    "ExecuteTime": {
     "end_time": "2021-01-25T00:19:54.359242Z",
     "start_time": "2021-01-25T00:19:54.309712Z"
    }
   },
   "outputs": [],
   "source": [
    "# Merge libraries_df with metadata\n",
    "libraries_df = libraries_df.merge(libraries_metadata_df, on=\"asset_id\")"
   ]
  },
  {
   "cell_type": "code",
   "execution_count": 43,
   "metadata": {
    "ExecuteTime": {
     "end_time": "2021-01-25T00:19:54.898195Z",
     "start_time": "2021-01-25T00:19:54.832534Z"
    },
    "scrolled": true
   },
   "outputs": [
    {
     "data": {
      "text/html": [
       "<div>\n",
       "<style scoped>\n",
       "    .dataframe tbody tr th:only-of-type {\n",
       "        vertical-align: middle;\n",
       "    }\n",
       "\n",
       "    .dataframe tbody tr th {\n",
       "        vertical-align: top;\n",
       "    }\n",
       "\n",
       "    .dataframe thead th {\n",
       "        text-align: right;\n",
       "    }\n",
       "</style>\n",
       "<table border=\"1\" class=\"dataframe\">\n",
       "  <thead>\n",
       "    <tr style=\"text-align: right;\">\n",
       "      <th></th>\n",
       "      <th>asset_id</th>\n",
       "      <th>asset_name</th>\n",
       "      <th>full_path</th>\n",
       "      <th>radseq_library_name</th>\n",
       "      <th>radseq_library_alias</th>\n",
       "      <th>date_current_update</th>\n",
       "      <th>person_current_update</th>\n",
       "      <th>stage_at</th>\n",
       "      <th>person_molecular_work</th>\n",
       "      <th>person_organise_sequencing</th>\n",
       "      <th>...</th>\n",
       "      <th>raw_sequence_storage2</th>\n",
       "      <th>library_freezer</th>\n",
       "      <th>scientific_name_species2</th>\n",
       "      <th>common_name_species2</th>\n",
       "      <th>size_select_low</th>\n",
       "      <th>size_select_high</th>\n",
       "      <th>bp_sequencing</th>\n",
       "      <th>library_tube_name</th>\n",
       "      <th>library_freezer_shelf</th>\n",
       "      <th>library_freezer_location</th>\n",
       "    </tr>\n",
       "  </thead>\n",
       "  <tbody>\n",
       "    <tr>\n",
       "      <th>0</th>\n",
       "      <td>35280914</td>\n",
       "      <td>P4_CA5YJANXX</td>\n",
       "      <td>/projects/proj-hoffmann_data-1128.4.49/librari...</td>\n",
       "      <td>P4_CA5YJANXX</td>\n",
       "      <td>P4</td>\n",
       "      <td>31-Oct-2017</td>\n",
       "      <td>Tom Schmidt</td>\n",
       "      <td>Sequencing completed</td>\n",
       "      <td>Tom Schmidt</td>\n",
       "      <td>Tom Schmidt</td>\n",
       "      <td>...</td>\n",
       "      <td>Stored on the Hoffmann Lab hard drive, G22.</td>\n",
       "      <td>Library not retained</td>\n",
       "      <td>NaN</td>\n",
       "      <td>NaN</td>\n",
       "      <td>NaN</td>\n",
       "      <td>NaN</td>\n",
       "      <td>NaN</td>\n",
       "      <td>NaN</td>\n",
       "      <td>NaN</td>\n",
       "      <td>NaN</td>\n",
       "    </tr>\n",
       "    <tr>\n",
       "      <th>1</th>\n",
       "      <td>35280919</td>\n",
       "      <td>P5_CA5YJANXX</td>\n",
       "      <td>/projects/proj-hoffmann_data-1128.4.49/librari...</td>\n",
       "      <td>P5_CA5YJANXX</td>\n",
       "      <td>P5</td>\n",
       "      <td>31-Oct-2017</td>\n",
       "      <td>Tom Schmidt</td>\n",
       "      <td>Sequencing completed</td>\n",
       "      <td>Tom Schmidt</td>\n",
       "      <td>Tom Schmidt</td>\n",
       "      <td>...</td>\n",
       "      <td>Stored on the Hoffmann Lab hard drive, G22.</td>\n",
       "      <td>Library not retained</td>\n",
       "      <td>NaN</td>\n",
       "      <td>NaN</td>\n",
       "      <td>NaN</td>\n",
       "      <td>NaN</td>\n",
       "      <td>NaN</td>\n",
       "      <td>NaN</td>\n",
       "      <td>NaN</td>\n",
       "      <td>NaN</td>\n",
       "    </tr>\n",
       "    <tr>\n",
       "      <th>2</th>\n",
       "      <td>35280920</td>\n",
       "      <td>P6_CA5YJANXX</td>\n",
       "      <td>/projects/proj-hoffmann_data-1128.4.49/librari...</td>\n",
       "      <td>P6_CA5YJANXX</td>\n",
       "      <td>P6</td>\n",
       "      <td>31-Oct-2017</td>\n",
       "      <td>Tom Schmidt</td>\n",
       "      <td>Sequencing completed</td>\n",
       "      <td>Tom Schmidt</td>\n",
       "      <td>Tom Schmidt</td>\n",
       "      <td>...</td>\n",
       "      <td>Stored on the Hoffmann Lab hard drive, G22.</td>\n",
       "      <td>Library not retained</td>\n",
       "      <td>NaN</td>\n",
       "      <td>NaN</td>\n",
       "      <td>NaN</td>\n",
       "      <td>NaN</td>\n",
       "      <td>NaN</td>\n",
       "      <td>NaN</td>\n",
       "      <td>NaN</td>\n",
       "      <td>NaN</td>\n",
       "    </tr>\n",
       "    <tr>\n",
       "      <th>3</th>\n",
       "      <td>35547226</td>\n",
       "      <td>CairnsL1</td>\n",
       "      <td>/projects/proj-hoffmann_data-1128.4.49/librari...</td>\n",
       "      <td>cairnsL1</td>\n",
       "      <td>NaN</td>\n",
       "      <td>16-Feb-2018</td>\n",
       "      <td>Tom Schmidt</td>\n",
       "      <td>Sequencing completed</td>\n",
       "      <td>Tom Schmidt</td>\n",
       "      <td>Tom Schmidt</td>\n",
       "      <td>...</td>\n",
       "      <td>Stored on the Hoffmann Lab hard drive, G22</td>\n",
       "      <td>Library not retained</td>\n",
       "      <td>NaN</td>\n",
       "      <td>NaN</td>\n",
       "      <td>NaN</td>\n",
       "      <td>NaN</td>\n",
       "      <td>NaN</td>\n",
       "      <td>NaN</td>\n",
       "      <td>NaN</td>\n",
       "      <td>NaN</td>\n",
       "    </tr>\n",
       "    <tr>\n",
       "      <th>4</th>\n",
       "      <td>35547227</td>\n",
       "      <td>CairnsL2</td>\n",
       "      <td>/projects/proj-hoffmann_data-1128.4.49/librari...</td>\n",
       "      <td>cairnsL2</td>\n",
       "      <td>NaN</td>\n",
       "      <td>16-Feb-2018</td>\n",
       "      <td>Tom Schmidt</td>\n",
       "      <td>Sequencing completed</td>\n",
       "      <td>Tom Schmidt</td>\n",
       "      <td>Tom Schmidt</td>\n",
       "      <td>...</td>\n",
       "      <td>Stored on the Hoffmann Lab hard drive</td>\n",
       "      <td>Library not retained</td>\n",
       "      <td>NaN</td>\n",
       "      <td>NaN</td>\n",
       "      <td>NaN</td>\n",
       "      <td>NaN</td>\n",
       "      <td>NaN</td>\n",
       "      <td>NaN</td>\n",
       "      <td>NaN</td>\n",
       "      <td>NaN</td>\n",
       "    </tr>\n",
       "  </tbody>\n",
       "</table>\n",
       "<p>5 rows × 32 columns</p>\n",
       "</div>"
      ],
      "text/plain": [
       "   asset_id    asset_name                                          full_path  \\\n",
       "0  35280914  P4_CA5YJANXX  /projects/proj-hoffmann_data-1128.4.49/librari...   \n",
       "1  35280919  P5_CA5YJANXX  /projects/proj-hoffmann_data-1128.4.49/librari...   \n",
       "2  35280920  P6_CA5YJANXX  /projects/proj-hoffmann_data-1128.4.49/librari...   \n",
       "3  35547226      CairnsL1  /projects/proj-hoffmann_data-1128.4.49/librari...   \n",
       "4  35547227      CairnsL2  /projects/proj-hoffmann_data-1128.4.49/librari...   \n",
       "\n",
       "  radseq_library_name radseq_library_alias date_current_update  \\\n",
       "0        P4_CA5YJANXX                   P4         31-Oct-2017   \n",
       "1        P5_CA5YJANXX                   P5         31-Oct-2017   \n",
       "2        P6_CA5YJANXX                   P6         31-Oct-2017   \n",
       "3            cairnsL1                  NaN         16-Feb-2018   \n",
       "4            cairnsL2                  NaN         16-Feb-2018   \n",
       "\n",
       "  person_current_update              stage_at person_molecular_work  \\\n",
       "0           Tom Schmidt  Sequencing completed           Tom Schmidt   \n",
       "1           Tom Schmidt  Sequencing completed           Tom Schmidt   \n",
       "2           Tom Schmidt  Sequencing completed           Tom Schmidt   \n",
       "3           Tom Schmidt  Sequencing completed           Tom Schmidt   \n",
       "4           Tom Schmidt  Sequencing completed           Tom Schmidt   \n",
       "\n",
       "  person_organise_sequencing  ...  \\\n",
       "0                Tom Schmidt  ...   \n",
       "1                Tom Schmidt  ...   \n",
       "2                Tom Schmidt  ...   \n",
       "3                Tom Schmidt  ...   \n",
       "4                Tom Schmidt  ...   \n",
       "\n",
       "                         raw_sequence_storage2       library_freezer  \\\n",
       "0  Stored on the Hoffmann Lab hard drive, G22.  Library not retained   \n",
       "1  Stored on the Hoffmann Lab hard drive, G22.  Library not retained   \n",
       "2  Stored on the Hoffmann Lab hard drive, G22.  Library not retained   \n",
       "3   Stored on the Hoffmann Lab hard drive, G22  Library not retained   \n",
       "4        Stored on the Hoffmann Lab hard drive  Library not retained   \n",
       "\n",
       "  scientific_name_species2 common_name_species2 size_select_low  \\\n",
       "0                      NaN                  NaN             NaN   \n",
       "1                      NaN                  NaN             NaN   \n",
       "2                      NaN                  NaN             NaN   \n",
       "3                      NaN                  NaN             NaN   \n",
       "4                      NaN                  NaN             NaN   \n",
       "\n",
       "  size_select_high bp_sequencing library_tube_name library_freezer_shelf  \\\n",
       "0              NaN           NaN               NaN                   NaN   \n",
       "1              NaN           NaN               NaN                   NaN   \n",
       "2              NaN           NaN               NaN                   NaN   \n",
       "3              NaN           NaN               NaN                   NaN   \n",
       "4              NaN           NaN               NaN                   NaN   \n",
       "\n",
       "  library_freezer_location  \n",
       "0                      NaN  \n",
       "1                      NaN  \n",
       "2                      NaN  \n",
       "3                      NaN  \n",
       "4                      NaN  \n",
       "\n",
       "[5 rows x 32 columns]"
      ]
     },
     "execution_count": 43,
     "metadata": {},
     "output_type": "execute_result"
    }
   ],
   "source": [
    "libraries_df.head()"
   ]
  },
  {
   "cell_type": "markdown",
   "metadata": {},
   "source": [
    "## Individuals\n",
    "\n",
    "Get metadata from all assets in `individuals/`"
   ]
  },
  {
   "cell_type": "code",
   "execution_count": 44,
   "metadata": {
    "ExecuteTime": {
     "end_time": "2021-01-25T00:19:56.081015Z",
     "start_time": "2021-01-25T00:19:56.071363Z"
    }
   },
   "outputs": [],
   "source": [
    "asset_id_list = list(individuals_df[\"asset_id\"])"
   ]
  },
  {
   "cell_type": "code",
   "execution_count": 45,
   "metadata": {},
   "outputs": [
    {
     "data": {
      "text/plain": [
       "2382"
      ]
     },
     "execution_count": 45,
     "metadata": {},
     "output_type": "execute_result"
    }
   ],
   "source": [
    "len(asset_id_list)"
   ]
  },
  {
   "cell_type": "code",
   "execution_count": 46,
   "metadata": {
    "ExecuteTime": {
     "end_time": "2021-01-25T00:19:56.903398Z",
     "start_time": "2021-01-25T00:19:56.805363Z"
    }
   },
   "outputs": [],
   "source": [
    "# Query one asset\n",
    "query = get_asset(asset_id_list[0])"
   ]
  },
  {
   "cell_type": "code",
   "execution_count": 47,
   "metadata": {
    "ExecuteTime": {
     "end_time": "2021-01-25T00:19:57.313974Z",
     "start_time": "2021-01-25T00:19:57.305042Z"
    }
   },
   "outputs": [
    {
     "data": {
      "text/plain": [
       "['proj-hoffmann_data-1128.4.49:individuals_metadata',\n",
       " 'proj-hoffmann_data-1128.4.49:individuals_storage',\n",
       " 'proj-hoffmann_data-1128.4.49:individuals_locations',\n",
       " 'proj-hoffmann_data-1128.4.49:individuals_store-and-retrieve',\n",
       " 'proj-hoffmann_data-1128.4.49:individuals_name',\n",
       " 'proj-hoffmann_data-1128.4.49:individuals_assays']"
      ]
     },
     "execution_count": 47,
     "metadata": {},
     "output_type": "execute_result"
    }
   ],
   "source": [
    "# Get metadata documents\n",
    "metadata_documents = [x.name() for x in query.element(\"asset/meta\").elements() if x.name() != \"mf-revision-history\"]\n",
    "metadata_documents"
   ]
  },
  {
   "cell_type": "code",
   "execution_count": 48,
   "metadata": {
    "ExecuteTime": {
     "end_time": "2021-01-25T00:19:58.036241Z",
     "start_time": "2021-01-25T00:19:58.032588Z"
    }
   },
   "outputs": [],
   "source": [
    "individuals_metadata_dicts = {}\n",
    "assay_list = []"
   ]
  },
  {
   "cell_type": "code",
   "execution_count": 49,
   "metadata": {
    "ExecuteTime": {
     "end_time": "2021-01-25T00:22:37.266893Z",
     "start_time": "2021-01-25T00:19:58.816790Z"
    }
   },
   "outputs": [],
   "source": [
    "# Sometimes this times out when getting assets from mediaflux\n",
    "# TODO: Add retry if timeout\n",
    "# TODO: Refactor this block\n",
    "for asset_id in asset_id_list:\n",
    "    if asset_id not in individuals_metadata_dicts:\n",
    "        d = collections.OrderedDict({\"asset_id\": asset_id})\n",
    "        query = get_asset(asset_id)\n",
    "        metadata_documents = [x.name() for x in query.element(\"asset/meta\").elements() \n",
    "                              if x.name() != \"mf-revision-history\"]\n",
    "        # Not expecting any metadata document to appear multiple times\n",
    "        assert(len(metadata_documents) == len(set(metadata_documents)))\n",
    "        for document in metadata_documents:\n",
    "            if document != \"proj-hoffmann_data-1128.4.49:individuals_assays\":\n",
    "                for element in query.element(\"asset/meta/{}\".format(document)).elements():\n",
    "                    if element.name() not in d:\n",
    "                        d[element.name()] = element.value()\n",
    "                    else:\n",
    "                        logging.warning(\"Asset {}: Duplicated element {}. Ignoring duplicates.\"\\\n",
    "                            .format(asset_id, element.name()))\n",
    "            else:\n",
    "                # Process individual_assay metadata separately. Each element is another document.\n",
    "                assay_elements = query.element(\"asset/meta/proj-hoffmann_data-1128.4.49:individuals_assays\").elements()\n",
    "                for a in assay_elements:\n",
    "                    assay_dict = collections.OrderedDict()\n",
    "                    assay_dict[\"asset_id\"] = asset_id\n",
    "                    assay_dict[\"assay_name\"] = a.name()\n",
    "                    for element in a.elements():\n",
    "                        if element.name() not in assay_dict:\n",
    "                            assay_dict[element.name()] = element.value()\n",
    "                        else:\n",
    "                            logging.warning(\"Asset {}: Duplicated element {} in {}. Ignoring duplicates.\"\\\n",
    "                                .format(asset_id, element.name(), a.name()))\n",
    "                    assay_list.append(assay_dict)\n",
    "        individuals_metadata_dicts[asset_id] = d"
   ]
  },
  {
   "cell_type": "code",
   "execution_count": 50,
   "metadata": {
    "ExecuteTime": {
     "end_time": "2021-01-25T00:22:44.802350Z",
     "start_time": "2021-01-25T00:22:44.504290Z"
    }
   },
   "outputs": [
    {
     "data": {
      "text/html": [
       "<div>\n",
       "<style scoped>\n",
       "    .dataframe tbody tr th:only-of-type {\n",
       "        vertical-align: middle;\n",
       "    }\n",
       "\n",
       "    .dataframe tbody tr th {\n",
       "        vertical-align: top;\n",
       "    }\n",
       "\n",
       "    .dataframe thead th {\n",
       "        text-align: right;\n",
       "    }\n",
       "</style>\n",
       "<table border=\"1\" class=\"dataframe\">\n",
       "  <thead>\n",
       "    <tr style=\"text-align: right;\">\n",
       "      <th></th>\n",
       "      <th>asset_id</th>\n",
       "      <th>date_current_update</th>\n",
       "      <th>person_current_update</th>\n",
       "      <th>scientific_name_species</th>\n",
       "      <th>common_name_species</th>\n",
       "      <th>individual_description</th>\n",
       "      <th>date_collection</th>\n",
       "      <th>person_collection</th>\n",
       "      <th>dev_stage_collected</th>\n",
       "      <th>dev_stage_stored</th>\n",
       "      <th>...</th>\n",
       "      <th>radseq_library_name</th>\n",
       "      <th>radseq_library_alias</th>\n",
       "      <th>raw_sequence_filename</th>\n",
       "      <th>barcode_reference_list</th>\n",
       "      <th>p1_barcode_code_sequence</th>\n",
       "      <th>p2_barcode_code_sequence</th>\n",
       "      <th>individual_code</th>\n",
       "      <th>individual_code_alias</th>\n",
       "      <th>dna_tube2_conc</th>\n",
       "      <th>strain</th>\n",
       "    </tr>\n",
       "  </thead>\n",
       "  <tbody>\n",
       "    <tr>\n",
       "      <th>35280960</th>\n",
       "      <td>35280960</td>\n",
       "      <td>31-Oct-2017</td>\n",
       "      <td>Tom Schmidt</td>\n",
       "      <td>Aedes albopictus</td>\n",
       "      <td>Asian Tiger Mosquito</td>\n",
       "      <td>This individual has been extracted and sequenc...</td>\n",
       "      <td>25-Sep-2015</td>\n",
       "      <td>Dongjing Zhang</td>\n",
       "      <td>Larva or pupa</td>\n",
       "      <td>Larva or pupa</td>\n",
       "      <td>...</td>\n",
       "      <td>P4_CA5YJANXX</td>\n",
       "      <td>P4</td>\n",
       "      <td>P4_CA5YJANXX_NoIndex_L002_R1.fastq.gz|P4_CA5YJ...</td>\n",
       "      <td>pearg_bc2017</td>\n",
       "      <td>3 ACGTCA</td>\n",
       "      <td>1 CATGAC</td>\n",
       "      <td>chn_alb_A001</td>\n",
       "      <td>A001</td>\n",
       "      <td>NaN</td>\n",
       "      <td>NaN</td>\n",
       "    </tr>\n",
       "    <tr>\n",
       "      <th>35281030</th>\n",
       "      <td>35281030</td>\n",
       "      <td>31-Oct-2017</td>\n",
       "      <td>Tom Schmidt</td>\n",
       "      <td>Aedes albopictus</td>\n",
       "      <td>Asian Tiger Mosquito</td>\n",
       "      <td>This individual has been extracted and sequenc...</td>\n",
       "      <td>25-Oct-2015</td>\n",
       "      <td>Dongjing Zhang</td>\n",
       "      <td>Larva or pupa</td>\n",
       "      <td>Larva or pupa</td>\n",
       "      <td>...</td>\n",
       "      <td>P4_CA5YJANXX</td>\n",
       "      <td>P4</td>\n",
       "      <td>P4_CA5YJANXX_NoIndex_L002_R1.fastq.gz|P4_CA5YJ...</td>\n",
       "      <td>pearg_bc2017</td>\n",
       "      <td>9 ATGCTA</td>\n",
       "      <td>1 CATGAC</td>\n",
       "      <td>chn_alb_A002</td>\n",
       "      <td>A002</td>\n",
       "      <td>NaN</td>\n",
       "      <td>NaN</td>\n",
       "    </tr>\n",
       "    <tr>\n",
       "      <th>35281033</th>\n",
       "      <td>35281033</td>\n",
       "      <td>31-Oct-2017</td>\n",
       "      <td>Tom Schmidt</td>\n",
       "      <td>Aedes albopictus</td>\n",
       "      <td>Asian Tiger Mosquito</td>\n",
       "      <td>This individual has been extracted and sequenc...</td>\n",
       "      <td>25-Sep-2015</td>\n",
       "      <td>Dongjing Zhang</td>\n",
       "      <td>Larva or pupa</td>\n",
       "      <td>Larva or pupa</td>\n",
       "      <td>...</td>\n",
       "      <td>P4_CA5YJANXX</td>\n",
       "      <td>P4</td>\n",
       "      <td>P4_CA5YJANXX_NoIndex_L002_R1.fastq.gz|P4_CA5YJ...</td>\n",
       "      <td>pearg_bc2017</td>\n",
       "      <td>3 ACGTCA</td>\n",
       "      <td>2 TGCAGT</td>\n",
       "      <td>chn_alb_A003</td>\n",
       "      <td>A003</td>\n",
       "      <td>NaN</td>\n",
       "      <td>NaN</td>\n",
       "    </tr>\n",
       "    <tr>\n",
       "      <th>35281798</th>\n",
       "      <td>35281798</td>\n",
       "      <td>31-Oct-2017</td>\n",
       "      <td>Tom Schmidt</td>\n",
       "      <td>Aedes albopictus</td>\n",
       "      <td>Asian Tiger Mosquito</td>\n",
       "      <td>This individual has been extracted and sequenc...</td>\n",
       "      <td>25-Sep-2015</td>\n",
       "      <td>Dongjing Zhang</td>\n",
       "      <td>Larva or pupa</td>\n",
       "      <td>Larva or pupa</td>\n",
       "      <td>...</td>\n",
       "      <td>P4_CA5YJANXX</td>\n",
       "      <td>P4</td>\n",
       "      <td>P4_CA5YJANXX_NoIndex_L002_R1.fastq.gz|P4_CA5YJ...</td>\n",
       "      <td>pearg_bc2017</td>\n",
       "      <td>15 CGATAC</td>\n",
       "      <td>1 CATGAC</td>\n",
       "      <td>chn_alb_A004</td>\n",
       "      <td>A004</td>\n",
       "      <td>NaN</td>\n",
       "      <td>NaN</td>\n",
       "    </tr>\n",
       "    <tr>\n",
       "      <th>35282328</th>\n",
       "      <td>35282328</td>\n",
       "      <td>31-Oct-2017</td>\n",
       "      <td>Tom Schmidt</td>\n",
       "      <td>Aedes albopictus</td>\n",
       "      <td>Asian Tiger Mosquito</td>\n",
       "      <td>This individual has been extracted and sequenc...</td>\n",
       "      <td>25-Sep-2015</td>\n",
       "      <td>Dongjing Zhang</td>\n",
       "      <td>Larva or pupa</td>\n",
       "      <td>Larva or pupa</td>\n",
       "      <td>...</td>\n",
       "      <td>P4_CA5YJANXX</td>\n",
       "      <td>P4</td>\n",
       "      <td>P4_CA5YJANXX_NoIndex_L002_R1.fastq.gz|P4_CA5YJ...</td>\n",
       "      <td>pearg_bc2017</td>\n",
       "      <td>9 ATGCTA</td>\n",
       "      <td>2 TGCAGT</td>\n",
       "      <td>chn_alb_A005</td>\n",
       "      <td>A005</td>\n",
       "      <td>NaN</td>\n",
       "      <td>NaN</td>\n",
       "    </tr>\n",
       "  </tbody>\n",
       "</table>\n",
       "<p>5 rows × 39 columns</p>\n",
       "</div>"
      ],
      "text/plain": [
       "          asset_id date_current_update person_current_update  \\\n",
       "35280960  35280960         31-Oct-2017           Tom Schmidt   \n",
       "35281030  35281030         31-Oct-2017           Tom Schmidt   \n",
       "35281033  35281033         31-Oct-2017           Tom Schmidt   \n",
       "35281798  35281798         31-Oct-2017           Tom Schmidt   \n",
       "35282328  35282328         31-Oct-2017           Tom Schmidt   \n",
       "\n",
       "         scientific_name_species   common_name_species  \\\n",
       "35280960        Aedes albopictus  Asian Tiger Mosquito   \n",
       "35281030        Aedes albopictus  Asian Tiger Mosquito   \n",
       "35281033        Aedes albopictus  Asian Tiger Mosquito   \n",
       "35281798        Aedes albopictus  Asian Tiger Mosquito   \n",
       "35282328        Aedes albopictus  Asian Tiger Mosquito   \n",
       "\n",
       "                                     individual_description date_collection  \\\n",
       "35280960  This individual has been extracted and sequenc...     25-Sep-2015   \n",
       "35281030  This individual has been extracted and sequenc...     25-Oct-2015   \n",
       "35281033  This individual has been extracted and sequenc...     25-Sep-2015   \n",
       "35281798  This individual has been extracted and sequenc...     25-Sep-2015   \n",
       "35282328  This individual has been extracted and sequenc...     25-Sep-2015   \n",
       "\n",
       "         person_collection dev_stage_collected dev_stage_stored  ...  \\\n",
       "35280960    Dongjing Zhang       Larva or pupa    Larva or pupa  ...   \n",
       "35281030    Dongjing Zhang       Larva or pupa    Larva or pupa  ...   \n",
       "35281033    Dongjing Zhang       Larva or pupa    Larva or pupa  ...   \n",
       "35281798    Dongjing Zhang       Larva or pupa    Larva or pupa  ...   \n",
       "35282328    Dongjing Zhang       Larva or pupa    Larva or pupa  ...   \n",
       "\n",
       "         radseq_library_name radseq_library_alias  \\\n",
       "35280960        P4_CA5YJANXX                   P4   \n",
       "35281030        P4_CA5YJANXX                   P4   \n",
       "35281033        P4_CA5YJANXX                   P4   \n",
       "35281798        P4_CA5YJANXX                   P4   \n",
       "35282328        P4_CA5YJANXX                   P4   \n",
       "\n",
       "                                      raw_sequence_filename  \\\n",
       "35280960  P4_CA5YJANXX_NoIndex_L002_R1.fastq.gz|P4_CA5YJ...   \n",
       "35281030  P4_CA5YJANXX_NoIndex_L002_R1.fastq.gz|P4_CA5YJ...   \n",
       "35281033  P4_CA5YJANXX_NoIndex_L002_R1.fastq.gz|P4_CA5YJ...   \n",
       "35281798  P4_CA5YJANXX_NoIndex_L002_R1.fastq.gz|P4_CA5YJ...   \n",
       "35282328  P4_CA5YJANXX_NoIndex_L002_R1.fastq.gz|P4_CA5YJ...   \n",
       "\n",
       "         barcode_reference_list p1_barcode_code_sequence  \\\n",
       "35280960           pearg_bc2017                 3 ACGTCA   \n",
       "35281030           pearg_bc2017                 9 ATGCTA   \n",
       "35281033           pearg_bc2017                 3 ACGTCA   \n",
       "35281798           pearg_bc2017                15 CGATAC   \n",
       "35282328           pearg_bc2017                 9 ATGCTA   \n",
       "\n",
       "         p2_barcode_code_sequence individual_code individual_code_alias  \\\n",
       "35280960                 1 CATGAC    chn_alb_A001                  A001   \n",
       "35281030                 1 CATGAC    chn_alb_A002                  A002   \n",
       "35281033                 2 TGCAGT    chn_alb_A003                  A003   \n",
       "35281798                 1 CATGAC    chn_alb_A004                  A004   \n",
       "35282328                 2 TGCAGT    chn_alb_A005                  A005   \n",
       "\n",
       "         dna_tube2_conc strain  \n",
       "35280960            NaN    NaN  \n",
       "35281030            NaN    NaN  \n",
       "35281033            NaN    NaN  \n",
       "35281798            NaN    NaN  \n",
       "35282328            NaN    NaN  \n",
       "\n",
       "[5 rows x 39 columns]"
      ]
     },
     "execution_count": 50,
     "metadata": {},
     "output_type": "execute_result"
    }
   ],
   "source": [
    "individuals_metadata_df = pd.DataFrame(individuals_metadata_dicts).T\n",
    "individuals_metadata_df.head()"
   ]
  },
  {
   "cell_type": "code",
   "execution_count": 51,
   "metadata": {
    "ExecuteTime": {
     "end_time": "2021-01-25T00:22:46.960039Z",
     "start_time": "2021-01-25T00:22:46.951397Z"
    }
   },
   "outputs": [],
   "source": [
    "# Get order from the metadata documents, not a particular asset \n",
    "# because some assets can be missing fileds\n",
    "individuals_metadata_col_order = [x for x in individuals_metadata_dicts[asset_id_list[0]]]"
   ]
  },
  {
   "cell_type": "code",
   "execution_count": 52,
   "metadata": {
    "ExecuteTime": {
     "end_time": "2021-01-25T00:22:48.128012Z",
     "start_time": "2021-01-25T00:22:48.112196Z"
    }
   },
   "outputs": [
    {
     "data": {
      "text/plain": [
       "['dna_tube2_conc', 'strain']"
      ]
     },
     "execution_count": 52,
     "metadata": {},
     "output_type": "execute_result"
    }
   ],
   "source": [
    "# XXX: These columns are missing\n",
    "missing = [col for col in individuals_metadata_df.columns if col not in individuals_metadata_col_order]\n",
    "missing"
   ]
  },
  {
   "cell_type": "code",
   "execution_count": 53,
   "metadata": {
    "ExecuteTime": {
     "end_time": "2021-01-25T00:22:49.361773Z",
     "start_time": "2021-01-25T00:22:49.295544Z"
    }
   },
   "outputs": [
    {
     "data": {
      "text/html": [
       "<div>\n",
       "<style scoped>\n",
       "    .dataframe tbody tr th:only-of-type {\n",
       "        vertical-align: middle;\n",
       "    }\n",
       "\n",
       "    .dataframe tbody tr th {\n",
       "        vertical-align: top;\n",
       "    }\n",
       "\n",
       "    .dataframe thead th {\n",
       "        text-align: right;\n",
       "    }\n",
       "</style>\n",
       "<table border=\"1\" class=\"dataframe\">\n",
       "  <thead>\n",
       "    <tr style=\"text-align: right;\">\n",
       "      <th></th>\n",
       "      <th>asset_id</th>\n",
       "      <th>date_current_update</th>\n",
       "      <th>person_current_update</th>\n",
       "      <th>scientific_name_species</th>\n",
       "      <th>common_name_species</th>\n",
       "      <th>individual_description</th>\n",
       "      <th>date_collection</th>\n",
       "      <th>person_collection</th>\n",
       "      <th>dev_stage_collected</th>\n",
       "      <th>dev_stage_stored</th>\n",
       "      <th>...</th>\n",
       "      <th>radseq_library_name</th>\n",
       "      <th>radseq_library_alias</th>\n",
       "      <th>raw_sequence_filename</th>\n",
       "      <th>barcode_reference_list</th>\n",
       "      <th>p1_barcode_code_sequence</th>\n",
       "      <th>p2_barcode_code_sequence</th>\n",
       "      <th>individual_code</th>\n",
       "      <th>individual_code_alias</th>\n",
       "      <th>dna_tube2_conc</th>\n",
       "      <th>strain</th>\n",
       "    </tr>\n",
       "  </thead>\n",
       "  <tbody>\n",
       "    <tr>\n",
       "      <th>35280960</th>\n",
       "      <td>35280960</td>\n",
       "      <td>31-Oct-2017</td>\n",
       "      <td>Tom Schmidt</td>\n",
       "      <td>Aedes albopictus</td>\n",
       "      <td>Asian Tiger Mosquito</td>\n",
       "      <td>This individual has been extracted and sequenc...</td>\n",
       "      <td>25-Sep-2015</td>\n",
       "      <td>Dongjing Zhang</td>\n",
       "      <td>Larva or pupa</td>\n",
       "      <td>Larva or pupa</td>\n",
       "      <td>...</td>\n",
       "      <td>P4_CA5YJANXX</td>\n",
       "      <td>P4</td>\n",
       "      <td>P4_CA5YJANXX_NoIndex_L002_R1.fastq.gz|P4_CA5YJ...</td>\n",
       "      <td>pearg_bc2017</td>\n",
       "      <td>3 ACGTCA</td>\n",
       "      <td>1 CATGAC</td>\n",
       "      <td>chn_alb_A001</td>\n",
       "      <td>A001</td>\n",
       "      <td>NaN</td>\n",
       "      <td>NaN</td>\n",
       "    </tr>\n",
       "    <tr>\n",
       "      <th>35281030</th>\n",
       "      <td>35281030</td>\n",
       "      <td>31-Oct-2017</td>\n",
       "      <td>Tom Schmidt</td>\n",
       "      <td>Aedes albopictus</td>\n",
       "      <td>Asian Tiger Mosquito</td>\n",
       "      <td>This individual has been extracted and sequenc...</td>\n",
       "      <td>25-Oct-2015</td>\n",
       "      <td>Dongjing Zhang</td>\n",
       "      <td>Larva or pupa</td>\n",
       "      <td>Larva or pupa</td>\n",
       "      <td>...</td>\n",
       "      <td>P4_CA5YJANXX</td>\n",
       "      <td>P4</td>\n",
       "      <td>P4_CA5YJANXX_NoIndex_L002_R1.fastq.gz|P4_CA5YJ...</td>\n",
       "      <td>pearg_bc2017</td>\n",
       "      <td>9 ATGCTA</td>\n",
       "      <td>1 CATGAC</td>\n",
       "      <td>chn_alb_A002</td>\n",
       "      <td>A002</td>\n",
       "      <td>NaN</td>\n",
       "      <td>NaN</td>\n",
       "    </tr>\n",
       "    <tr>\n",
       "      <th>35281033</th>\n",
       "      <td>35281033</td>\n",
       "      <td>31-Oct-2017</td>\n",
       "      <td>Tom Schmidt</td>\n",
       "      <td>Aedes albopictus</td>\n",
       "      <td>Asian Tiger Mosquito</td>\n",
       "      <td>This individual has been extracted and sequenc...</td>\n",
       "      <td>25-Sep-2015</td>\n",
       "      <td>Dongjing Zhang</td>\n",
       "      <td>Larva or pupa</td>\n",
       "      <td>Larva or pupa</td>\n",
       "      <td>...</td>\n",
       "      <td>P4_CA5YJANXX</td>\n",
       "      <td>P4</td>\n",
       "      <td>P4_CA5YJANXX_NoIndex_L002_R1.fastq.gz|P4_CA5YJ...</td>\n",
       "      <td>pearg_bc2017</td>\n",
       "      <td>3 ACGTCA</td>\n",
       "      <td>2 TGCAGT</td>\n",
       "      <td>chn_alb_A003</td>\n",
       "      <td>A003</td>\n",
       "      <td>NaN</td>\n",
       "      <td>NaN</td>\n",
       "    </tr>\n",
       "    <tr>\n",
       "      <th>35281798</th>\n",
       "      <td>35281798</td>\n",
       "      <td>31-Oct-2017</td>\n",
       "      <td>Tom Schmidt</td>\n",
       "      <td>Aedes albopictus</td>\n",
       "      <td>Asian Tiger Mosquito</td>\n",
       "      <td>This individual has been extracted and sequenc...</td>\n",
       "      <td>25-Sep-2015</td>\n",
       "      <td>Dongjing Zhang</td>\n",
       "      <td>Larva or pupa</td>\n",
       "      <td>Larva or pupa</td>\n",
       "      <td>...</td>\n",
       "      <td>P4_CA5YJANXX</td>\n",
       "      <td>P4</td>\n",
       "      <td>P4_CA5YJANXX_NoIndex_L002_R1.fastq.gz|P4_CA5YJ...</td>\n",
       "      <td>pearg_bc2017</td>\n",
       "      <td>15 CGATAC</td>\n",
       "      <td>1 CATGAC</td>\n",
       "      <td>chn_alb_A004</td>\n",
       "      <td>A004</td>\n",
       "      <td>NaN</td>\n",
       "      <td>NaN</td>\n",
       "    </tr>\n",
       "    <tr>\n",
       "      <th>35282328</th>\n",
       "      <td>35282328</td>\n",
       "      <td>31-Oct-2017</td>\n",
       "      <td>Tom Schmidt</td>\n",
       "      <td>Aedes albopictus</td>\n",
       "      <td>Asian Tiger Mosquito</td>\n",
       "      <td>This individual has been extracted and sequenc...</td>\n",
       "      <td>25-Sep-2015</td>\n",
       "      <td>Dongjing Zhang</td>\n",
       "      <td>Larva or pupa</td>\n",
       "      <td>Larva or pupa</td>\n",
       "      <td>...</td>\n",
       "      <td>P4_CA5YJANXX</td>\n",
       "      <td>P4</td>\n",
       "      <td>P4_CA5YJANXX_NoIndex_L002_R1.fastq.gz|P4_CA5YJ...</td>\n",
       "      <td>pearg_bc2017</td>\n",
       "      <td>9 ATGCTA</td>\n",
       "      <td>2 TGCAGT</td>\n",
       "      <td>chn_alb_A005</td>\n",
       "      <td>A005</td>\n",
       "      <td>NaN</td>\n",
       "      <td>NaN</td>\n",
       "    </tr>\n",
       "  </tbody>\n",
       "</table>\n",
       "<p>5 rows × 39 columns</p>\n",
       "</div>"
      ],
      "text/plain": [
       "          asset_id date_current_update person_current_update  \\\n",
       "35280960  35280960         31-Oct-2017           Tom Schmidt   \n",
       "35281030  35281030         31-Oct-2017           Tom Schmidt   \n",
       "35281033  35281033         31-Oct-2017           Tom Schmidt   \n",
       "35281798  35281798         31-Oct-2017           Tom Schmidt   \n",
       "35282328  35282328         31-Oct-2017           Tom Schmidt   \n",
       "\n",
       "         scientific_name_species   common_name_species  \\\n",
       "35280960        Aedes albopictus  Asian Tiger Mosquito   \n",
       "35281030        Aedes albopictus  Asian Tiger Mosquito   \n",
       "35281033        Aedes albopictus  Asian Tiger Mosquito   \n",
       "35281798        Aedes albopictus  Asian Tiger Mosquito   \n",
       "35282328        Aedes albopictus  Asian Tiger Mosquito   \n",
       "\n",
       "                                     individual_description date_collection  \\\n",
       "35280960  This individual has been extracted and sequenc...     25-Sep-2015   \n",
       "35281030  This individual has been extracted and sequenc...     25-Oct-2015   \n",
       "35281033  This individual has been extracted and sequenc...     25-Sep-2015   \n",
       "35281798  This individual has been extracted and sequenc...     25-Sep-2015   \n",
       "35282328  This individual has been extracted and sequenc...     25-Sep-2015   \n",
       "\n",
       "         person_collection dev_stage_collected dev_stage_stored  ...  \\\n",
       "35280960    Dongjing Zhang       Larva or pupa    Larva or pupa  ...   \n",
       "35281030    Dongjing Zhang       Larva or pupa    Larva or pupa  ...   \n",
       "35281033    Dongjing Zhang       Larva or pupa    Larva or pupa  ...   \n",
       "35281798    Dongjing Zhang       Larva or pupa    Larva or pupa  ...   \n",
       "35282328    Dongjing Zhang       Larva or pupa    Larva or pupa  ...   \n",
       "\n",
       "         radseq_library_name radseq_library_alias  \\\n",
       "35280960        P4_CA5YJANXX                   P4   \n",
       "35281030        P4_CA5YJANXX                   P4   \n",
       "35281033        P4_CA5YJANXX                   P4   \n",
       "35281798        P4_CA5YJANXX                   P4   \n",
       "35282328        P4_CA5YJANXX                   P4   \n",
       "\n",
       "                                      raw_sequence_filename  \\\n",
       "35280960  P4_CA5YJANXX_NoIndex_L002_R1.fastq.gz|P4_CA5YJ...   \n",
       "35281030  P4_CA5YJANXX_NoIndex_L002_R1.fastq.gz|P4_CA5YJ...   \n",
       "35281033  P4_CA5YJANXX_NoIndex_L002_R1.fastq.gz|P4_CA5YJ...   \n",
       "35281798  P4_CA5YJANXX_NoIndex_L002_R1.fastq.gz|P4_CA5YJ...   \n",
       "35282328  P4_CA5YJANXX_NoIndex_L002_R1.fastq.gz|P4_CA5YJ...   \n",
       "\n",
       "         barcode_reference_list p1_barcode_code_sequence  \\\n",
       "35280960           pearg_bc2017                 3 ACGTCA   \n",
       "35281030           pearg_bc2017                 9 ATGCTA   \n",
       "35281033           pearg_bc2017                 3 ACGTCA   \n",
       "35281798           pearg_bc2017                15 CGATAC   \n",
       "35282328           pearg_bc2017                 9 ATGCTA   \n",
       "\n",
       "         p2_barcode_code_sequence individual_code individual_code_alias  \\\n",
       "35280960                 1 CATGAC    chn_alb_A001                  A001   \n",
       "35281030                 1 CATGAC    chn_alb_A002                  A002   \n",
       "35281033                 2 TGCAGT    chn_alb_A003                  A003   \n",
       "35281798                 1 CATGAC    chn_alb_A004                  A004   \n",
       "35282328                 2 TGCAGT    chn_alb_A005                  A005   \n",
       "\n",
       "         dna_tube2_conc strain  \n",
       "35280960            NaN    NaN  \n",
       "35281030            NaN    NaN  \n",
       "35281033            NaN    NaN  \n",
       "35281798            NaN    NaN  \n",
       "35282328            NaN    NaN  \n",
       "\n",
       "[5 rows x 39 columns]"
      ]
     },
     "execution_count": 53,
     "metadata": {},
     "output_type": "execute_result"
    }
   ],
   "source": [
    "individuals_metadata_df = individuals_metadata_df[individuals_metadata_col_order + missing]\n",
    "individuals_metadata_df.head()"
   ]
  },
  {
   "cell_type": "code",
   "execution_count": 54,
   "metadata": {
    "ExecuteTime": {
     "end_time": "2021-01-25T00:22:50.354085Z",
     "start_time": "2021-01-25T00:22:50.347550Z"
    }
   },
   "outputs": [
    {
     "data": {
      "text/plain": [
       "(2382, 39)"
      ]
     },
     "execution_count": 54,
     "metadata": {},
     "output_type": "execute_result"
    }
   ],
   "source": [
    "individuals_metadata_df.shape"
   ]
  },
  {
   "cell_type": "code",
   "execution_count": 55,
   "metadata": {
    "ExecuteTime": {
     "end_time": "2021-01-25T00:22:51.223598Z",
     "start_time": "2021-01-25T00:22:51.203166Z"
    }
   },
   "outputs": [
    {
     "data": {
      "text/plain": [
       "Counter({'KDR_assay': 3065, 'wolbachia_assay': 200})"
      ]
     },
     "execution_count": 55,
     "metadata": {},
     "output_type": "execute_result"
    }
   ],
   "source": [
    "collections.Counter([x[\"assay_name\"] for x in assay_list])"
   ]
  },
  {
   "cell_type": "code",
   "execution_count": 56,
   "metadata": {
    "ExecuteTime": {
     "end_time": "2021-01-25T00:22:51.813882Z",
     "start_time": "2021-01-25T00:22:51.780520Z"
    }
   },
   "outputs": [
    {
     "data": {
      "text/html": [
       "<div>\n",
       "<style scoped>\n",
       "    .dataframe tbody tr th:only-of-type {\n",
       "        vertical-align: middle;\n",
       "    }\n",
       "\n",
       "    .dataframe tbody tr th {\n",
       "        vertical-align: top;\n",
       "    }\n",
       "\n",
       "    .dataframe thead th {\n",
       "        text-align: right;\n",
       "    }\n",
       "</style>\n",
       "<table border=\"1\" class=\"dataframe\">\n",
       "  <thead>\n",
       "    <tr style=\"text-align: right;\">\n",
       "      <th></th>\n",
       "      <th>asset_id</th>\n",
       "      <th>assay_name</th>\n",
       "      <th>date_current_update</th>\n",
       "      <th>resistance_mutation</th>\n",
       "      <th>resistance_genotype</th>\n",
       "    </tr>\n",
       "  </thead>\n",
       "  <tbody>\n",
       "    <tr>\n",
       "      <th>0</th>\n",
       "      <td>35280960</td>\n",
       "      <td>KDR_assay</td>\n",
       "      <td>21-May-2018</td>\n",
       "      <td>V1023G</td>\n",
       "      <td>NaN</td>\n",
       "    </tr>\n",
       "    <tr>\n",
       "      <th>1</th>\n",
       "      <td>35280960</td>\n",
       "      <td>KDR_assay</td>\n",
       "      <td>21-May-2018</td>\n",
       "      <td>F1565C</td>\n",
       "      <td>NaN</td>\n",
       "    </tr>\n",
       "    <tr>\n",
       "      <th>2</th>\n",
       "      <td>35280960</td>\n",
       "      <td>KDR_assay</td>\n",
       "      <td>21-May-2018</td>\n",
       "      <td>S996P</td>\n",
       "      <td>NaN</td>\n",
       "    </tr>\n",
       "    <tr>\n",
       "      <th>3</th>\n",
       "      <td>35283046</td>\n",
       "      <td>KDR_assay</td>\n",
       "      <td>NaN</td>\n",
       "      <td>V1023G</td>\n",
       "      <td>NaN</td>\n",
       "    </tr>\n",
       "    <tr>\n",
       "      <th>4</th>\n",
       "      <td>35283046</td>\n",
       "      <td>KDR_assay</td>\n",
       "      <td>NaN</td>\n",
       "      <td>F1565C</td>\n",
       "      <td>NaN</td>\n",
       "    </tr>\n",
       "  </tbody>\n",
       "</table>\n",
       "</div>"
      ],
      "text/plain": [
       "   asset_id assay_name date_current_update resistance_mutation  \\\n",
       "0  35280960  KDR_assay         21-May-2018              V1023G   \n",
       "1  35280960  KDR_assay         21-May-2018              F1565C   \n",
       "2  35280960  KDR_assay         21-May-2018               S996P   \n",
       "3  35283046  KDR_assay                 NaN              V1023G   \n",
       "4  35283046  KDR_assay                 NaN              F1565C   \n",
       "\n",
       "  resistance_genotype  \n",
       "0                 NaN  \n",
       "1                 NaN  \n",
       "2                 NaN  \n",
       "3                 NaN  \n",
       "4                 NaN  "
      ]
     },
     "execution_count": 56,
     "metadata": {},
     "output_type": "execute_result"
    }
   ],
   "source": [
    "kdr_assay_metadata_df = pd.DataFrame([x for x in assay_list if x[\"assay_name\"] == \"KDR_assay\"])\n",
    "kdr_assay_metadata_df.head()"
   ]
  },
  {
   "cell_type": "code",
   "execution_count": 57,
   "metadata": {
    "ExecuteTime": {
     "end_time": "2021-01-25T00:22:52.453209Z",
     "start_time": "2021-01-25T00:22:52.411839Z"
    }
   },
   "outputs": [
    {
     "data": {
      "text/html": [
       "<div>\n",
       "<style scoped>\n",
       "    .dataframe tbody tr th:only-of-type {\n",
       "        vertical-align: middle;\n",
       "    }\n",
       "\n",
       "    .dataframe tbody tr th {\n",
       "        vertical-align: top;\n",
       "    }\n",
       "\n",
       "    .dataframe thead th {\n",
       "        text-align: right;\n",
       "    }\n",
       "</style>\n",
       "<table border=\"1\" class=\"dataframe\">\n",
       "  <thead>\n",
       "    <tr style=\"text-align: right;\">\n",
       "      <th></th>\n",
       "      <th>asset_id</th>\n",
       "      <th>assay_name</th>\n",
       "      <th>date_current_update</th>\n",
       "      <th>wolbachia_infection_assay</th>\n",
       "      <th>wolbachia_strain</th>\n",
       "      <th>infection_status</th>\n",
       "    </tr>\n",
       "  </thead>\n",
       "  <tbody>\n",
       "    <tr>\n",
       "      <th>0</th>\n",
       "      <td>35280960</td>\n",
       "      <td>wolbachia_assay</td>\n",
       "      <td>21-May-2018</td>\n",
       "      <td>Ronald's Lightcycler PCR assay for wMel; see L...</td>\n",
       "      <td>wMel</td>\n",
       "      <td>NaN</td>\n",
       "    </tr>\n",
       "    <tr>\n",
       "      <th>1</th>\n",
       "      <td>35510511</td>\n",
       "      <td>wolbachia_assay</td>\n",
       "      <td>15-Jan-2018</td>\n",
       "      <td>Ronald's Lightcycler PCR assay for wMel; see L...</td>\n",
       "      <td>wMel</td>\n",
       "      <td>uninfected</td>\n",
       "    </tr>\n",
       "    <tr>\n",
       "      <th>2</th>\n",
       "      <td>35510512</td>\n",
       "      <td>wolbachia_assay</td>\n",
       "      <td>15-Jan-2018</td>\n",
       "      <td>Ronald's Lightcycler PCR assay for wMel; see L...</td>\n",
       "      <td>wMel</td>\n",
       "      <td>no result</td>\n",
       "    </tr>\n",
       "    <tr>\n",
       "      <th>3</th>\n",
       "      <td>35510513</td>\n",
       "      <td>wolbachia_assay</td>\n",
       "      <td>15-Jan-2018</td>\n",
       "      <td>Ronald's Lightcycler PCR assay for wMel; see L...</td>\n",
       "      <td>wMel</td>\n",
       "      <td>no result</td>\n",
       "    </tr>\n",
       "    <tr>\n",
       "      <th>4</th>\n",
       "      <td>35510514</td>\n",
       "      <td>wolbachia_assay</td>\n",
       "      <td>15-Jan-2018</td>\n",
       "      <td>Ronald's Lightcycler PCR assay for wMel; see L...</td>\n",
       "      <td>wMel</td>\n",
       "      <td>infected</td>\n",
       "    </tr>\n",
       "  </tbody>\n",
       "</table>\n",
       "</div>"
      ],
      "text/plain": [
       "   asset_id       assay_name date_current_update  \\\n",
       "0  35280960  wolbachia_assay         21-May-2018   \n",
       "1  35510511  wolbachia_assay         15-Jan-2018   \n",
       "2  35510512  wolbachia_assay         15-Jan-2018   \n",
       "3  35510513  wolbachia_assay         15-Jan-2018   \n",
       "4  35510514  wolbachia_assay         15-Jan-2018   \n",
       "\n",
       "                           wolbachia_infection_assay wolbachia_strain  \\\n",
       "0  Ronald's Lightcycler PCR assay for wMel; see L...             wMel   \n",
       "1  Ronald's Lightcycler PCR assay for wMel; see L...             wMel   \n",
       "2  Ronald's Lightcycler PCR assay for wMel; see L...             wMel   \n",
       "3  Ronald's Lightcycler PCR assay for wMel; see L...             wMel   \n",
       "4  Ronald's Lightcycler PCR assay for wMel; see L...             wMel   \n",
       "\n",
       "  infection_status  \n",
       "0              NaN  \n",
       "1       uninfected  \n",
       "2        no result  \n",
       "3        no result  \n",
       "4         infected  "
      ]
     },
     "execution_count": 57,
     "metadata": {},
     "output_type": "execute_result"
    }
   ],
   "source": [
    "wolbachia_assay_metadata_df = pd.DataFrame([x for x in assay_list if x[\"assay_name\"] == \"wolbachia_assay\"])\n",
    "wolbachia_assay_metadata_df.head()"
   ]
  },
  {
   "cell_type": "markdown",
   "metadata": {},
   "source": [
    "-----\n",
    "\n",
    "# Get library archive size from data dataframe\n",
    "\n",
    "Combine library dataframe and data dataframe to a single dataframe"
   ]
  },
  {
   "cell_type": "code",
   "execution_count": 58,
   "metadata": {
    "ExecuteTime": {
     "end_time": "2021-01-25T00:22:54.112457Z",
     "start_time": "2021-01-25T00:22:54.073081Z"
    }
   },
   "outputs": [
    {
     "data": {
      "text/html": [
       "<div>\n",
       "<style scoped>\n",
       "    .dataframe tbody tr th:only-of-type {\n",
       "        vertical-align: middle;\n",
       "    }\n",
       "\n",
       "    .dataframe tbody tr th {\n",
       "        vertical-align: top;\n",
       "    }\n",
       "\n",
       "    .dataframe thead th {\n",
       "        text-align: right;\n",
       "    }\n",
       "</style>\n",
       "<table border=\"1\" class=\"dataframe\">\n",
       "  <thead>\n",
       "    <tr style=\"text-align: right;\">\n",
       "      <th></th>\n",
       "      <th>asset_id</th>\n",
       "      <th>asset_name</th>\n",
       "      <th>full_path</th>\n",
       "      <th>approx_size</th>\n",
       "      <th>size_in_bytes</th>\n",
       "    </tr>\n",
       "  </thead>\n",
       "  <tbody>\n",
       "    <tr>\n",
       "      <th>127</th>\n",
       "      <td>718517853</td>\n",
       "      <td>EBB_2022_1F.tar</td>\n",
       "      <td>/projects/proj-hoffmann_data-1128.4.49/data/EB...</td>\n",
       "      <td>6.227 GB</td>\n",
       "      <td>6226565120</td>\n",
       "    </tr>\n",
       "    <tr>\n",
       "      <th>128</th>\n",
       "      <td>718518422</td>\n",
       "      <td>EBB_2022_2A.tar</td>\n",
       "      <td>/projects/proj-hoffmann_data-1128.4.49/data/EB...</td>\n",
       "      <td>3.666 GB</td>\n",
       "      <td>3666350080</td>\n",
       "    </tr>\n",
       "    <tr>\n",
       "      <th>129</th>\n",
       "      <td>718519268</td>\n",
       "      <td>EBB_2022_2B.tar</td>\n",
       "      <td>/projects/proj-hoffmann_data-1128.4.49/data/EB...</td>\n",
       "      <td>6.578 GB</td>\n",
       "      <td>6577909760</td>\n",
       "    </tr>\n",
       "    <tr>\n",
       "      <th>130</th>\n",
       "      <td>718520177</td>\n",
       "      <td>EBB_2022_2C.tar</td>\n",
       "      <td>/projects/proj-hoffmann_data-1128.4.49/data/EB...</td>\n",
       "      <td>6.845 GB</td>\n",
       "      <td>6844590080</td>\n",
       "    </tr>\n",
       "    <tr>\n",
       "      <th>131</th>\n",
       "      <td>718520958</td>\n",
       "      <td>EBB_2022_2D.tar</td>\n",
       "      <td>/projects/proj-hoffmann_data-1128.4.49/data/EB...</td>\n",
       "      <td>5.956 GB</td>\n",
       "      <td>5955686400</td>\n",
       "    </tr>\n",
       "  </tbody>\n",
       "</table>\n",
       "</div>"
      ],
      "text/plain": [
       "      asset_id       asset_name  \\\n",
       "127  718517853  EBB_2022_1F.tar   \n",
       "128  718518422  EBB_2022_2A.tar   \n",
       "129  718519268  EBB_2022_2B.tar   \n",
       "130  718520177  EBB_2022_2C.tar   \n",
       "131  718520958  EBB_2022_2D.tar   \n",
       "\n",
       "                                             full_path approx_size  \\\n",
       "127  /projects/proj-hoffmann_data-1128.4.49/data/EB...    6.227 GB   \n",
       "128  /projects/proj-hoffmann_data-1128.4.49/data/EB...    3.666 GB   \n",
       "129  /projects/proj-hoffmann_data-1128.4.49/data/EB...    6.578 GB   \n",
       "130  /projects/proj-hoffmann_data-1128.4.49/data/EB...    6.845 GB   \n",
       "131  /projects/proj-hoffmann_data-1128.4.49/data/EB...    5.956 GB   \n",
       "\n",
       "    size_in_bytes  \n",
       "127    6226565120  \n",
       "128    3666350080  \n",
       "129    6577909760  \n",
       "130    6844590080  \n",
       "131    5955686400  "
      ]
     },
     "execution_count": 58,
     "metadata": {},
     "output_type": "execute_result"
    }
   ],
   "source": [
    "data_df.tail()"
   ]
  },
  {
   "cell_type": "code",
   "execution_count": 59,
   "metadata": {
    "ExecuteTime": {
     "end_time": "2021-01-25T00:22:54.711705Z",
     "start_time": "2021-01-25T00:22:54.657757Z"
    }
   },
   "outputs": [
    {
     "data": {
      "text/html": [
       "<div>\n",
       "<style scoped>\n",
       "    .dataframe tbody tr th:only-of-type {\n",
       "        vertical-align: middle;\n",
       "    }\n",
       "\n",
       "    .dataframe tbody tr th {\n",
       "        vertical-align: top;\n",
       "    }\n",
       "\n",
       "    .dataframe thead th {\n",
       "        text-align: right;\n",
       "    }\n",
       "</style>\n",
       "<table border=\"1\" class=\"dataframe\">\n",
       "  <thead>\n",
       "    <tr style=\"text-align: right;\">\n",
       "      <th></th>\n",
       "      <th>asset_id</th>\n",
       "      <th>asset_name</th>\n",
       "      <th>full_path</th>\n",
       "      <th>radseq_library_name</th>\n",
       "      <th>radseq_library_alias</th>\n",
       "      <th>date_current_update</th>\n",
       "      <th>person_current_update</th>\n",
       "      <th>stage_at</th>\n",
       "      <th>person_molecular_work</th>\n",
       "      <th>person_organise_sequencing</th>\n",
       "      <th>...</th>\n",
       "      <th>raw_sequence_storage2</th>\n",
       "      <th>library_freezer</th>\n",
       "      <th>scientific_name_species2</th>\n",
       "      <th>common_name_species2</th>\n",
       "      <th>size_select_low</th>\n",
       "      <th>size_select_high</th>\n",
       "      <th>bp_sequencing</th>\n",
       "      <th>library_tube_name</th>\n",
       "      <th>library_freezer_shelf</th>\n",
       "      <th>library_freezer_location</th>\n",
       "    </tr>\n",
       "  </thead>\n",
       "  <tbody>\n",
       "    <tr>\n",
       "      <th>24</th>\n",
       "      <td>39084575</td>\n",
       "      <td>QA_library8_INC_TW_CY</td>\n",
       "      <td>/projects/proj-hoffmann_data-1128.4.49/librari...</td>\n",
       "      <td>QA_library8_INC_TW_CY</td>\n",
       "      <td>incL8</td>\n",
       "      <td>21-Aug-2018</td>\n",
       "      <td>Tom Schmidt</td>\n",
       "      <td>Sequencing completed</td>\n",
       "      <td>Anthony van Rooyen</td>\n",
       "      <td>Anthony van Rooyen</td>\n",
       "      <td>...</td>\n",
       "      <td>Stored on the Hoffmann lab hard drive, Bio21 i...</td>\n",
       "      <td>Library not retained</td>\n",
       "      <td>NaN</td>\n",
       "      <td>NaN</td>\n",
       "      <td>NaN</td>\n",
       "      <td>NaN</td>\n",
       "      <td>NaN</td>\n",
       "      <td>NaN</td>\n",
       "      <td>NaN</td>\n",
       "      <td>NaN</td>\n",
       "    </tr>\n",
       "    <tr>\n",
       "      <th>25</th>\n",
       "      <td>39084578</td>\n",
       "      <td>QA_library9_albo_INC_DPS_BKK</td>\n",
       "      <td>/projects/proj-hoffmann_data-1128.4.49/librari...</td>\n",
       "      <td>QA_library9_albo_INC_DPS_BKK</td>\n",
       "      <td>incL9</td>\n",
       "      <td>21-Aug-2018</td>\n",
       "      <td>Tom Schmidt</td>\n",
       "      <td>Sequencing completed</td>\n",
       "      <td>Anthony van Rooyen</td>\n",
       "      <td>Anthony van Rooyen</td>\n",
       "      <td>...</td>\n",
       "      <td>Stored on the Hoffmann lab hard drive, Bio21 i...</td>\n",
       "      <td>Library not retained</td>\n",
       "      <td>Aedes albopictus</td>\n",
       "      <td>Asian Tiger Mosquito</td>\n",
       "      <td>NaN</td>\n",
       "      <td>NaN</td>\n",
       "      <td>NaN</td>\n",
       "      <td>NaN</td>\n",
       "      <td>NaN</td>\n",
       "      <td>NaN</td>\n",
       "    </tr>\n",
       "    <tr>\n",
       "      <th>26</th>\n",
       "      <td>39084580</td>\n",
       "      <td>QA_first_inc</td>\n",
       "      <td>/projects/proj-hoffmann_data-1128.4.49/librari...</td>\n",
       "      <td>QA_first_inc</td>\n",
       "      <td>NaN</td>\n",
       "      <td>21-Aug-2018</td>\n",
       "      <td>Tom Schmidt</td>\n",
       "      <td>Sequencing completed</td>\n",
       "      <td>Anthony van Rooyen</td>\n",
       "      <td>Anthony van Rooyen</td>\n",
       "      <td>...</td>\n",
       "      <td>Stored on the Hoffmann lab hard drive, Bio21 i...</td>\n",
       "      <td>Library not retained</td>\n",
       "      <td>NaN</td>\n",
       "      <td>NaN</td>\n",
       "      <td>NaN</td>\n",
       "      <td>NaN</td>\n",
       "      <td>NaN</td>\n",
       "      <td>NaN</td>\n",
       "      <td>NaN</td>\n",
       "      <td>NaN</td>\n",
       "    </tr>\n",
       "    <tr>\n",
       "      <th>27</th>\n",
       "      <td>39350113</td>\n",
       "      <td>sngp_OLD1</td>\n",
       "      <td>/projects/proj-hoffmann_data-1128.4.49/librari...</td>\n",
       "      <td>sngp_OLD1</td>\n",
       "      <td>NaN</td>\n",
       "      <td>31-Aug-2018</td>\n",
       "      <td>Tom Schmidt</td>\n",
       "      <td>Sequencing completed</td>\n",
       "      <td>unsure</td>\n",
       "      <td>unsure</td>\n",
       "      <td>...</td>\n",
       "      <td>Stored on the Hoffmann lab hard drive, Bio21 i...</td>\n",
       "      <td>Library not retained</td>\n",
       "      <td>NaN</td>\n",
       "      <td>NaN</td>\n",
       "      <td>NaN</td>\n",
       "      <td>NaN</td>\n",
       "      <td>NaN</td>\n",
       "      <td>NaN</td>\n",
       "      <td>NaN</td>\n",
       "      <td>NaN</td>\n",
       "    </tr>\n",
       "    <tr>\n",
       "      <th>28</th>\n",
       "      <td>39350115</td>\n",
       "      <td>sngp_OLD2</td>\n",
       "      <td>/projects/proj-hoffmann_data-1128.4.49/librari...</td>\n",
       "      <td>sngp_OLD2</td>\n",
       "      <td>NaN</td>\n",
       "      <td>31-Aug-2018</td>\n",
       "      <td>Tom Schmidt</td>\n",
       "      <td>Sequencing completed</td>\n",
       "      <td>unsure</td>\n",
       "      <td>unsure</td>\n",
       "      <td>...</td>\n",
       "      <td>Stored on the Hoffmann lab hard drive, Bio21 i...</td>\n",
       "      <td>Library not retained</td>\n",
       "      <td>NaN</td>\n",
       "      <td>NaN</td>\n",
       "      <td>NaN</td>\n",
       "      <td>NaN</td>\n",
       "      <td>NaN</td>\n",
       "      <td>NaN</td>\n",
       "      <td>NaN</td>\n",
       "      <td>NaN</td>\n",
       "    </tr>\n",
       "  </tbody>\n",
       "</table>\n",
       "<p>5 rows × 32 columns</p>\n",
       "</div>"
      ],
      "text/plain": [
       "    asset_id                    asset_name  \\\n",
       "24  39084575         QA_library8_INC_TW_CY   \n",
       "25  39084578  QA_library9_albo_INC_DPS_BKK   \n",
       "26  39084580                  QA_first_inc   \n",
       "27  39350113                     sngp_OLD1   \n",
       "28  39350115                     sngp_OLD2   \n",
       "\n",
       "                                            full_path  \\\n",
       "24  /projects/proj-hoffmann_data-1128.4.49/librari...   \n",
       "25  /projects/proj-hoffmann_data-1128.4.49/librari...   \n",
       "26  /projects/proj-hoffmann_data-1128.4.49/librari...   \n",
       "27  /projects/proj-hoffmann_data-1128.4.49/librari...   \n",
       "28  /projects/proj-hoffmann_data-1128.4.49/librari...   \n",
       "\n",
       "             radseq_library_name radseq_library_alias date_current_update  \\\n",
       "24         QA_library8_INC_TW_CY                incL8         21-Aug-2018   \n",
       "25  QA_library9_albo_INC_DPS_BKK                incL9         21-Aug-2018   \n",
       "26                  QA_first_inc                  NaN         21-Aug-2018   \n",
       "27                     sngp_OLD1                  NaN         31-Aug-2018   \n",
       "28                     sngp_OLD2                  NaN         31-Aug-2018   \n",
       "\n",
       "   person_current_update              stage_at person_molecular_work  \\\n",
       "24           Tom Schmidt  Sequencing completed    Anthony van Rooyen   \n",
       "25           Tom Schmidt  Sequencing completed    Anthony van Rooyen   \n",
       "26           Tom Schmidt  Sequencing completed    Anthony van Rooyen   \n",
       "27           Tom Schmidt  Sequencing completed                unsure   \n",
       "28           Tom Schmidt  Sequencing completed                unsure   \n",
       "\n",
       "   person_organise_sequencing  ...  \\\n",
       "24         Anthony van Rooyen  ...   \n",
       "25         Anthony van Rooyen  ...   \n",
       "26         Anthony van Rooyen  ...   \n",
       "27                     unsure  ...   \n",
       "28                     unsure  ...   \n",
       "\n",
       "                                raw_sequence_storage2       library_freezer  \\\n",
       "24  Stored on the Hoffmann lab hard drive, Bio21 i...  Library not retained   \n",
       "25  Stored on the Hoffmann lab hard drive, Bio21 i...  Library not retained   \n",
       "26  Stored on the Hoffmann lab hard drive, Bio21 i...  Library not retained   \n",
       "27  Stored on the Hoffmann lab hard drive, Bio21 i...  Library not retained   \n",
       "28  Stored on the Hoffmann lab hard drive, Bio21 i...  Library not retained   \n",
       "\n",
       "   scientific_name_species2  common_name_species2 size_select_low  \\\n",
       "24                      NaN                   NaN             NaN   \n",
       "25         Aedes albopictus  Asian Tiger Mosquito             NaN   \n",
       "26                      NaN                   NaN             NaN   \n",
       "27                      NaN                   NaN             NaN   \n",
       "28                      NaN                   NaN             NaN   \n",
       "\n",
       "   size_select_high bp_sequencing library_tube_name library_freezer_shelf  \\\n",
       "24              NaN           NaN               NaN                   NaN   \n",
       "25              NaN           NaN               NaN                   NaN   \n",
       "26              NaN           NaN               NaN                   NaN   \n",
       "27              NaN           NaN               NaN                   NaN   \n",
       "28              NaN           NaN               NaN                   NaN   \n",
       "\n",
       "   library_freezer_location  \n",
       "24                      NaN  \n",
       "25                      NaN  \n",
       "26                      NaN  \n",
       "27                      NaN  \n",
       "28                      NaN  \n",
       "\n",
       "[5 rows x 32 columns]"
      ]
     },
     "execution_count": 59,
     "metadata": {},
     "output_type": "execute_result"
    }
   ],
   "source": [
    "libraries_df.tail()"
   ]
  },
  {
   "cell_type": "code",
   "execution_count": 60,
   "metadata": {
    "ExecuteTime": {
     "end_time": "2021-01-25T00:22:55.441373Z",
     "start_time": "2021-01-25T00:22:55.433495Z"
    }
   },
   "outputs": [],
   "source": [
    "# Copy data_df and rename columns\n",
    "tmp = data_df.copy()\n",
    "tmp.columns = [x if re.search(\"size\", x) else \"data_{}\".format(x) for x in tmp.columns]"
   ]
  },
  {
   "cell_type": "code",
   "execution_count": 61,
   "metadata": {
    "ExecuteTime": {
     "end_time": "2021-01-25T00:22:56.265981Z",
     "start_time": "2021-01-25T00:22:56.254867Z"
    }
   },
   "outputs": [],
   "source": [
    "# Join on lower case asset name\n",
    "# tmp[\"asset_name\"] = [re.sub(\"(.zip|.tar)$\", \"\", x) for x in tmp[\"data_asset_name\"]]\n",
    "tmp[\"library_id\"] = [re.sub(\"(.zip|.tar)$\", \"\", x).lower() for x in tmp[\"data_asset_name\"]]"
   ]
  },
  {
   "cell_type": "code",
   "execution_count": 62,
   "metadata": {
    "ExecuteTime": {
     "end_time": "2021-01-25T00:22:57.118741Z",
     "start_time": "2021-01-25T00:22:57.086886Z"
    }
   },
   "outputs": [
    {
     "data": {
      "text/html": [
       "<div>\n",
       "<style scoped>\n",
       "    .dataframe tbody tr th:only-of-type {\n",
       "        vertical-align: middle;\n",
       "    }\n",
       "\n",
       "    .dataframe tbody tr th {\n",
       "        vertical-align: top;\n",
       "    }\n",
       "\n",
       "    .dataframe thead th {\n",
       "        text-align: right;\n",
       "    }\n",
       "</style>\n",
       "<table border=\"1\" class=\"dataframe\">\n",
       "  <thead>\n",
       "    <tr style=\"text-align: right;\">\n",
       "      <th></th>\n",
       "      <th>data_asset_id</th>\n",
       "      <th>data_asset_name</th>\n",
       "      <th>data_full_path</th>\n",
       "      <th>approx_size</th>\n",
       "      <th>size_in_bytes</th>\n",
       "      <th>library_id</th>\n",
       "    </tr>\n",
       "  </thead>\n",
       "  <tbody>\n",
       "    <tr>\n",
       "      <th>127</th>\n",
       "      <td>718517853</td>\n",
       "      <td>EBB_2022_1F.tar</td>\n",
       "      <td>/projects/proj-hoffmann_data-1128.4.49/data/EB...</td>\n",
       "      <td>6.227 GB</td>\n",
       "      <td>6226565120</td>\n",
       "      <td>ebb_2022_1f</td>\n",
       "    </tr>\n",
       "    <tr>\n",
       "      <th>128</th>\n",
       "      <td>718518422</td>\n",
       "      <td>EBB_2022_2A.tar</td>\n",
       "      <td>/projects/proj-hoffmann_data-1128.4.49/data/EB...</td>\n",
       "      <td>3.666 GB</td>\n",
       "      <td>3666350080</td>\n",
       "      <td>ebb_2022_2a</td>\n",
       "    </tr>\n",
       "    <tr>\n",
       "      <th>129</th>\n",
       "      <td>718519268</td>\n",
       "      <td>EBB_2022_2B.tar</td>\n",
       "      <td>/projects/proj-hoffmann_data-1128.4.49/data/EB...</td>\n",
       "      <td>6.578 GB</td>\n",
       "      <td>6577909760</td>\n",
       "      <td>ebb_2022_2b</td>\n",
       "    </tr>\n",
       "    <tr>\n",
       "      <th>130</th>\n",
       "      <td>718520177</td>\n",
       "      <td>EBB_2022_2C.tar</td>\n",
       "      <td>/projects/proj-hoffmann_data-1128.4.49/data/EB...</td>\n",
       "      <td>6.845 GB</td>\n",
       "      <td>6844590080</td>\n",
       "      <td>ebb_2022_2c</td>\n",
       "    </tr>\n",
       "    <tr>\n",
       "      <th>131</th>\n",
       "      <td>718520958</td>\n",
       "      <td>EBB_2022_2D.tar</td>\n",
       "      <td>/projects/proj-hoffmann_data-1128.4.49/data/EB...</td>\n",
       "      <td>5.956 GB</td>\n",
       "      <td>5955686400</td>\n",
       "      <td>ebb_2022_2d</td>\n",
       "    </tr>\n",
       "  </tbody>\n",
       "</table>\n",
       "</div>"
      ],
      "text/plain": [
       "    data_asset_id  data_asset_name  \\\n",
       "127     718517853  EBB_2022_1F.tar   \n",
       "128     718518422  EBB_2022_2A.tar   \n",
       "129     718519268  EBB_2022_2B.tar   \n",
       "130     718520177  EBB_2022_2C.tar   \n",
       "131     718520958  EBB_2022_2D.tar   \n",
       "\n",
       "                                        data_full_path approx_size  \\\n",
       "127  /projects/proj-hoffmann_data-1128.4.49/data/EB...    6.227 GB   \n",
       "128  /projects/proj-hoffmann_data-1128.4.49/data/EB...    3.666 GB   \n",
       "129  /projects/proj-hoffmann_data-1128.4.49/data/EB...    6.578 GB   \n",
       "130  /projects/proj-hoffmann_data-1128.4.49/data/EB...    6.845 GB   \n",
       "131  /projects/proj-hoffmann_data-1128.4.49/data/EB...    5.956 GB   \n",
       "\n",
       "    size_in_bytes   library_id  \n",
       "127    6226565120  ebb_2022_1f  \n",
       "128    3666350080  ebb_2022_2a  \n",
       "129    6577909760  ebb_2022_2b  \n",
       "130    6844590080  ebb_2022_2c  \n",
       "131    5955686400  ebb_2022_2d  "
      ]
     },
     "execution_count": 62,
     "metadata": {},
     "output_type": "execute_result"
    }
   ],
   "source": [
    "tmp.tail()"
   ]
  },
  {
   "cell_type": "code",
   "execution_count": 63,
   "metadata": {
    "ExecuteTime": {
     "end_time": "2021-01-25T00:22:57.942613Z",
     "start_time": "2021-01-25T00:22:57.936703Z"
    }
   },
   "outputs": [],
   "source": [
    "libraries_df[\"library_id\"] = [x.lower() for x in libraries_df[\"asset_name\"]]"
   ]
  },
  {
   "cell_type": "code",
   "execution_count": 64,
   "metadata": {
    "ExecuteTime": {
     "end_time": "2021-01-25T00:22:58.592982Z",
     "start_time": "2021-01-25T00:22:58.584071Z"
    }
   },
   "outputs": [],
   "source": [
    "# Check library_ids are still unique after transforming to lowercase\n",
    "tmp_counts = collections.Counter(libraries_df[\"library_id\"])\n",
    "for x in tmp_counts.values():\n",
    "    assert(x == 1)"
   ]
  },
  {
   "cell_type": "code",
   "execution_count": 65,
   "metadata": {
    "ExecuteTime": {
     "end_time": "2021-01-25T00:22:59.232380Z",
     "start_time": "2021-01-25T00:22:59.226411Z"
    }
   },
   "outputs": [],
   "source": [
    "# Check library_ids are still unique after transforming to lowercase\n",
    "tmp_counts = collections.Counter(tmp[\"library_id\"])\n",
    "for x in tmp_counts.values():\n",
    "    assert(x == 1)"
   ]
  },
  {
   "cell_type": "code",
   "execution_count": 66,
   "metadata": {
    "ExecuteTime": {
     "end_time": "2021-01-25T00:22:59.880545Z",
     "start_time": "2021-01-25T00:22:59.862941Z"
    }
   },
   "outputs": [],
   "source": [
    "# Merge with library_df\n",
    "# data_libraries_df = pd.merge(left=libraries_df, right=tmp, on=\"asset_name\", how=\"outer\")\n",
    "data_libraries_df = pd.merge(left=libraries_df, right=tmp, on=\"library_id\", how=\"outer\")"
   ]
  },
  {
   "cell_type": "code",
   "execution_count": 67,
   "metadata": {
    "ExecuteTime": {
     "end_time": "2021-01-25T00:23:01.264128Z",
     "start_time": "2021-01-25T00:23:00.992763Z"
    }
   },
   "outputs": [
    {
     "data": {
      "text/html": [
       "<div>\n",
       "<style scoped>\n",
       "    .dataframe tbody tr th:only-of-type {\n",
       "        vertical-align: middle;\n",
       "    }\n",
       "\n",
       "    .dataframe tbody tr th {\n",
       "        vertical-align: top;\n",
       "    }\n",
       "\n",
       "    .dataframe thead th {\n",
       "        text-align: right;\n",
       "    }\n",
       "</style>\n",
       "<table border=\"1\" class=\"dataframe\">\n",
       "  <thead>\n",
       "    <tr style=\"text-align: right;\">\n",
       "      <th></th>\n",
       "      <th>asset_id</th>\n",
       "      <th>asset_name</th>\n",
       "      <th>full_path</th>\n",
       "      <th>radseq_library_name</th>\n",
       "      <th>radseq_library_alias</th>\n",
       "      <th>date_current_update</th>\n",
       "      <th>person_current_update</th>\n",
       "      <th>stage_at</th>\n",
       "      <th>person_molecular_work</th>\n",
       "      <th>person_organise_sequencing</th>\n",
       "      <th>...</th>\n",
       "      <th>bp_sequencing</th>\n",
       "      <th>library_tube_name</th>\n",
       "      <th>library_freezer_shelf</th>\n",
       "      <th>library_freezer_location</th>\n",
       "      <th>library_id</th>\n",
       "      <th>data_asset_id</th>\n",
       "      <th>data_asset_name</th>\n",
       "      <th>data_full_path</th>\n",
       "      <th>approx_size</th>\n",
       "      <th>size_in_bytes</th>\n",
       "    </tr>\n",
       "  </thead>\n",
       "  <tbody>\n",
       "    <tr>\n",
       "      <th>0</th>\n",
       "      <td>35280914</td>\n",
       "      <td>P4_CA5YJANXX</td>\n",
       "      <td>/projects/proj-hoffmann_data-1128.4.49/librari...</td>\n",
       "      <td>P4_CA5YJANXX</td>\n",
       "      <td>P4</td>\n",
       "      <td>31-Oct-2017</td>\n",
       "      <td>Tom Schmidt</td>\n",
       "      <td>Sequencing completed</td>\n",
       "      <td>Tom Schmidt</td>\n",
       "      <td>Tom Schmidt</td>\n",
       "      <td>...</td>\n",
       "      <td>NaN</td>\n",
       "      <td>NaN</td>\n",
       "      <td>NaN</td>\n",
       "      <td>NaN</td>\n",
       "      <td>p4_ca5yjanxx</td>\n",
       "      <td>619469915</td>\n",
       "      <td>P4_CA5YJANXX.tar</td>\n",
       "      <td>/projects/proj-hoffmann_data-1128.4.49/data/P4...</td>\n",
       "      <td>28.98 GB</td>\n",
       "      <td>28979689733</td>\n",
       "    </tr>\n",
       "    <tr>\n",
       "      <th>1</th>\n",
       "      <td>35280919</td>\n",
       "      <td>P5_CA5YJANXX</td>\n",
       "      <td>/projects/proj-hoffmann_data-1128.4.49/librari...</td>\n",
       "      <td>P5_CA5YJANXX</td>\n",
       "      <td>P5</td>\n",
       "      <td>31-Oct-2017</td>\n",
       "      <td>Tom Schmidt</td>\n",
       "      <td>Sequencing completed</td>\n",
       "      <td>Tom Schmidt</td>\n",
       "      <td>Tom Schmidt</td>\n",
       "      <td>...</td>\n",
       "      <td>NaN</td>\n",
       "      <td>NaN</td>\n",
       "      <td>NaN</td>\n",
       "      <td>NaN</td>\n",
       "      <td>p5_ca5yjanxx</td>\n",
       "      <td>619470848</td>\n",
       "      <td>P5_CA5YJANXX.tar</td>\n",
       "      <td>/projects/proj-hoffmann_data-1128.4.49/data/P5...</td>\n",
       "      <td>28.326 GB</td>\n",
       "      <td>28326295275</td>\n",
       "    </tr>\n",
       "    <tr>\n",
       "      <th>2</th>\n",
       "      <td>35280920</td>\n",
       "      <td>P6_CA5YJANXX</td>\n",
       "      <td>/projects/proj-hoffmann_data-1128.4.49/librari...</td>\n",
       "      <td>P6_CA5YJANXX</td>\n",
       "      <td>P6</td>\n",
       "      <td>31-Oct-2017</td>\n",
       "      <td>Tom Schmidt</td>\n",
       "      <td>Sequencing completed</td>\n",
       "      <td>Tom Schmidt</td>\n",
       "      <td>Tom Schmidt</td>\n",
       "      <td>...</td>\n",
       "      <td>NaN</td>\n",
       "      <td>NaN</td>\n",
       "      <td>NaN</td>\n",
       "      <td>NaN</td>\n",
       "      <td>p6_ca5yjanxx</td>\n",
       "      <td>619470688</td>\n",
       "      <td>P6_CA5YJANXX.tar</td>\n",
       "      <td>/projects/proj-hoffmann_data-1128.4.49/data/P6...</td>\n",
       "      <td>27.778 GB</td>\n",
       "      <td>27778097495</td>\n",
       "    </tr>\n",
       "    <tr>\n",
       "      <th>3</th>\n",
       "      <td>35547226</td>\n",
       "      <td>CairnsL1</td>\n",
       "      <td>/projects/proj-hoffmann_data-1128.4.49/librari...</td>\n",
       "      <td>cairnsL1</td>\n",
       "      <td>NaN</td>\n",
       "      <td>16-Feb-2018</td>\n",
       "      <td>Tom Schmidt</td>\n",
       "      <td>Sequencing completed</td>\n",
       "      <td>Tom Schmidt</td>\n",
       "      <td>Tom Schmidt</td>\n",
       "      <td>...</td>\n",
       "      <td>NaN</td>\n",
       "      <td>NaN</td>\n",
       "      <td>NaN</td>\n",
       "      <td>NaN</td>\n",
       "      <td>cairnsl1</td>\n",
       "      <td>35535007</td>\n",
       "      <td>CairnsL1.zip</td>\n",
       "      <td>/projects/proj-hoffmann_data-1128.4.49/data/Ca...</td>\n",
       "      <td>33.758 GB</td>\n",
       "      <td>33757722857</td>\n",
       "    </tr>\n",
       "    <tr>\n",
       "      <th>4</th>\n",
       "      <td>35547227</td>\n",
       "      <td>CairnsL2</td>\n",
       "      <td>/projects/proj-hoffmann_data-1128.4.49/librari...</td>\n",
       "      <td>cairnsL2</td>\n",
       "      <td>NaN</td>\n",
       "      <td>16-Feb-2018</td>\n",
       "      <td>Tom Schmidt</td>\n",
       "      <td>Sequencing completed</td>\n",
       "      <td>Tom Schmidt</td>\n",
       "      <td>Tom Schmidt</td>\n",
       "      <td>...</td>\n",
       "      <td>NaN</td>\n",
       "      <td>NaN</td>\n",
       "      <td>NaN</td>\n",
       "      <td>NaN</td>\n",
       "      <td>cairnsl2</td>\n",
       "      <td>35535045</td>\n",
       "      <td>CairnsL2.zip</td>\n",
       "      <td>/projects/proj-hoffmann_data-1128.4.49/data/Ca...</td>\n",
       "      <td>34.249 GB</td>\n",
       "      <td>34249245760</td>\n",
       "    </tr>\n",
       "  </tbody>\n",
       "</table>\n",
       "<p>5 rows × 38 columns</p>\n",
       "</div>"
      ],
      "text/plain": [
       "   asset_id    asset_name                                          full_path  \\\n",
       "0  35280914  P4_CA5YJANXX  /projects/proj-hoffmann_data-1128.4.49/librari...   \n",
       "1  35280919  P5_CA5YJANXX  /projects/proj-hoffmann_data-1128.4.49/librari...   \n",
       "2  35280920  P6_CA5YJANXX  /projects/proj-hoffmann_data-1128.4.49/librari...   \n",
       "3  35547226      CairnsL1  /projects/proj-hoffmann_data-1128.4.49/librari...   \n",
       "4  35547227      CairnsL2  /projects/proj-hoffmann_data-1128.4.49/librari...   \n",
       "\n",
       "  radseq_library_name radseq_library_alias date_current_update  \\\n",
       "0        P4_CA5YJANXX                   P4         31-Oct-2017   \n",
       "1        P5_CA5YJANXX                   P5         31-Oct-2017   \n",
       "2        P6_CA5YJANXX                   P6         31-Oct-2017   \n",
       "3            cairnsL1                  NaN         16-Feb-2018   \n",
       "4            cairnsL2                  NaN         16-Feb-2018   \n",
       "\n",
       "  person_current_update              stage_at person_molecular_work  \\\n",
       "0           Tom Schmidt  Sequencing completed           Tom Schmidt   \n",
       "1           Tom Schmidt  Sequencing completed           Tom Schmidt   \n",
       "2           Tom Schmidt  Sequencing completed           Tom Schmidt   \n",
       "3           Tom Schmidt  Sequencing completed           Tom Schmidt   \n",
       "4           Tom Schmidt  Sequencing completed           Tom Schmidt   \n",
       "\n",
       "  person_organise_sequencing  ... bp_sequencing library_tube_name  \\\n",
       "0                Tom Schmidt  ...           NaN               NaN   \n",
       "1                Tom Schmidt  ...           NaN               NaN   \n",
       "2                Tom Schmidt  ...           NaN               NaN   \n",
       "3                Tom Schmidt  ...           NaN               NaN   \n",
       "4                Tom Schmidt  ...           NaN               NaN   \n",
       "\n",
       "  library_freezer_shelf library_freezer_location    library_id data_asset_id  \\\n",
       "0                   NaN                      NaN  p4_ca5yjanxx     619469915   \n",
       "1                   NaN                      NaN  p5_ca5yjanxx     619470848   \n",
       "2                   NaN                      NaN  p6_ca5yjanxx     619470688   \n",
       "3                   NaN                      NaN      cairnsl1      35535007   \n",
       "4                   NaN                      NaN      cairnsl2      35535045   \n",
       "\n",
       "    data_asset_name                                     data_full_path  \\\n",
       "0  P4_CA5YJANXX.tar  /projects/proj-hoffmann_data-1128.4.49/data/P4...   \n",
       "1  P5_CA5YJANXX.tar  /projects/proj-hoffmann_data-1128.4.49/data/P5...   \n",
       "2  P6_CA5YJANXX.tar  /projects/proj-hoffmann_data-1128.4.49/data/P6...   \n",
       "3      CairnsL1.zip  /projects/proj-hoffmann_data-1128.4.49/data/Ca...   \n",
       "4      CairnsL2.zip  /projects/proj-hoffmann_data-1128.4.49/data/Ca...   \n",
       "\n",
       "  approx_size size_in_bytes  \n",
       "0    28.98 GB   28979689733  \n",
       "1   28.326 GB   28326295275  \n",
       "2   27.778 GB   27778097495  \n",
       "3   33.758 GB   33757722857  \n",
       "4   34.249 GB   34249245760  \n",
       "\n",
       "[5 rows x 38 columns]"
      ]
     },
     "execution_count": 67,
     "metadata": {},
     "output_type": "execute_result"
    }
   ],
   "source": [
    "data_libraries_df.head()"
   ]
  },
  {
   "cell_type": "markdown",
   "metadata": {},
   "source": [
    "-----\n",
    "\n",
    "# Output to file\n",
    "\n",
    "Write dataframes to files."
   ]
  },
  {
   "cell_type": "markdown",
   "metadata": {},
   "source": [
    "## Save to tsv"
   ]
  },
  {
   "cell_type": "code",
   "execution_count": 68,
   "metadata": {
    "ExecuteTime": {
     "end_time": "2021-01-25T00:23:03.845754Z",
     "start_time": "2021-01-25T00:23:03.816504Z"
    }
   },
   "outputs": [],
   "source": [
    "data_libraries_df.to_csv(\"output/data_libraries_{}.tsv\".format(date), index=False, sep=\"\\t\", na_rep=\"NA\")"
   ]
  },
  {
   "cell_type": "code",
   "execution_count": 69,
   "metadata": {
    "ExecuteTime": {
     "end_time": "2021-01-25T00:23:04.512727Z",
     "start_time": "2021-01-25T00:23:04.397215Z"
    }
   },
   "outputs": [],
   "source": [
    "# Need to use unicode encoding because some values have non-ascii characters\n",
    "# e.g. specific_location: Gò Vấp District\n",
    "individuals_metadata_df.to_csv(\"output/individuals_{}.tsv\".format(date), index=False, \n",
    "                               sep=\"\\t\", na_rep=\"NA\", encoding=\"utf-8\")"
   ]
  },
  {
   "cell_type": "code",
   "execution_count": 70,
   "metadata": {
    "ExecuteTime": {
     "end_time": "2021-01-25T00:23:05.026920Z",
     "start_time": "2021-01-25T00:23:05.006126Z"
    }
   },
   "outputs": [],
   "source": [
    "kdr_assay_metadata_df.to_csv(\"output/kdr_assays_{}.tsv\".format(date), index=False, sep=\"\\t\", na_rep=\"NA\")"
   ]
  },
  {
   "cell_type": "code",
   "execution_count": 71,
   "metadata": {
    "ExecuteTime": {
     "end_time": "2021-01-25T00:23:05.560748Z",
     "start_time": "2021-01-25T00:23:05.545967Z"
    }
   },
   "outputs": [],
   "source": [
    "wolbachia_assay_metadata_df.to_csv(\"output/wolbachia_assays_{}.tsv\".format(date), index=False, sep=\"\\t\", na_rep=\"NA\")"
   ]
  },
  {
   "cell_type": "markdown",
   "metadata": {},
   "source": [
    "## Save to xlsx"
   ]
  },
  {
   "cell_type": "code",
   "execution_count": null,
   "metadata": {
    "ExecuteTime": {
     "end_time": "2021-01-25T00:23:07.598988Z",
     "start_time": "2021-01-25T00:23:07.136287Z"
    }
   },
   "outputs": [],
   "source": [
    "writer = pd.ExcelWriter(\"output/mediaflux_output_{}.xlsx\".format(date))"
   ]
  },
  {
   "cell_type": "code",
   "execution_count": null,
   "metadata": {
    "ExecuteTime": {
     "end_time": "2021-01-25T00:23:07.834556Z",
     "start_time": "2021-01-25T00:23:07.710382Z"
    }
   },
   "outputs": [],
   "source": [
    "data_libraries_df.to_excel(writer, \"data_libraries\", index=False, na_rep=\"NA\")"
   ]
  },
  {
   "cell_type": "code",
   "execution_count": null,
   "metadata": {
    "ExecuteTime": {
     "end_time": "2021-01-25T00:23:09.869783Z",
     "start_time": "2021-01-25T00:23:08.233115Z"
    }
   },
   "outputs": [],
   "source": [
    "individuals_metadata_df.to_excel(writer, \"individuals\", index=False)"
   ]
  },
  {
   "cell_type": "code",
   "execution_count": null,
   "metadata": {
    "ExecuteTime": {
     "end_time": "2021-01-25T00:23:10.175461Z",
     "start_time": "2021-01-25T00:23:09.872273Z"
    }
   },
   "outputs": [],
   "source": [
    "kdr_assay_metadata_df.to_excel(writer, \"kdr_assays\", index=False)"
   ]
  },
  {
   "cell_type": "code",
   "execution_count": null,
   "metadata": {
    "ExecuteTime": {
     "end_time": "2021-01-25T00:23:10.883436Z",
     "start_time": "2021-01-25T00:23:10.836466Z"
    }
   },
   "outputs": [],
   "source": [
    "wolbachia_assay_metadata_df.to_excel(writer, \"wolbachia_assays\", index=False)"
   ]
  },
  {
   "cell_type": "code",
   "execution_count": null,
   "metadata": {
    "ExecuteTime": {
     "end_time": "2021-01-25T00:23:11.348201Z",
     "start_time": "2021-01-25T00:23:11.315295Z"
    }
   },
   "outputs": [],
   "source": [
    "combined_metadata_document_df.to_excel(writer, \"metadata_documents\", index=False)"
   ]
  },
  {
   "cell_type": "code",
   "execution_count": null,
   "metadata": {
    "ExecuteTime": {
     "end_time": "2021-01-25T00:23:15.259830Z",
     "start_time": "2021-01-25T00:23:11.797782Z"
    }
   },
   "outputs": [],
   "source": [
    "writer.save()\n",
    "writer.close()"
   ]
  },
  {
   "cell_type": "markdown",
   "metadata": {
    "ExecuteTime": {
     "end_time": "2018-05-30T00:56:54.182654Z",
     "start_time": "2018-05-30T00:56:53.653960Z"
    },
    "tags": []
   },
   "source": [
    "-----\n",
    "\n",
    "# Save query cache"
   ]
  },
  {
   "cell_type": "code",
   "execution_count": 75,
   "metadata": {
    "ExecuteTime": {
     "end_time": "2021-01-25T00:23:26.484092Z",
     "start_time": "2021-01-25T00:23:15.261904Z"
    }
   },
   "outputs": [],
   "source": [
    "with open(\"cache_{}.pkl\".format(date), \"wb\") as f:\n",
    "    logging.info(\"Saving query cache.\")\n",
    "    pickle.dump(query_cache, f, pickle.HIGHEST_PROTOCOL)"
   ]
  },
  {
   "cell_type": "markdown",
   "metadata": {},
   "source": [
    "-----\n",
    "\n",
    "# Close connection to Mediaflux"
   ]
  },
  {
   "cell_type": "code",
   "execution_count": 76,
   "metadata": {
    "ExecuteTime": {
     "end_time": "2021-01-25T00:23:26.587259Z",
     "start_time": "2021-01-25T00:23:26.487904Z"
    }
   },
   "outputs": [],
   "source": [
    "logging.info(\"Closing connection to mediaflux.\")\n",
    "con.close()"
   ]
  },
  {
   "cell_type": "code",
   "execution_count": null,
   "metadata": {
    "tags": []
   },
   "outputs": [],
   "source": []
  }
 ],
 "metadata": {
  "kernelspec": {
   "display_name": "Python 3 (ipykernel)",
   "language": "python",
   "name": "python3"
  },
  "language_info": {
   "codemirror_mode": {
    "name": "ipython",
    "version": 3
   },
   "file_extension": ".py",
   "mimetype": "text/x-python",
   "name": "python",
   "nbconvert_exporter": "python",
   "pygments_lexer": "ipython3",
   "version": "3.9.13"
  },
  "toc": {
   "nav_menu": {},
   "number_sections": true,
   "sideBar": false,
   "skip_h1_title": false,
   "title_cell": "Table of Contents",
   "title_sidebar": "Contents",
   "toc_cell": true,
   "toc_position": {
    "height": "300px",
    "left": "1062px",
    "top": "137.5px",
    "width": "302px"
   },
   "toc_section_display": true,
   "toc_window_display": true
  }
 },
 "nbformat": 4,
 "nbformat_minor": 4
}
