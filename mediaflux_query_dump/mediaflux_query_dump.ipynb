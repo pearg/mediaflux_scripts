{
 "cells": [
  {
   "cell_type": "markdown",
   "metadata": {
    "toc": true
   },
   "source": [
    "<h1>Table of Contents<span class=\"tocSkip\"></span></h1>\n",
    "<div class=\"toc\"><ul class=\"toc-item\"><li><span><a href=\"#Mediaflux-query-dump\" data-toc-modified-id=\"Mediaflux-query-dump-1\"><span class=\"toc-item-num\">1&nbsp;&nbsp;</span>Mediaflux query dump</a></span></li><li><span><a href=\"#Connect-to-MF-server\" data-toc-modified-id=\"Connect-to-MF-server-2\"><span class=\"toc-item-num\">2&nbsp;&nbsp;</span>Connect to MF server</a></span></li><li><span><a href=\"#Find-assets-in-Mediaflux\" data-toc-modified-id=\"Find-assets-in-Mediaflux-3\"><span class=\"toc-item-num\">3&nbsp;&nbsp;</span>Find assets in Mediaflux</a></span></li><li><span><a href=\"#Get-metadata-documents\" data-toc-modified-id=\"Get-metadata-documents-4\"><span class=\"toc-item-num\">4&nbsp;&nbsp;</span>Get metadata documents</a></span></li><li><span><a href=\"#For-each-asset,-get-metadata\" data-toc-modified-id=\"For-each-asset,-get-metadata-5\"><span class=\"toc-item-num\">5&nbsp;&nbsp;</span>For each asset, get metadata</a></span><ul class=\"toc-item\"><li><span><a href=\"#Data\" data-toc-modified-id=\"Data-5.1\"><span class=\"toc-item-num\">5.1&nbsp;&nbsp;</span>Data</a></span></li><li><span><a href=\"#Libraries\" data-toc-modified-id=\"Libraries-5.2\"><span class=\"toc-item-num\">5.2&nbsp;&nbsp;</span>Libraries</a></span></li><li><span><a href=\"#Individuals\" data-toc-modified-id=\"Individuals-5.3\"><span class=\"toc-item-num\">5.3&nbsp;&nbsp;</span>Individuals</a></span></li></ul></li><li><span><a href=\"#Get-library-archive-size-from-data-dataframe\" data-toc-modified-id=\"Get-library-archive-size-from-data-dataframe-6\"><span class=\"toc-item-num\">6&nbsp;&nbsp;</span>Get library archive size from data dataframe</a></span></li><li><span><a href=\"#Output-to-file\" data-toc-modified-id=\"Output-to-file-7\"><span class=\"toc-item-num\">7&nbsp;&nbsp;</span>Output to file</a></span><ul class=\"toc-item\"><li><span><a href=\"#Save-to-tsv\" data-toc-modified-id=\"Save-to-tsv-7.1\"><span class=\"toc-item-num\">7.1&nbsp;&nbsp;</span>Save to tsv</a></span></li><li><span><a href=\"#Save-to-xlsx\" data-toc-modified-id=\"Save-to-xlsx-7.2\"><span class=\"toc-item-num\">7.2&nbsp;&nbsp;</span>Save to xlsx</a></span></li></ul></li><li><span><a href=\"#Save-query-cache\" data-toc-modified-id=\"Save-query-cache-8\"><span class=\"toc-item-num\">8&nbsp;&nbsp;</span>Save query cache</a></span></li><li><span><a href=\"#Close-connection-to-Mediaflux\" data-toc-modified-id=\"Close-connection-to-Mediaflux-9\"><span class=\"toc-item-num\">9&nbsp;&nbsp;</span>Close connection to Mediaflux</a></span></li></ul></div>"
   ]
  },
  {
   "cell_type": "code",
   "execution_count": 1,
   "metadata": {
    "ExecuteTime": {
     "end_time": "2018-09-12T04:05:51.230498Z",
     "start_time": "2018-09-12T04:05:51.226278Z"
    }
   },
   "outputs": [],
   "source": [
    "date = \"2018-09-12\"\n",
    "load_cache = True\n",
    "max_retry = 3"
   ]
  },
  {
   "cell_type": "code",
   "execution_count": 2,
   "metadata": {
    "ExecuteTime": {
     "end_time": "2018-09-12T04:05:53.166278Z",
     "start_time": "2018-09-12T04:05:53.162020Z"
    }
   },
   "outputs": [],
   "source": [
    "# TODO: Get metadata documents and check max occurrences for each field is 1"
   ]
  },
  {
   "cell_type": "markdown",
   "metadata": {},
   "source": [
    "-----\n",
    "\n",
    "# Mediaflux query dump\n",
    "\n",
    "Get all assets in the `proj-hoffmann_data-1128.4.49` project. Extract all metadata into dataframes and output to files.\n"
   ]
  },
  {
   "cell_type": "code",
   "execution_count": 3,
   "metadata": {
    "ExecuteTime": {
     "end_time": "2018-09-12T04:05:55.533351Z",
     "start_time": "2018-09-12T04:05:54.290481Z"
    }
   },
   "outputs": [],
   "source": [
    "import sys\n",
    "import logging\n",
    "from Crypto.Cipher import AES\n",
    "import pandas as pd\n",
    "import random\n",
    "import re\n",
    "import os\n",
    "import datetime\n",
    "import time\n",
    "import collections\n",
    "import pickle"
   ]
  },
  {
   "cell_type": "code",
   "execution_count": 4,
   "metadata": {
    "ExecuteTime": {
     "end_time": "2018-09-12T04:05:55.554259Z",
     "start_time": "2018-09-12T04:05:55.536697Z"
    }
   },
   "outputs": [],
   "source": [
    "sys.path.insert(0, '../python-mfclient/src')\n",
    "import mfclient"
   ]
  },
  {
   "cell_type": "code",
   "execution_count": 5,
   "metadata": {
    "ExecuteTime": {
     "end_time": "2018-09-12T04:05:56.150633Z",
     "start_time": "2018-09-12T04:05:56.144908Z"
    }
   },
   "outputs": [],
   "source": [
    "# Set up logging\n",
    "logging.basicConfig(\n",
    "    filename=\"mf_{}.log\".format(date),\n",
    "    level=logging.DEBUG,\n",
    "    filemode=\"a\",\n",
    "    format='%(asctime)s %(levelname)s - %(message)s',\n",
    "    datefmt='%m-%d-%Y %H:%M:%S')"
   ]
  },
  {
   "cell_type": "code",
   "execution_count": 6,
   "metadata": {
    "ExecuteTime": {
     "end_time": "2018-09-12T04:05:56.848689Z",
     "start_time": "2018-09-12T04:05:56.842188Z"
    }
   },
   "outputs": [],
   "source": [
    "# Save all Mediaflux get queries in cache\n",
    "cache_filename = \"cache_{}.pkl\".format(date)\n",
    "if load_cache and os.path.exists(cache_filename):\n",
    "    logging.info(\"Loading query cache from file: {}\".format(cache_filename))\n",
    "    query_cache = pickle.load(open(cache_filename, \"rb\"))\n",
    "else:\n",
    "    query_cache = {}"
   ]
  },
  {
   "cell_type": "code",
   "execution_count": 7,
   "metadata": {
    "ExecuteTime": {
     "end_time": "2018-09-12T04:05:57.421488Z",
     "start_time": "2018-09-12T04:05:57.413318Z"
    }
   },
   "outputs": [],
   "source": [
    "def get_asset(asset_id):\n",
    "    if asset_id in query_cache:\n",
    "        logging.info(\"Retrieving {} from cache\".format(asset_id))\n",
    "        return query_cache[asset_id]\n",
    "    logging.info(\"Getting asset info for {}.\".format(asset_id))\n",
    "    args = mfclient.XmlStringWriter(\"args\")\n",
    "    args.add(\"id\", asset_id)\n",
    "    query = con.execute(\"asset.get\", args.doc_text())\n",
    "    query_cache[asset_id] = query\n",
    "    return query"
   ]
  },
  {
   "cell_type": "markdown",
   "metadata": {},
   "source": [
    "-----\n",
    "\n",
    "# Connect to MF server"
   ]
  },
  {
   "cell_type": "code",
   "execution_count": 8,
   "metadata": {
    "ExecuteTime": {
     "end_time": "2018-09-12T04:05:58.500566Z",
     "start_time": "2018-09-12T04:05:58.493077Z"
    }
   },
   "outputs": [],
   "source": [
    "with open(\"keys/key\") as f:\n",
    "    key = f.read().strip()\n",
    "with open(\"keys/iv\") as f:\n",
    "    iv = f.read().strip()\n",
    "obj = AES.new(key, AES.MODE_CFB, iv)"
   ]
  },
  {
   "cell_type": "code",
   "execution_count": 9,
   "metadata": {
    "ExecuteTime": {
     "end_time": "2018-09-12T04:05:59.173998Z",
     "start_time": "2018-09-12T04:05:59.167280Z"
    }
   },
   "outputs": [],
   "source": [
    "with open(\"/Users/jess/.ssh/encrypted_pw.txt\") as f:\n",
    "    pw = f.read().strip()"
   ]
  },
  {
   "cell_type": "code",
   "execution_count": 10,
   "metadata": {
    "ExecuteTime": {
     "end_time": "2018-09-12T04:05:59.801928Z",
     "start_time": "2018-09-12T04:05:59.795920Z"
    }
   },
   "outputs": [],
   "source": [
    "MF_HOST = \"mediaflux.vicnode.org.au\"\n",
    "MF_PORT = 443\n",
    "MF_TRANSPORT = \"https\"\n",
    "MF_DOMAIN = \"aaf\"\n",
    "MF_USER = \"unimelb:jessicac\"\n",
    "MF_PASSWORD = obj.decrypt(pw)"
   ]
  },
  {
   "cell_type": "code",
   "execution_count": 11,
   "metadata": {
    "ExecuteTime": {
     "end_time": "2018-09-12T04:06:00.437789Z",
     "start_time": "2018-09-12T04:06:00.432158Z"
    }
   },
   "outputs": [],
   "source": [
    "con = mfclient.MFConnection(host=MF_HOST,\n",
    "                            port=MF_PORT,\n",
    "                            transport=MF_TRANSPORT,\n",
    "                            domain=MF_DOMAIN,\n",
    "                            user=MF_USER,\n",
    "                            password=MF_PASSWORD)"
   ]
  },
  {
   "cell_type": "code",
   "execution_count": 12,
   "metadata": {
    "ExecuteTime": {
     "end_time": "2018-09-12T04:06:01.355084Z",
     "start_time": "2018-09-12T04:06:00.893479Z"
    }
   },
   "outputs": [],
   "source": [
    "logging.info(\"Connecting to mediaflux.\")\n",
    "con.open()\n",
    "result = con.execute(\"server.version\")"
   ]
  },
  {
   "cell_type": "code",
   "execution_count": 13,
   "metadata": {
    "ExecuteTime": {
     "end_time": "2018-09-12T04:06:01.483938Z",
     "start_time": "2018-09-12T04:06:01.465212Z"
    }
   },
   "outputs": [
    {
     "data": {
      "text/plain": [
       "'<result><ant-version>Apache Ant 1.9.4</ant-version><binary>aserver</binary><build-time>02-Jul-2018 14:07:13 AEST</build-time><built-by>Arcitecta. Pty. Ltd.</built-by><created-by>1.8.0_111-b14 (Oracle Corporation)</created-by><manifest-version>1.0</manifest-version><target-jvm>1.8</target-jvm><vendor>Arcitecta Pty. Ltd.</vendor><version>4.7.027</version></result>'"
      ]
     },
     "execution_count": 13,
     "metadata": {},
     "output_type": "execute_result"
    }
   ],
   "source": [
    "result.tostring()"
   ]
  },
  {
   "cell_type": "markdown",
   "metadata": {},
   "source": [
    "-----\n",
    "\n",
    "# Find assets in Mediaflux\n",
    "\n",
    "Find assets and get asset ID on the Mediaflux server in `data/`, `individuals/`, and `libraries/`."
   ]
  },
  {
   "cell_type": "code",
   "execution_count": 14,
   "metadata": {
    "ExecuteTime": {
     "end_time": "2018-09-12T04:06:08.760730Z",
     "start_time": "2018-09-12T04:06:08.677170Z"
    }
   },
   "outputs": [],
   "source": [
    "# Query for data directory\n",
    "args = mfclient.XmlStringWriter(\"args\")\n",
    "args.add(\"where\", \"namespace=/projects/proj-hoffmann_data-1128.4.49/data\")\n",
    "args.add(\"action\", \"get-path\")\n",
    "args.add(\"size\", \"infinity\")\n",
    "data_query = con.execute(\"asset.query\", args.doc_text())"
   ]
  },
  {
   "cell_type": "code",
   "execution_count": 15,
   "metadata": {
    "ExecuteTime": {
     "end_time": "2018-09-12T04:06:11.472308Z",
     "start_time": "2018-09-12T04:06:10.721315Z"
    }
   },
   "outputs": [],
   "source": [
    "# Query for individual directory\n",
    "args = mfclient.XmlStringWriter(\"args\")\n",
    "args.add(\"where\", \"namespace=/projects/proj-hoffmann_data-1128.4.49/individuals\")\n",
    "args.add(\"action\", \"get-path\")\n",
    "args.add(\"size\", \"infinity\")\n",
    "individuals_query = con.execute(\"asset.query\", args.doc_text())"
   ]
  },
  {
   "cell_type": "code",
   "execution_count": 16,
   "metadata": {
    "ExecuteTime": {
     "end_time": "2018-09-12T04:06:11.546303Z",
     "start_time": "2018-09-12T04:06:11.474649Z"
    }
   },
   "outputs": [],
   "source": [
    "# Query for library directory\n",
    "args = mfclient.XmlStringWriter(\"args\")\n",
    "args.add(\"where\", \"namespace=/projects/proj-hoffmann_data-1128.4.49/libraries\")\n",
    "args.add(\"action\", \"get-path\")\n",
    "args.add(\"size\", \"infinity\")\n",
    "libraries_query = con.execute(\"asset.query\", args.doc_text())"
   ]
  },
  {
   "cell_type": "code",
   "execution_count": 17,
   "metadata": {
    "ExecuteTime": {
     "end_time": "2018-09-12T04:06:12.036705Z",
     "start_time": "2018-09-12T04:06:12.028996Z"
    }
   },
   "outputs": [
    {
     "data": {
      "text/plain": [
       "'<result><path id=\"35280914\" version=\"7\">/projects/proj-hoffmann_data-1128.4.49/libraries/P4_CA5YJANXX</path><path id=\"35280919\" version=\"7\">/projects/proj-hoffmann_data-1128.4.49/libraries/P5_CA5YJANXX</path><path id=\"35280920\" version=\"7\">/projects/proj-hoffmann_data-1128.4.49/libraries/P6_CA5YJANXX</path><path id=\"35547226\" version=\"2\">/projects/proj-hoffmann_data-1128.4.49/libraries/CairnsL1</path><path id=\"35547227\" version=\"2\">/projects/proj-hoffmann_data-1128.4.49/libraries/CairnsL2</path><path id=\"35547228\" version=\"2\">/projects/proj-hoffmann_data-1128.4.49/libraries/CairnsL3</path><path id=\"36551235\" version=\"4\">/projects/proj-hoffmann_data-1128.4.49/libraries/ASH_LIB_02_BRA</path><path id=\"36551336\" version=\"3\">/projects/proj-hoffmann_data-1128.4.49/libraries/ASH_LIB_01_QLD</path><path id=\"36609035\" version=\"3\">/projects/proj-hoffmann_data-1128.4.49/libraries/RLEM_SA_2018</path><path id=\"36609036\" version=\"1\">/projects/proj-hoffmann_data-1128.4.49/libraries/tom_albo_2018</path'"
      ]
     },
     "execution_count": 17,
     "metadata": {},
     "output_type": "execute_result"
    }
   ],
   "source": [
    "libraries_query.tostring()[:1000]"
   ]
  },
  {
   "cell_type": "code",
   "execution_count": 18,
   "metadata": {
    "ExecuteTime": {
     "end_time": "2018-09-12T04:06:12.526443Z",
     "start_time": "2018-09-12T04:06:12.516977Z"
    }
   },
   "outputs": [],
   "source": [
    "def create_asset_id_dataframe(query):\n",
    "    df = []\n",
    "    path_elements = query.elements(\"path\")\n",
    "    for pe in path_elements:\n",
    "        path = pe.value()\n",
    "        id = pe.value(\"@id\")\n",
    "        archive_name = os.path.basename(path)\n",
    "        df.append([id, archive_name, path])\n",
    "    df = pd.DataFrame(df)\n",
    "    df.columns = [\"asset_id\", \"asset_name\", \"full_path\"]\n",
    "    return df"
   ]
  },
  {
   "cell_type": "code",
   "execution_count": 19,
   "metadata": {
    "ExecuteTime": {
     "end_time": "2018-09-12T04:06:13.020899Z",
     "start_time": "2018-09-12T04:06:12.995950Z"
    }
   },
   "outputs": [],
   "source": [
    "data_df = create_asset_id_dataframe(data_query)\n",
    "individuals_df = create_asset_id_dataframe(individuals_query)\n",
    "libraries_df = create_asset_id_dataframe(libraries_query)"
   ]
  },
  {
   "cell_type": "code",
   "execution_count": 20,
   "metadata": {
    "ExecuteTime": {
     "end_time": "2018-09-12T04:06:13.539272Z",
     "start_time": "2018-09-12T04:06:13.533124Z"
    }
   },
   "outputs": [
    {
     "name": "stdout",
     "output_type": "stream",
     "text": [
      "(43, 3)\n",
      "(1082, 3)\n",
      "(29, 3)\n"
     ]
    }
   ],
   "source": [
    "print(data_df.shape)\n",
    "print(individuals_df.shape)\n",
    "print(libraries_df.shape)"
   ]
  },
  {
   "cell_type": "markdown",
   "metadata": {},
   "source": [
    "-----\n",
    "\n",
    "# Get metadata documents\n",
    "\n"
   ]
  },
  {
   "cell_type": "code",
   "execution_count": 21,
   "metadata": {
    "ExecuteTime": {
     "end_time": "2018-09-12T04:06:14.784329Z",
     "start_time": "2018-09-12T04:06:14.780955Z"
    }
   },
   "outputs": [],
   "source": [
    "# TODO"
   ]
  },
  {
   "cell_type": "markdown",
   "metadata": {},
   "source": [
    "-----\n",
    "\n",
    "# For each asset, get metadata\n",
    "\n"
   ]
  },
  {
   "cell_type": "markdown",
   "metadata": {},
   "source": [
    "## Data\n",
    "\n",
    "Get size of each asset in `data/`"
   ]
  },
  {
   "cell_type": "code",
   "execution_count": 22,
   "metadata": {
    "ExecuteTime": {
     "end_time": "2018-09-12T04:06:16.855616Z",
     "start_time": "2018-09-12T04:06:16.849191Z"
    }
   },
   "outputs": [],
   "source": [
    "asset_id_list = list(data_df[\"asset_id\"])"
   ]
  },
  {
   "cell_type": "code",
   "execution_count": 23,
   "metadata": {
    "ExecuteTime": {
     "end_time": "2018-09-12T04:06:20.173240Z",
     "start_time": "2018-09-12T04:06:17.468360Z"
    }
   },
   "outputs": [],
   "source": [
    "human_size = []\n",
    "size = []\n",
    "for asset_id in asset_id_list:\n",
    "    query = get_asset(asset_id)\n",
    "    human_size.append(query.element(\"asset/content/size\").attribute(\"h\"))\n",
    "    size.append(query.element(\"asset/content/size\").value())"
   ]
  },
  {
   "cell_type": "code",
   "execution_count": 24,
   "metadata": {
    "ExecuteTime": {
     "end_time": "2018-09-12T04:06:20.882563Z",
     "start_time": "2018-09-12T04:06:20.875496Z"
    }
   },
   "outputs": [],
   "source": [
    "data_df[\"approx_size\"] = human_size\n",
    "data_df[\"size_in_bytes\"] = size"
   ]
  },
  {
   "cell_type": "code",
   "execution_count": 25,
   "metadata": {
    "ExecuteTime": {
     "end_time": "2018-09-12T04:06:21.574552Z",
     "start_time": "2018-09-12T04:06:21.540229Z"
    }
   },
   "outputs": [
    {
     "data": {
      "text/html": [
       "<div>\n",
       "<style scoped>\n",
       "    .dataframe tbody tr th:only-of-type {\n",
       "        vertical-align: middle;\n",
       "    }\n",
       "\n",
       "    .dataframe tbody tr th {\n",
       "        vertical-align: top;\n",
       "    }\n",
       "\n",
       "    .dataframe thead th {\n",
       "        text-align: right;\n",
       "    }\n",
       "</style>\n",
       "<table border=\"1\" class=\"dataframe\">\n",
       "  <thead>\n",
       "    <tr style=\"text-align: right;\">\n",
       "      <th></th>\n",
       "      <th>asset_id</th>\n",
       "      <th>asset_name</th>\n",
       "      <th>full_path</th>\n",
       "      <th>approx_size</th>\n",
       "      <th>size_in_bytes</th>\n",
       "    </tr>\n",
       "  </thead>\n",
       "  <tbody>\n",
       "    <tr>\n",
       "      <th>0</th>\n",
       "      <td>35512059</td>\n",
       "      <td>P4_CA5YJANXX.zip</td>\n",
       "      <td>/projects/proj-hoffmann_data-1128.4.49/data/P4...</td>\n",
       "      <td>28.992 GB</td>\n",
       "      <td>28992107988</td>\n",
       "    </tr>\n",
       "    <tr>\n",
       "      <th>1</th>\n",
       "      <td>35512420</td>\n",
       "      <td>P5_CA5YJANXX.zip</td>\n",
       "      <td>/projects/proj-hoffmann_data-1128.4.49/data/P5...</td>\n",
       "      <td>28.337 GB</td>\n",
       "      <td>28336907055</td>\n",
       "    </tr>\n",
       "    <tr>\n",
       "      <th>2</th>\n",
       "      <td>35515752</td>\n",
       "      <td>P6_CA5YJANXX.zip</td>\n",
       "      <td>/projects/proj-hoffmann_data-1128.4.49/data/P6...</td>\n",
       "      <td>27.79 GB</td>\n",
       "      <td>27790225800</td>\n",
       "    </tr>\n",
       "    <tr>\n",
       "      <th>3</th>\n",
       "      <td>35516931</td>\n",
       "      <td>QA_library9_albo_INC_DPS_BKK.zip</td>\n",
       "      <td>/projects/proj-hoffmann_data-1128.4.49/data/QA...</td>\n",
       "      <td>30.134 GB</td>\n",
       "      <td>30133670228</td>\n",
       "    </tr>\n",
       "    <tr>\n",
       "      <th>4</th>\n",
       "      <td>35535007</td>\n",
       "      <td>CairnsL1.zip</td>\n",
       "      <td>/projects/proj-hoffmann_data-1128.4.49/data/Ca...</td>\n",
       "      <td>33.758 GB</td>\n",
       "      <td>33757722857</td>\n",
       "    </tr>\n",
       "  </tbody>\n",
       "</table>\n",
       "</div>"
      ],
      "text/plain": [
       "   asset_id                        asset_name  \\\n",
       "0  35512059                  P4_CA5YJANXX.zip   \n",
       "1  35512420                  P5_CA5YJANXX.zip   \n",
       "2  35515752                  P6_CA5YJANXX.zip   \n",
       "3  35516931  QA_library9_albo_INC_DPS_BKK.zip   \n",
       "4  35535007                      CairnsL1.zip   \n",
       "\n",
       "                                           full_path approx_size size_in_bytes  \n",
       "0  /projects/proj-hoffmann_data-1128.4.49/data/P4...   28.992 GB   28992107988  \n",
       "1  /projects/proj-hoffmann_data-1128.4.49/data/P5...   28.337 GB   28336907055  \n",
       "2  /projects/proj-hoffmann_data-1128.4.49/data/P6...    27.79 GB   27790225800  \n",
       "3  /projects/proj-hoffmann_data-1128.4.49/data/QA...   30.134 GB   30133670228  \n",
       "4  /projects/proj-hoffmann_data-1128.4.49/data/Ca...   33.758 GB   33757722857  "
      ]
     },
     "execution_count": 25,
     "metadata": {},
     "output_type": "execute_result"
    }
   ],
   "source": [
    "data_df.head()"
   ]
  },
  {
   "cell_type": "markdown",
   "metadata": {},
   "source": [
    "## Libraries\n",
    "\n",
    "Get metadata from all assets in `libraries/`"
   ]
  },
  {
   "cell_type": "code",
   "execution_count": 26,
   "metadata": {
    "ExecuteTime": {
     "end_time": "2018-09-12T04:06:22.771720Z",
     "start_time": "2018-09-12T04:06:22.767426Z"
    }
   },
   "outputs": [],
   "source": [
    "asset_id_list = list(libraries_df[\"asset_id\"])"
   ]
  },
  {
   "cell_type": "code",
   "execution_count": 27,
   "metadata": {
    "ExecuteTime": {
     "end_time": "2018-09-12T04:06:23.716403Z",
     "start_time": "2018-09-12T04:06:23.399482Z"
    }
   },
   "outputs": [],
   "source": [
    "# Query one asset\n",
    "query = get_asset(asset_id_list[0])"
   ]
  },
  {
   "cell_type": "code",
   "execution_count": 28,
   "metadata": {
    "ExecuteTime": {
     "end_time": "2018-09-12T04:06:24.128510Z",
     "start_time": "2018-09-12T04:06:24.118802Z"
    }
   },
   "outputs": [
    {
     "data": {
      "text/plain": [
       "['proj-hoffmann_data-1128.4.49:libraries_metadata',\n",
       " 'proj-hoffmann_data-1128.4.49:libraries_storage']"
      ]
     },
     "execution_count": 28,
     "metadata": {},
     "output_type": "execute_result"
    }
   ],
   "source": [
    "# Get metadata documents\n",
    "metadata_documents = [x.name() for x in query.element(\"asset/meta\").elements() if x.name() != \"mf-revision-history\"]\n",
    "metadata_documents"
   ]
  },
  {
   "cell_type": "code",
   "execution_count": 29,
   "metadata": {
    "ExecuteTime": {
     "end_time": "2018-09-12T04:06:24.811526Z",
     "start_time": "2018-09-12T04:06:24.807537Z"
    }
   },
   "outputs": [],
   "source": [
    "# # Test asset with multiple metadata documents from MPP project\n",
    "# args = mfclient.XmlStringWriter(\"args\")\n",
    "# args.add(\"id\", \"35532748\")\n",
    "# query = con.execute(\"asset.get\", args.doc_text())\n",
    "# query.tostring()\n",
    "# metadata_documents = [x.name() for x in query.element(\"asset/meta\").elements() if x.name() != \"mf-revision-history\"]\n",
    "# metadata_documents"
   ]
  },
  {
   "cell_type": "code",
   "execution_count": 30,
   "metadata": {
    "ExecuteTime": {
     "end_time": "2018-09-12T04:06:27.242550Z",
     "start_time": "2018-09-12T04:06:25.679845Z"
    }
   },
   "outputs": [],
   "source": [
    "libraries_metadata_dicts = {}\n",
    "for asset_id in asset_id_list:\n",
    "    d = collections.OrderedDict({\"asset_id\": asset_id})\n",
    "    query = get_asset(asset_id)\n",
    "    metadata_documents = [x.name() for x in query.element(\"asset/meta\").elements() \n",
    "                          if x.name() != \"mf-revision-history\"]\n",
    "    # Not expecting any metadata document to appear multiple times\n",
    "    assert(len(metadata_documents) == len(set(metadata_documents)))\n",
    "    for document in metadata_documents:\n",
    "        for element in query.element(\"asset/meta/{}\".format(document)).elements():\n",
    "            d[element.name()] = element.value()\n",
    "    libraries_metadata_dicts[asset_id] = d"
   ]
  },
  {
   "cell_type": "code",
   "execution_count": 31,
   "metadata": {
    "ExecuteTime": {
     "end_time": "2018-09-12T04:06:27.862237Z",
     "start_time": "2018-09-12T04:06:27.817380Z"
    }
   },
   "outputs": [
    {
     "data": {
      "text/html": [
       "<div>\n",
       "<style scoped>\n",
       "    .dataframe tbody tr th:only-of-type {\n",
       "        vertical-align: middle;\n",
       "    }\n",
       "\n",
       "    .dataframe tbody tr th {\n",
       "        vertical-align: top;\n",
       "    }\n",
       "\n",
       "    .dataframe thead th {\n",
       "        text-align: right;\n",
       "    }\n",
       "</style>\n",
       "<table border=\"1\" class=\"dataframe\">\n",
       "  <thead>\n",
       "    <tr style=\"text-align: right;\">\n",
       "      <th></th>\n",
       "      <th>asset_id</th>\n",
       "      <th>bp_sequencing</th>\n",
       "      <th>common_name_species1</th>\n",
       "      <th>common_name_species2</th>\n",
       "      <th>date_current_update</th>\n",
       "      <th>date_sequencing_completion</th>\n",
       "      <th>flowcell_id</th>\n",
       "      <th>library_description</th>\n",
       "      <th>library_freezer</th>\n",
       "      <th>library_freezer_location</th>\n",
       "      <th>...</th>\n",
       "      <th>raw_sequence_filename</th>\n",
       "      <th>raw_sequence_storage1</th>\n",
       "      <th>raw_sequence_storage2</th>\n",
       "      <th>scientific_name_species1</th>\n",
       "      <th>scientific_name_species2</th>\n",
       "      <th>sequencing_facility</th>\n",
       "      <th>sequencing_quote_number</th>\n",
       "      <th>size_select_high</th>\n",
       "      <th>size_select_low</th>\n",
       "      <th>stage_at</th>\n",
       "    </tr>\n",
       "  </thead>\n",
       "  <tbody>\n",
       "    <tr>\n",
       "      <th>35280914</th>\n",
       "      <td>35280914</td>\n",
       "      <td>NaN</td>\n",
       "      <td>Asian Tiger Mosquito</td>\n",
       "      <td>NaN</td>\n",
       "      <td>31-Oct-2017</td>\n",
       "      <td>14-Oct-2016</td>\n",
       "      <td>CA5YJANXX</td>\n",
       "      <td>Individuals in this library were collected as ...</td>\n",
       "      <td>Library not retained</td>\n",
       "      <td>NaN</td>\n",
       "      <td>...</td>\n",
       "      <td>P4_CA5YJANXX_NoIndex_L002_R1.fastq.gz|P4_CA5YJ...</td>\n",
       "      <td>Stored on the Hoffmann Mediaflux Project: proj...</td>\n",
       "      <td>Stored on the Hoffmann Lab hard drive, G22.</td>\n",
       "      <td>Aedes albopictus</td>\n",
       "      <td>NaN</td>\n",
       "      <td>AGRF</td>\n",
       "      <td>CAGRF13590</td>\n",
       "      <td>NaN</td>\n",
       "      <td>NaN</td>\n",
       "      <td>Sequencing completed</td>\n",
       "    </tr>\n",
       "    <tr>\n",
       "      <th>35280919</th>\n",
       "      <td>35280919</td>\n",
       "      <td>NaN</td>\n",
       "      <td>Asian Tiger Mosquito</td>\n",
       "      <td>NaN</td>\n",
       "      <td>31-Oct-2017</td>\n",
       "      <td>14-Oct-2016</td>\n",
       "      <td>CA5YJANXX</td>\n",
       "      <td>Individuals in this library were collected as ...</td>\n",
       "      <td>Library not retained</td>\n",
       "      <td>NaN</td>\n",
       "      <td>...</td>\n",
       "      <td>P5_CA5YJANXX_NoIndex_L003_R1.fastq.gz|P5_CA5YJ...</td>\n",
       "      <td>Stored on the Hoffmann Mediaflux Project: proj...</td>\n",
       "      <td>Stored on the Hoffmann Lab hard drive, G22.</td>\n",
       "      <td>Aedes albopictus</td>\n",
       "      <td>NaN</td>\n",
       "      <td>AGRF</td>\n",
       "      <td>CAGRF13590</td>\n",
       "      <td>NaN</td>\n",
       "      <td>NaN</td>\n",
       "      <td>Sequencing completed</td>\n",
       "    </tr>\n",
       "    <tr>\n",
       "      <th>35280920</th>\n",
       "      <td>35280920</td>\n",
       "      <td>NaN</td>\n",
       "      <td>Asian Tiger Mosquito</td>\n",
       "      <td>NaN</td>\n",
       "      <td>31-Oct-2017</td>\n",
       "      <td>14-Oct-2016</td>\n",
       "      <td>CA5YJANXX</td>\n",
       "      <td>Individuals in this library were collected as ...</td>\n",
       "      <td>Library not retained</td>\n",
       "      <td>NaN</td>\n",
       "      <td>...</td>\n",
       "      <td>P6_CA5YJANXX_NoIndex_L004_R1.fastq.gz|P6_CA5YJ...</td>\n",
       "      <td>Stored on the Hoffmann Mediaflux Project: proj...</td>\n",
       "      <td>Stored on the Hoffmann Lab hard drive, G22.</td>\n",
       "      <td>Aedes albopictus</td>\n",
       "      <td>NaN</td>\n",
       "      <td>AGRF</td>\n",
       "      <td>CAGRF13590</td>\n",
       "      <td>NaN</td>\n",
       "      <td>NaN</td>\n",
       "      <td>Sequencing completed</td>\n",
       "    </tr>\n",
       "    <tr>\n",
       "      <th>35547226</th>\n",
       "      <td>35547226</td>\n",
       "      <td>NaN</td>\n",
       "      <td>Yellow Fever Mosquito</td>\n",
       "      <td>NaN</td>\n",
       "      <td>16-Feb-2018</td>\n",
       "      <td>NaN</td>\n",
       "      <td>C7NAAANXX</td>\n",
       "      <td>Individuals in this library were collected as ...</td>\n",
       "      <td>Library not retained</td>\n",
       "      <td>NaN</td>\n",
       "      <td>...</td>\n",
       "      <td>cairnsL1_R1_001.fastq.gz | cairnsL1_R2_001.fas...</td>\n",
       "      <td>Stored on the Hoffmann Mediaflux Project: proj...</td>\n",
       "      <td>Stored on the Hoffmann Lab hard drive, G22</td>\n",
       "      <td>Aedes aegypti aegypti</td>\n",
       "      <td>NaN</td>\n",
       "      <td>AGRF</td>\n",
       "      <td>CAGRF11131</td>\n",
       "      <td>NaN</td>\n",
       "      <td>NaN</td>\n",
       "      <td>Sequencing completed</td>\n",
       "    </tr>\n",
       "    <tr>\n",
       "      <th>35547227</th>\n",
       "      <td>35547227</td>\n",
       "      <td>NaN</td>\n",
       "      <td>Yellow Fever Mosquito</td>\n",
       "      <td>NaN</td>\n",
       "      <td>16-Feb-2018</td>\n",
       "      <td>NaN</td>\n",
       "      <td>C7NAAANXX</td>\n",
       "      <td>Individuals in this library were collected as ...</td>\n",
       "      <td>Library not retained</td>\n",
       "      <td>NaN</td>\n",
       "      <td>...</td>\n",
       "      <td>cairnsL2_R1_001.fastq.gz | cairnsL2_R2_001.fas...</td>\n",
       "      <td>Stored on the Hoffmann Mediaflux Project: proj...</td>\n",
       "      <td>Stored on the Hoffmann Lab hard drive</td>\n",
       "      <td>Aedes aegypti aegypti</td>\n",
       "      <td>NaN</td>\n",
       "      <td>AGRF</td>\n",
       "      <td>CAGRF11131</td>\n",
       "      <td>NaN</td>\n",
       "      <td>NaN</td>\n",
       "      <td>Sequencing completed</td>\n",
       "    </tr>\n",
       "  </tbody>\n",
       "</table>\n",
       "<p>5 rows × 30 columns</p>\n",
       "</div>"
      ],
      "text/plain": [
       "          asset_id bp_sequencing   common_name_species1 common_name_species2  \\\n",
       "35280914  35280914           NaN   Asian Tiger Mosquito                  NaN   \n",
       "35280919  35280919           NaN   Asian Tiger Mosquito                  NaN   \n",
       "35280920  35280920           NaN   Asian Tiger Mosquito                  NaN   \n",
       "35547226  35547226           NaN  Yellow Fever Mosquito                  NaN   \n",
       "35547227  35547227           NaN  Yellow Fever Mosquito                  NaN   \n",
       "\n",
       "         date_current_update date_sequencing_completion flowcell_id  \\\n",
       "35280914         31-Oct-2017                14-Oct-2016   CA5YJANXX   \n",
       "35280919         31-Oct-2017                14-Oct-2016   CA5YJANXX   \n",
       "35280920         31-Oct-2017                14-Oct-2016   CA5YJANXX   \n",
       "35547226         16-Feb-2018                        NaN   C7NAAANXX   \n",
       "35547227         16-Feb-2018                        NaN   C7NAAANXX   \n",
       "\n",
       "                                        library_description  \\\n",
       "35280914  Individuals in this library were collected as ...   \n",
       "35280919  Individuals in this library were collected as ...   \n",
       "35280920  Individuals in this library were collected as ...   \n",
       "35547226  Individuals in this library were collected as ...   \n",
       "35547227  Individuals in this library were collected as ...   \n",
       "\n",
       "               library_freezer library_freezer_location          ...           \\\n",
       "35280914  Library not retained                      NaN          ...            \n",
       "35280919  Library not retained                      NaN          ...            \n",
       "35280920  Library not retained                      NaN          ...            \n",
       "35547226  Library not retained                      NaN          ...            \n",
       "35547227  Library not retained                      NaN          ...            \n",
       "\n",
       "                                      raw_sequence_filename  \\\n",
       "35280914  P4_CA5YJANXX_NoIndex_L002_R1.fastq.gz|P4_CA5YJ...   \n",
       "35280919  P5_CA5YJANXX_NoIndex_L003_R1.fastq.gz|P5_CA5YJ...   \n",
       "35280920  P6_CA5YJANXX_NoIndex_L004_R1.fastq.gz|P6_CA5YJ...   \n",
       "35547226  cairnsL1_R1_001.fastq.gz | cairnsL1_R2_001.fas...   \n",
       "35547227  cairnsL2_R1_001.fastq.gz | cairnsL2_R2_001.fas...   \n",
       "\n",
       "                                      raw_sequence_storage1  \\\n",
       "35280914  Stored on the Hoffmann Mediaflux Project: proj...   \n",
       "35280919  Stored on the Hoffmann Mediaflux Project: proj...   \n",
       "35280920  Stored on the Hoffmann Mediaflux Project: proj...   \n",
       "35547226  Stored on the Hoffmann Mediaflux Project: proj...   \n",
       "35547227  Stored on the Hoffmann Mediaflux Project: proj...   \n",
       "\n",
       "                                raw_sequence_storage2  \\\n",
       "35280914  Stored on the Hoffmann Lab hard drive, G22.   \n",
       "35280919  Stored on the Hoffmann Lab hard drive, G22.   \n",
       "35280920  Stored on the Hoffmann Lab hard drive, G22.   \n",
       "35547226   Stored on the Hoffmann Lab hard drive, G22   \n",
       "35547227        Stored on the Hoffmann Lab hard drive   \n",
       "\n",
       "         scientific_name_species1 scientific_name_species2  \\\n",
       "35280914         Aedes albopictus                      NaN   \n",
       "35280919         Aedes albopictus                      NaN   \n",
       "35280920         Aedes albopictus                      NaN   \n",
       "35547226    Aedes aegypti aegypti                      NaN   \n",
       "35547227    Aedes aegypti aegypti                      NaN   \n",
       "\n",
       "         sequencing_facility sequencing_quote_number size_select_high  \\\n",
       "35280914                AGRF              CAGRF13590              NaN   \n",
       "35280919                AGRF              CAGRF13590              NaN   \n",
       "35280920                AGRF              CAGRF13590              NaN   \n",
       "35547226                AGRF              CAGRF11131              NaN   \n",
       "35547227                AGRF              CAGRF11131              NaN   \n",
       "\n",
       "         size_select_low              stage_at  \n",
       "35280914             NaN  Sequencing completed  \n",
       "35280919             NaN  Sequencing completed  \n",
       "35280920             NaN  Sequencing completed  \n",
       "35547226             NaN  Sequencing completed  \n",
       "35547227             NaN  Sequencing completed  \n",
       "\n",
       "[5 rows x 30 columns]"
      ]
     },
     "execution_count": 31,
     "metadata": {},
     "output_type": "execute_result"
    }
   ],
   "source": [
    "libraries_metadata_df = pd.DataFrame(libraries_metadata_dicts).T\n",
    "libraries_metadata_df.head()"
   ]
  },
  {
   "cell_type": "code",
   "execution_count": 32,
   "metadata": {
    "ExecuteTime": {
     "end_time": "2018-09-12T04:06:28.668439Z",
     "start_time": "2018-09-12T04:06:28.631430Z"
    }
   },
   "outputs": [],
   "source": [
    "# Merge libraries_df with metadata\n",
    "libraries_df = libraries_df.merge(libraries_metadata_df, on=\"asset_id\")"
   ]
  },
  {
   "cell_type": "code",
   "execution_count": 33,
   "metadata": {
    "ExecuteTime": {
     "end_time": "2018-09-12T04:06:29.315881Z",
     "start_time": "2018-09-12T04:06:29.272475Z"
    },
    "scrolled": true
   },
   "outputs": [
    {
     "data": {
      "text/html": [
       "<div>\n",
       "<style scoped>\n",
       "    .dataframe tbody tr th:only-of-type {\n",
       "        vertical-align: middle;\n",
       "    }\n",
       "\n",
       "    .dataframe tbody tr th {\n",
       "        vertical-align: top;\n",
       "    }\n",
       "\n",
       "    .dataframe thead th {\n",
       "        text-align: right;\n",
       "    }\n",
       "</style>\n",
       "<table border=\"1\" class=\"dataframe\">\n",
       "  <thead>\n",
       "    <tr style=\"text-align: right;\">\n",
       "      <th></th>\n",
       "      <th>asset_id</th>\n",
       "      <th>asset_name</th>\n",
       "      <th>full_path</th>\n",
       "      <th>bp_sequencing</th>\n",
       "      <th>common_name_species1</th>\n",
       "      <th>common_name_species2</th>\n",
       "      <th>date_current_update</th>\n",
       "      <th>date_sequencing_completion</th>\n",
       "      <th>flowcell_id</th>\n",
       "      <th>library_description</th>\n",
       "      <th>...</th>\n",
       "      <th>raw_sequence_filename</th>\n",
       "      <th>raw_sequence_storage1</th>\n",
       "      <th>raw_sequence_storage2</th>\n",
       "      <th>scientific_name_species1</th>\n",
       "      <th>scientific_name_species2</th>\n",
       "      <th>sequencing_facility</th>\n",
       "      <th>sequencing_quote_number</th>\n",
       "      <th>size_select_high</th>\n",
       "      <th>size_select_low</th>\n",
       "      <th>stage_at</th>\n",
       "    </tr>\n",
       "  </thead>\n",
       "  <tbody>\n",
       "    <tr>\n",
       "      <th>0</th>\n",
       "      <td>35280914</td>\n",
       "      <td>P4_CA5YJANXX</td>\n",
       "      <td>/projects/proj-hoffmann_data-1128.4.49/librari...</td>\n",
       "      <td>NaN</td>\n",
       "      <td>Asian Tiger Mosquito</td>\n",
       "      <td>NaN</td>\n",
       "      <td>31-Oct-2017</td>\n",
       "      <td>14-Oct-2016</td>\n",
       "      <td>CA5YJANXX</td>\n",
       "      <td>Individuals in this library were collected as ...</td>\n",
       "      <td>...</td>\n",
       "      <td>P4_CA5YJANXX_NoIndex_L002_R1.fastq.gz|P4_CA5YJ...</td>\n",
       "      <td>Stored on the Hoffmann Mediaflux Project: proj...</td>\n",
       "      <td>Stored on the Hoffmann Lab hard drive, G22.</td>\n",
       "      <td>Aedes albopictus</td>\n",
       "      <td>NaN</td>\n",
       "      <td>AGRF</td>\n",
       "      <td>CAGRF13590</td>\n",
       "      <td>NaN</td>\n",
       "      <td>NaN</td>\n",
       "      <td>Sequencing completed</td>\n",
       "    </tr>\n",
       "    <tr>\n",
       "      <th>1</th>\n",
       "      <td>35280919</td>\n",
       "      <td>P5_CA5YJANXX</td>\n",
       "      <td>/projects/proj-hoffmann_data-1128.4.49/librari...</td>\n",
       "      <td>NaN</td>\n",
       "      <td>Asian Tiger Mosquito</td>\n",
       "      <td>NaN</td>\n",
       "      <td>31-Oct-2017</td>\n",
       "      <td>14-Oct-2016</td>\n",
       "      <td>CA5YJANXX</td>\n",
       "      <td>Individuals in this library were collected as ...</td>\n",
       "      <td>...</td>\n",
       "      <td>P5_CA5YJANXX_NoIndex_L003_R1.fastq.gz|P5_CA5YJ...</td>\n",
       "      <td>Stored on the Hoffmann Mediaflux Project: proj...</td>\n",
       "      <td>Stored on the Hoffmann Lab hard drive, G22.</td>\n",
       "      <td>Aedes albopictus</td>\n",
       "      <td>NaN</td>\n",
       "      <td>AGRF</td>\n",
       "      <td>CAGRF13590</td>\n",
       "      <td>NaN</td>\n",
       "      <td>NaN</td>\n",
       "      <td>Sequencing completed</td>\n",
       "    </tr>\n",
       "    <tr>\n",
       "      <th>2</th>\n",
       "      <td>35280920</td>\n",
       "      <td>P6_CA5YJANXX</td>\n",
       "      <td>/projects/proj-hoffmann_data-1128.4.49/librari...</td>\n",
       "      <td>NaN</td>\n",
       "      <td>Asian Tiger Mosquito</td>\n",
       "      <td>NaN</td>\n",
       "      <td>31-Oct-2017</td>\n",
       "      <td>14-Oct-2016</td>\n",
       "      <td>CA5YJANXX</td>\n",
       "      <td>Individuals in this library were collected as ...</td>\n",
       "      <td>...</td>\n",
       "      <td>P6_CA5YJANXX_NoIndex_L004_R1.fastq.gz|P6_CA5YJ...</td>\n",
       "      <td>Stored on the Hoffmann Mediaflux Project: proj...</td>\n",
       "      <td>Stored on the Hoffmann Lab hard drive, G22.</td>\n",
       "      <td>Aedes albopictus</td>\n",
       "      <td>NaN</td>\n",
       "      <td>AGRF</td>\n",
       "      <td>CAGRF13590</td>\n",
       "      <td>NaN</td>\n",
       "      <td>NaN</td>\n",
       "      <td>Sequencing completed</td>\n",
       "    </tr>\n",
       "    <tr>\n",
       "      <th>3</th>\n",
       "      <td>35547226</td>\n",
       "      <td>CairnsL1</td>\n",
       "      <td>/projects/proj-hoffmann_data-1128.4.49/librari...</td>\n",
       "      <td>NaN</td>\n",
       "      <td>Yellow Fever Mosquito</td>\n",
       "      <td>NaN</td>\n",
       "      <td>16-Feb-2018</td>\n",
       "      <td>NaN</td>\n",
       "      <td>C7NAAANXX</td>\n",
       "      <td>Individuals in this library were collected as ...</td>\n",
       "      <td>...</td>\n",
       "      <td>cairnsL1_R1_001.fastq.gz | cairnsL1_R2_001.fas...</td>\n",
       "      <td>Stored on the Hoffmann Mediaflux Project: proj...</td>\n",
       "      <td>Stored on the Hoffmann Lab hard drive, G22</td>\n",
       "      <td>Aedes aegypti aegypti</td>\n",
       "      <td>NaN</td>\n",
       "      <td>AGRF</td>\n",
       "      <td>CAGRF11131</td>\n",
       "      <td>NaN</td>\n",
       "      <td>NaN</td>\n",
       "      <td>Sequencing completed</td>\n",
       "    </tr>\n",
       "    <tr>\n",
       "      <th>4</th>\n",
       "      <td>35547227</td>\n",
       "      <td>CairnsL2</td>\n",
       "      <td>/projects/proj-hoffmann_data-1128.4.49/librari...</td>\n",
       "      <td>NaN</td>\n",
       "      <td>Yellow Fever Mosquito</td>\n",
       "      <td>NaN</td>\n",
       "      <td>16-Feb-2018</td>\n",
       "      <td>NaN</td>\n",
       "      <td>C7NAAANXX</td>\n",
       "      <td>Individuals in this library were collected as ...</td>\n",
       "      <td>...</td>\n",
       "      <td>cairnsL2_R1_001.fastq.gz | cairnsL2_R2_001.fas...</td>\n",
       "      <td>Stored on the Hoffmann Mediaflux Project: proj...</td>\n",
       "      <td>Stored on the Hoffmann Lab hard drive</td>\n",
       "      <td>Aedes aegypti aegypti</td>\n",
       "      <td>NaN</td>\n",
       "      <td>AGRF</td>\n",
       "      <td>CAGRF11131</td>\n",
       "      <td>NaN</td>\n",
       "      <td>NaN</td>\n",
       "      <td>Sequencing completed</td>\n",
       "    </tr>\n",
       "  </tbody>\n",
       "</table>\n",
       "<p>5 rows × 32 columns</p>\n",
       "</div>"
      ],
      "text/plain": [
       "   asset_id    asset_name                                          full_path  \\\n",
       "0  35280914  P4_CA5YJANXX  /projects/proj-hoffmann_data-1128.4.49/librari...   \n",
       "1  35280919  P5_CA5YJANXX  /projects/proj-hoffmann_data-1128.4.49/librari...   \n",
       "2  35280920  P6_CA5YJANXX  /projects/proj-hoffmann_data-1128.4.49/librari...   \n",
       "3  35547226      CairnsL1  /projects/proj-hoffmann_data-1128.4.49/librari...   \n",
       "4  35547227      CairnsL2  /projects/proj-hoffmann_data-1128.4.49/librari...   \n",
       "\n",
       "  bp_sequencing   common_name_species1 common_name_species2  \\\n",
       "0           NaN   Asian Tiger Mosquito                  NaN   \n",
       "1           NaN   Asian Tiger Mosquito                  NaN   \n",
       "2           NaN   Asian Tiger Mosquito                  NaN   \n",
       "3           NaN  Yellow Fever Mosquito                  NaN   \n",
       "4           NaN  Yellow Fever Mosquito                  NaN   \n",
       "\n",
       "  date_current_update date_sequencing_completion flowcell_id  \\\n",
       "0         31-Oct-2017                14-Oct-2016   CA5YJANXX   \n",
       "1         31-Oct-2017                14-Oct-2016   CA5YJANXX   \n",
       "2         31-Oct-2017                14-Oct-2016   CA5YJANXX   \n",
       "3         16-Feb-2018                        NaN   C7NAAANXX   \n",
       "4         16-Feb-2018                        NaN   C7NAAANXX   \n",
       "\n",
       "                                 library_description          ...           \\\n",
       "0  Individuals in this library were collected as ...          ...            \n",
       "1  Individuals in this library were collected as ...          ...            \n",
       "2  Individuals in this library were collected as ...          ...            \n",
       "3  Individuals in this library were collected as ...          ...            \n",
       "4  Individuals in this library were collected as ...          ...            \n",
       "\n",
       "                               raw_sequence_filename  \\\n",
       "0  P4_CA5YJANXX_NoIndex_L002_R1.fastq.gz|P4_CA5YJ...   \n",
       "1  P5_CA5YJANXX_NoIndex_L003_R1.fastq.gz|P5_CA5YJ...   \n",
       "2  P6_CA5YJANXX_NoIndex_L004_R1.fastq.gz|P6_CA5YJ...   \n",
       "3  cairnsL1_R1_001.fastq.gz | cairnsL1_R2_001.fas...   \n",
       "4  cairnsL2_R1_001.fastq.gz | cairnsL2_R2_001.fas...   \n",
       "\n",
       "                               raw_sequence_storage1  \\\n",
       "0  Stored on the Hoffmann Mediaflux Project: proj...   \n",
       "1  Stored on the Hoffmann Mediaflux Project: proj...   \n",
       "2  Stored on the Hoffmann Mediaflux Project: proj...   \n",
       "3  Stored on the Hoffmann Mediaflux Project: proj...   \n",
       "4  Stored on the Hoffmann Mediaflux Project: proj...   \n",
       "\n",
       "                         raw_sequence_storage2 scientific_name_species1  \\\n",
       "0  Stored on the Hoffmann Lab hard drive, G22.         Aedes albopictus   \n",
       "1  Stored on the Hoffmann Lab hard drive, G22.         Aedes albopictus   \n",
       "2  Stored on the Hoffmann Lab hard drive, G22.         Aedes albopictus   \n",
       "3   Stored on the Hoffmann Lab hard drive, G22    Aedes aegypti aegypti   \n",
       "4        Stored on the Hoffmann Lab hard drive    Aedes aegypti aegypti   \n",
       "\n",
       "  scientific_name_species2 sequencing_facility sequencing_quote_number  \\\n",
       "0                      NaN                AGRF              CAGRF13590   \n",
       "1                      NaN                AGRF              CAGRF13590   \n",
       "2                      NaN                AGRF              CAGRF13590   \n",
       "3                      NaN                AGRF              CAGRF11131   \n",
       "4                      NaN                AGRF              CAGRF11131   \n",
       "\n",
       "  size_select_high size_select_low              stage_at  \n",
       "0              NaN             NaN  Sequencing completed  \n",
       "1              NaN             NaN  Sequencing completed  \n",
       "2              NaN             NaN  Sequencing completed  \n",
       "3              NaN             NaN  Sequencing completed  \n",
       "4              NaN             NaN  Sequencing completed  \n",
       "\n",
       "[5 rows x 32 columns]"
      ]
     },
     "execution_count": 33,
     "metadata": {},
     "output_type": "execute_result"
    }
   ],
   "source": [
    "libraries_df.head()"
   ]
  },
  {
   "cell_type": "markdown",
   "metadata": {},
   "source": [
    "## Individuals\n",
    "\n",
    "Get metadata from all assets in `individuals/`"
   ]
  },
  {
   "cell_type": "code",
   "execution_count": 34,
   "metadata": {
    "ExecuteTime": {
     "end_time": "2018-09-12T04:06:30.920099Z",
     "start_time": "2018-09-12T04:06:30.916222Z"
    }
   },
   "outputs": [],
   "source": [
    "asset_id_list = list(individuals_df[\"asset_id\"])"
   ]
  },
  {
   "cell_type": "code",
   "execution_count": 35,
   "metadata": {
    "ExecuteTime": {
     "end_time": "2018-09-12T04:06:31.648486Z",
     "start_time": "2018-09-12T04:06:31.591624Z"
    }
   },
   "outputs": [],
   "source": [
    "# Query one asset\n",
    "query = get_asset(asset_id_list[0])"
   ]
  },
  {
   "cell_type": "code",
   "execution_count": 36,
   "metadata": {
    "ExecuteTime": {
     "end_time": "2018-09-12T04:06:32.407052Z",
     "start_time": "2018-09-12T04:06:32.398921Z"
    }
   },
   "outputs": [
    {
     "data": {
      "text/plain": [
       "['proj-hoffmann_data-1128.4.49:individuals_metadata',\n",
       " 'proj-hoffmann_data-1128.4.49:individuals_storage',\n",
       " 'proj-hoffmann_data-1128.4.49:individuals_locations',\n",
       " 'proj-hoffmann_data-1128.4.49:individuals_store-and-retrieve',\n",
       " 'proj-hoffmann_data-1128.4.49:individuals_name',\n",
       " 'proj-hoffmann_data-1128.4.49:individuals_assays']"
      ]
     },
     "execution_count": 36,
     "metadata": {},
     "output_type": "execute_result"
    }
   ],
   "source": [
    "# Get metadata documents\n",
    "metadata_documents = [x.name() for x in query.element(\"asset/meta\").elements() if x.name() != \"mf-revision-history\"]\n",
    "metadata_documents"
   ]
  },
  {
   "cell_type": "code",
   "execution_count": 37,
   "metadata": {
    "ExecuteTime": {
     "end_time": "2018-09-12T04:06:33.171911Z",
     "start_time": "2018-09-12T04:06:33.168390Z"
    }
   },
   "outputs": [],
   "source": [
    "individuals_metadata_dicts = {}\n",
    "assay_list = []"
   ]
  },
  {
   "cell_type": "code",
   "execution_count": 38,
   "metadata": {
    "ExecuteTime": {
     "end_time": "2018-09-12T04:07:38.599428Z",
     "start_time": "2018-09-12T04:06:34.267316Z"
    }
   },
   "outputs": [],
   "source": [
    "# Sometimes this times out when getting assets from mediaflux\n",
    "# TODO: Add retry if timeout\n",
    "# TODO: Refactor this block\n",
    "for asset_id in asset_id_list:\n",
    "    if asset_id not in individuals_metadata_dicts:\n",
    "        d = collections.OrderedDict({\"asset_id\": asset_id})\n",
    "        query = get_asset(asset_id)\n",
    "        metadata_documents = [x.name() for x in query.element(\"asset/meta\").elements() \n",
    "                              if x.name() != \"mf-revision-history\"]\n",
    "        # Not expecting any metadata document to appear multiple times\n",
    "        assert(len(metadata_documents) == len(set(metadata_documents)))\n",
    "        for document in metadata_documents:\n",
    "            if document != \"proj-hoffmann_data-1128.4.49:individuals_assays\":\n",
    "                for element in query.element(\"asset/meta/{}\".format(document)).elements():\n",
    "                    if element.name() not in d:\n",
    "                        d[element.name()] = element.value()\n",
    "                    else:\n",
    "                        logging.warning(\"Asset {}: Duplicated element {}. Ignoring duplicates.\"\\\n",
    "                            .format(asset_id, element.name()))\n",
    "            else:\n",
    "                # Process individual_assay metadata separately. Each element is another document.\n",
    "                assay_elements = query.element(\"asset/meta/proj-hoffmann_data-1128.4.49:individuals_assays\").elements()\n",
    "                for a in assay_elements:\n",
    "                    assay_dict = collections.OrderedDict()\n",
    "                    assay_dict[\"asset_id\"] = asset_id\n",
    "                    assay_dict[\"assay_name\"] = a.name()\n",
    "                    for element in a.elements():\n",
    "                        if element.name() not in assay_dict:\n",
    "                            assay_dict[element.name()] = element.value()\n",
    "                        else:\n",
    "                            logging.warning(\"Asset {}: Duplicated element {} in {}. Ignoring duplicates.\"\\\n",
    "                                .format(asset_id, element.name(), a.name()))\n",
    "                    assay_list.append(assay_dict)\n",
    "        individuals_metadata_dicts[asset_id] = d"
   ]
  },
  {
   "cell_type": "code",
   "execution_count": 39,
   "metadata": {
    "ExecuteTime": {
     "end_time": "2018-09-12T04:08:17.539995Z",
     "start_time": "2018-09-12T04:08:17.386874Z"
    }
   },
   "outputs": [
    {
     "data": {
      "text/html": [
       "<div>\n",
       "<style scoped>\n",
       "    .dataframe tbody tr th:only-of-type {\n",
       "        vertical-align: middle;\n",
       "    }\n",
       "\n",
       "    .dataframe tbody tr th {\n",
       "        vertical-align: top;\n",
       "    }\n",
       "\n",
       "    .dataframe thead th {\n",
       "        text-align: right;\n",
       "    }\n",
       "</style>\n",
       "<table border=\"1\" class=\"dataframe\">\n",
       "  <thead>\n",
       "    <tr style=\"text-align: right;\">\n",
       "      <th></th>\n",
       "      <th>asset_id</th>\n",
       "      <th>barcode_reference_list</th>\n",
       "      <th>common_name_species</th>\n",
       "      <th>country</th>\n",
       "      <th>date_collection</th>\n",
       "      <th>date_current_update</th>\n",
       "      <th>dev_stage_collected</th>\n",
       "      <th>dev_stage_stored</th>\n",
       "      <th>dna_tube1_conc</th>\n",
       "      <th>dna_tube1_label</th>\n",
       "      <th>...</th>\n",
       "      <th>radseq_library_alias</th>\n",
       "      <th>radseq_library_name</th>\n",
       "      <th>raw_sequence_filename</th>\n",
       "      <th>sampling_scheme</th>\n",
       "      <th>sampling_type</th>\n",
       "      <th>scientific_name_species</th>\n",
       "      <th>sex</th>\n",
       "      <th>specific_location</th>\n",
       "      <th>strain</th>\n",
       "      <th>subregion</th>\n",
       "    </tr>\n",
       "  </thead>\n",
       "  <tbody>\n",
       "    <tr>\n",
       "      <th>35280960</th>\n",
       "      <td>35280960</td>\n",
       "      <td>pearg_bc2017</td>\n",
       "      <td>Asian Tiger Mosquito</td>\n",
       "      <td>China</td>\n",
       "      <td>25-Sep-2015</td>\n",
       "      <td>31-Oct-2017</td>\n",
       "      <td>Larva or pupa</td>\n",
       "      <td>Larva or pupa</td>\n",
       "      <td>14.6</td>\n",
       "      <td>A001 elution A</td>\n",
       "      <td>...</td>\n",
       "      <td>P4</td>\n",
       "      <td>P4_CA5YJANXX</td>\n",
       "      <td>P4_CA5YJANXX_NoIndex_L002_R1.fastq.gz|P4_CA5YJ...</td>\n",
       "      <td>Collected from natural containers in Guangzhou...</td>\n",
       "      <td>field</td>\n",
       "      <td>Aedes albopictus</td>\n",
       "      <td>female</td>\n",
       "      <td>Jiuwei Village</td>\n",
       "      <td>NaN</td>\n",
       "      <td>Guangzhou City</td>\n",
       "    </tr>\n",
       "    <tr>\n",
       "      <th>35281030</th>\n",
       "      <td>35281030</td>\n",
       "      <td>pearg_bc2017</td>\n",
       "      <td>Asian Tiger Mosquito</td>\n",
       "      <td>China</td>\n",
       "      <td>25-Oct-2015</td>\n",
       "      <td>31-Oct-2017</td>\n",
       "      <td>Larva or pupa</td>\n",
       "      <td>Larva or pupa</td>\n",
       "      <td>19.95</td>\n",
       "      <td>A002 elution A</td>\n",
       "      <td>...</td>\n",
       "      <td>P4</td>\n",
       "      <td>P4_CA5YJANXX</td>\n",
       "      <td>P4_CA5YJANXX_NoIndex_L002_R1.fastq.gz|P4_CA5YJ...</td>\n",
       "      <td>Collected from natural containers in Guangzhou...</td>\n",
       "      <td>field</td>\n",
       "      <td>Aedes albopictus</td>\n",
       "      <td>female</td>\n",
       "      <td>Jiuwei Village</td>\n",
       "      <td>NaN</td>\n",
       "      <td>Guangzhou City</td>\n",
       "    </tr>\n",
       "    <tr>\n",
       "      <th>35281033</th>\n",
       "      <td>35281033</td>\n",
       "      <td>pearg_bc2017</td>\n",
       "      <td>Asian Tiger Mosquito</td>\n",
       "      <td>China</td>\n",
       "      <td>25-Sep-2015</td>\n",
       "      <td>31-Oct-2017</td>\n",
       "      <td>Larva or pupa</td>\n",
       "      <td>Larva or pupa</td>\n",
       "      <td>14.69</td>\n",
       "      <td>A003 elution A</td>\n",
       "      <td>...</td>\n",
       "      <td>P4</td>\n",
       "      <td>P4_CA5YJANXX</td>\n",
       "      <td>P4_CA5YJANXX_NoIndex_L002_R1.fastq.gz|P4_CA5YJ...</td>\n",
       "      <td>Collected from natural containers in Guangzhou...</td>\n",
       "      <td>field</td>\n",
       "      <td>Aedes albopictus</td>\n",
       "      <td>female</td>\n",
       "      <td>Jiuwei Village</td>\n",
       "      <td>NaN</td>\n",
       "      <td>Guangzhou City</td>\n",
       "    </tr>\n",
       "    <tr>\n",
       "      <th>35281798</th>\n",
       "      <td>35281798</td>\n",
       "      <td>pearg_bc2017</td>\n",
       "      <td>Asian Tiger Mosquito</td>\n",
       "      <td>China</td>\n",
       "      <td>25-Sep-2015</td>\n",
       "      <td>31-Oct-2017</td>\n",
       "      <td>Larva or pupa</td>\n",
       "      <td>Larva or pupa</td>\n",
       "      <td>25.54</td>\n",
       "      <td>A004 elution A</td>\n",
       "      <td>...</td>\n",
       "      <td>P4</td>\n",
       "      <td>P4_CA5YJANXX</td>\n",
       "      <td>P4_CA5YJANXX_NoIndex_L002_R1.fastq.gz|P4_CA5YJ...</td>\n",
       "      <td>Collected from natural containers in Guangzhou...</td>\n",
       "      <td>field</td>\n",
       "      <td>Aedes albopictus</td>\n",
       "      <td>female</td>\n",
       "      <td>Jiuwei Village</td>\n",
       "      <td>NaN</td>\n",
       "      <td>Guangzhou City</td>\n",
       "    </tr>\n",
       "    <tr>\n",
       "      <th>35282328</th>\n",
       "      <td>35282328</td>\n",
       "      <td>pearg_bc2017</td>\n",
       "      <td>Asian Tiger Mosquito</td>\n",
       "      <td>China</td>\n",
       "      <td>25-Sep-2015</td>\n",
       "      <td>31-Oct-2017</td>\n",
       "      <td>Larva or pupa</td>\n",
       "      <td>Larva or pupa</td>\n",
       "      <td>17.55</td>\n",
       "      <td>A005 elution A</td>\n",
       "      <td>...</td>\n",
       "      <td>P4</td>\n",
       "      <td>P4_CA5YJANXX</td>\n",
       "      <td>P4_CA5YJANXX_NoIndex_L002_R1.fastq.gz|P4_CA5YJ...</td>\n",
       "      <td>Collected from natural containers in Guangzhou...</td>\n",
       "      <td>field</td>\n",
       "      <td>Aedes albopictus</td>\n",
       "      <td>female</td>\n",
       "      <td>Jiuwei Village</td>\n",
       "      <td>NaN</td>\n",
       "      <td>Guangzhou City</td>\n",
       "    </tr>\n",
       "  </tbody>\n",
       "</table>\n",
       "<p>5 rows × 39 columns</p>\n",
       "</div>"
      ],
      "text/plain": [
       "          asset_id barcode_reference_list   common_name_species country  \\\n",
       "35280960  35280960           pearg_bc2017  Asian Tiger Mosquito   China   \n",
       "35281030  35281030           pearg_bc2017  Asian Tiger Mosquito   China   \n",
       "35281033  35281033           pearg_bc2017  Asian Tiger Mosquito   China   \n",
       "35281798  35281798           pearg_bc2017  Asian Tiger Mosquito   China   \n",
       "35282328  35282328           pearg_bc2017  Asian Tiger Mosquito   China   \n",
       "\n",
       "         date_collection date_current_update dev_stage_collected  \\\n",
       "35280960     25-Sep-2015         31-Oct-2017       Larva or pupa   \n",
       "35281030     25-Oct-2015         31-Oct-2017       Larva or pupa   \n",
       "35281033     25-Sep-2015         31-Oct-2017       Larva or pupa   \n",
       "35281798     25-Sep-2015         31-Oct-2017       Larva or pupa   \n",
       "35282328     25-Sep-2015         31-Oct-2017       Larva or pupa   \n",
       "\n",
       "         dev_stage_stored dna_tube1_conc dna_tube1_label       ...        \\\n",
       "35280960    Larva or pupa           14.6  A001 elution A       ...         \n",
       "35281030    Larva or pupa          19.95  A002 elution A       ...         \n",
       "35281033    Larva or pupa          14.69  A003 elution A       ...         \n",
       "35281798    Larva or pupa          25.54  A004 elution A       ...         \n",
       "35282328    Larva or pupa          17.55  A005 elution A       ...         \n",
       "\n",
       "         radseq_library_alias radseq_library_name  \\\n",
       "35280960                   P4        P4_CA5YJANXX   \n",
       "35281030                   P4        P4_CA5YJANXX   \n",
       "35281033                   P4        P4_CA5YJANXX   \n",
       "35281798                   P4        P4_CA5YJANXX   \n",
       "35282328                   P4        P4_CA5YJANXX   \n",
       "\n",
       "                                      raw_sequence_filename  \\\n",
       "35280960  P4_CA5YJANXX_NoIndex_L002_R1.fastq.gz|P4_CA5YJ...   \n",
       "35281030  P4_CA5YJANXX_NoIndex_L002_R1.fastq.gz|P4_CA5YJ...   \n",
       "35281033  P4_CA5YJANXX_NoIndex_L002_R1.fastq.gz|P4_CA5YJ...   \n",
       "35281798  P4_CA5YJANXX_NoIndex_L002_R1.fastq.gz|P4_CA5YJ...   \n",
       "35282328  P4_CA5YJANXX_NoIndex_L002_R1.fastq.gz|P4_CA5YJ...   \n",
       "\n",
       "                                            sampling_scheme sampling_type  \\\n",
       "35280960  Collected from natural containers in Guangzhou...         field   \n",
       "35281030  Collected from natural containers in Guangzhou...         field   \n",
       "35281033  Collected from natural containers in Guangzhou...         field   \n",
       "35281798  Collected from natural containers in Guangzhou...         field   \n",
       "35282328  Collected from natural containers in Guangzhou...         field   \n",
       "\n",
       "         scientific_name_species     sex specific_location strain  \\\n",
       "35280960        Aedes albopictus  female    Jiuwei Village    NaN   \n",
       "35281030        Aedes albopictus  female    Jiuwei Village    NaN   \n",
       "35281033        Aedes albopictus  female    Jiuwei Village    NaN   \n",
       "35281798        Aedes albopictus  female    Jiuwei Village    NaN   \n",
       "35282328        Aedes albopictus  female    Jiuwei Village    NaN   \n",
       "\n",
       "               subregion  \n",
       "35280960  Guangzhou City  \n",
       "35281030  Guangzhou City  \n",
       "35281033  Guangzhou City  \n",
       "35281798  Guangzhou City  \n",
       "35282328  Guangzhou City  \n",
       "\n",
       "[5 rows x 39 columns]"
      ]
     },
     "execution_count": 39,
     "metadata": {},
     "output_type": "execute_result"
    }
   ],
   "source": [
    "individuals_metadata_df = pd.DataFrame(individuals_metadata_dicts).T\n",
    "individuals_metadata_df.head()"
   ]
  },
  {
   "cell_type": "code",
   "execution_count": 40,
   "metadata": {
    "ExecuteTime": {
     "end_time": "2018-09-12T04:08:20.271615Z",
     "start_time": "2018-09-12T04:08:20.267138Z"
    }
   },
   "outputs": [],
   "source": [
    "# TODO: Change this to get order from the metadata documents, not a particular asset \n",
    "#       because some assets can be missing fileds\n",
    "individuals_metadata_col_order = [x for x in individuals_metadata_dicts[asset_id_list[0]]]"
   ]
  },
  {
   "cell_type": "code",
   "execution_count": 41,
   "metadata": {
    "ExecuteTime": {
     "end_time": "2018-09-12T04:08:20.858287Z",
     "start_time": "2018-09-12T04:08:20.851357Z"
    }
   },
   "outputs": [
    {
     "data": {
      "text/plain": [
       "['dna_tube2_conc', 'strain']"
      ]
     },
     "execution_count": 41,
     "metadata": {},
     "output_type": "execute_result"
    }
   ],
   "source": [
    "# XXX: These columns are missing\n",
    "missing = [col for col in individuals_metadata_df.columns if col not in individuals_metadata_col_order]\n",
    "missing"
   ]
  },
  {
   "cell_type": "code",
   "execution_count": 42,
   "metadata": {
    "ExecuteTime": {
     "end_time": "2018-09-12T04:08:21.613535Z",
     "start_time": "2018-09-12T04:08:21.567542Z"
    }
   },
   "outputs": [
    {
     "data": {
      "text/html": [
       "<div>\n",
       "<style scoped>\n",
       "    .dataframe tbody tr th:only-of-type {\n",
       "        vertical-align: middle;\n",
       "    }\n",
       "\n",
       "    .dataframe tbody tr th {\n",
       "        vertical-align: top;\n",
       "    }\n",
       "\n",
       "    .dataframe thead th {\n",
       "        text-align: right;\n",
       "    }\n",
       "</style>\n",
       "<table border=\"1\" class=\"dataframe\">\n",
       "  <thead>\n",
       "    <tr style=\"text-align: right;\">\n",
       "      <th></th>\n",
       "      <th>asset_id</th>\n",
       "      <th>date_current_update</th>\n",
       "      <th>person_current_update</th>\n",
       "      <th>scientific_name_species</th>\n",
       "      <th>common_name_species</th>\n",
       "      <th>individual_description</th>\n",
       "      <th>date_collection</th>\n",
       "      <th>person_collection</th>\n",
       "      <th>dev_stage_collected</th>\n",
       "      <th>dev_stage_stored</th>\n",
       "      <th>...</th>\n",
       "      <th>radseq_library_name</th>\n",
       "      <th>radseq_library_alias</th>\n",
       "      <th>raw_sequence_filename</th>\n",
       "      <th>barcode_reference_list</th>\n",
       "      <th>p1_barcode_code_sequence</th>\n",
       "      <th>p2_barcode_code_sequence</th>\n",
       "      <th>individual_code</th>\n",
       "      <th>individual_code_alias</th>\n",
       "      <th>dna_tube2_conc</th>\n",
       "      <th>strain</th>\n",
       "    </tr>\n",
       "  </thead>\n",
       "  <tbody>\n",
       "    <tr>\n",
       "      <th>35280960</th>\n",
       "      <td>35280960</td>\n",
       "      <td>31-Oct-2017</td>\n",
       "      <td>Tom Schmidt</td>\n",
       "      <td>Aedes albopictus</td>\n",
       "      <td>Asian Tiger Mosquito</td>\n",
       "      <td>This individual has been extracted and sequenc...</td>\n",
       "      <td>25-Sep-2015</td>\n",
       "      <td>Dongjing Zhang</td>\n",
       "      <td>Larva or pupa</td>\n",
       "      <td>Larva or pupa</td>\n",
       "      <td>...</td>\n",
       "      <td>P4_CA5YJANXX</td>\n",
       "      <td>P4</td>\n",
       "      <td>P4_CA5YJANXX_NoIndex_L002_R1.fastq.gz|P4_CA5YJ...</td>\n",
       "      <td>pearg_bc2017</td>\n",
       "      <td>3 ACGTCA</td>\n",
       "      <td>1 CATGAC</td>\n",
       "      <td>chn_alb_A001</td>\n",
       "      <td>A001</td>\n",
       "      <td>NaN</td>\n",
       "      <td>NaN</td>\n",
       "    </tr>\n",
       "    <tr>\n",
       "      <th>35281030</th>\n",
       "      <td>35281030</td>\n",
       "      <td>31-Oct-2017</td>\n",
       "      <td>Tom Schmidt</td>\n",
       "      <td>Aedes albopictus</td>\n",
       "      <td>Asian Tiger Mosquito</td>\n",
       "      <td>This individual has been extracted and sequenc...</td>\n",
       "      <td>25-Oct-2015</td>\n",
       "      <td>Dongjing Zhang</td>\n",
       "      <td>Larva or pupa</td>\n",
       "      <td>Larva or pupa</td>\n",
       "      <td>...</td>\n",
       "      <td>P4_CA5YJANXX</td>\n",
       "      <td>P4</td>\n",
       "      <td>P4_CA5YJANXX_NoIndex_L002_R1.fastq.gz|P4_CA5YJ...</td>\n",
       "      <td>pearg_bc2017</td>\n",
       "      <td>9 ATGCTA</td>\n",
       "      <td>1 CATGAC</td>\n",
       "      <td>chn_alb_A002</td>\n",
       "      <td>A002</td>\n",
       "      <td>NaN</td>\n",
       "      <td>NaN</td>\n",
       "    </tr>\n",
       "    <tr>\n",
       "      <th>35281033</th>\n",
       "      <td>35281033</td>\n",
       "      <td>31-Oct-2017</td>\n",
       "      <td>Tom Schmidt</td>\n",
       "      <td>Aedes albopictus</td>\n",
       "      <td>Asian Tiger Mosquito</td>\n",
       "      <td>This individual has been extracted and sequenc...</td>\n",
       "      <td>25-Sep-2015</td>\n",
       "      <td>Dongjing Zhang</td>\n",
       "      <td>Larva or pupa</td>\n",
       "      <td>Larva or pupa</td>\n",
       "      <td>...</td>\n",
       "      <td>P4_CA5YJANXX</td>\n",
       "      <td>P4</td>\n",
       "      <td>P4_CA5YJANXX_NoIndex_L002_R1.fastq.gz|P4_CA5YJ...</td>\n",
       "      <td>pearg_bc2017</td>\n",
       "      <td>3 ACGTCA</td>\n",
       "      <td>2 TGCAGT</td>\n",
       "      <td>chn_alb_A003</td>\n",
       "      <td>A003</td>\n",
       "      <td>NaN</td>\n",
       "      <td>NaN</td>\n",
       "    </tr>\n",
       "    <tr>\n",
       "      <th>35281798</th>\n",
       "      <td>35281798</td>\n",
       "      <td>31-Oct-2017</td>\n",
       "      <td>Tom Schmidt</td>\n",
       "      <td>Aedes albopictus</td>\n",
       "      <td>Asian Tiger Mosquito</td>\n",
       "      <td>This individual has been extracted and sequenc...</td>\n",
       "      <td>25-Sep-2015</td>\n",
       "      <td>Dongjing Zhang</td>\n",
       "      <td>Larva or pupa</td>\n",
       "      <td>Larva or pupa</td>\n",
       "      <td>...</td>\n",
       "      <td>P4_CA5YJANXX</td>\n",
       "      <td>P4</td>\n",
       "      <td>P4_CA5YJANXX_NoIndex_L002_R1.fastq.gz|P4_CA5YJ...</td>\n",
       "      <td>pearg_bc2017</td>\n",
       "      <td>15 CGATAC</td>\n",
       "      <td>1 CATGAC</td>\n",
       "      <td>chn_alb_A004</td>\n",
       "      <td>A004</td>\n",
       "      <td>NaN</td>\n",
       "      <td>NaN</td>\n",
       "    </tr>\n",
       "    <tr>\n",
       "      <th>35282328</th>\n",
       "      <td>35282328</td>\n",
       "      <td>31-Oct-2017</td>\n",
       "      <td>Tom Schmidt</td>\n",
       "      <td>Aedes albopictus</td>\n",
       "      <td>Asian Tiger Mosquito</td>\n",
       "      <td>This individual has been extracted and sequenc...</td>\n",
       "      <td>25-Sep-2015</td>\n",
       "      <td>Dongjing Zhang</td>\n",
       "      <td>Larva or pupa</td>\n",
       "      <td>Larva or pupa</td>\n",
       "      <td>...</td>\n",
       "      <td>P4_CA5YJANXX</td>\n",
       "      <td>P4</td>\n",
       "      <td>P4_CA5YJANXX_NoIndex_L002_R1.fastq.gz|P4_CA5YJ...</td>\n",
       "      <td>pearg_bc2017</td>\n",
       "      <td>9 ATGCTA</td>\n",
       "      <td>2 TGCAGT</td>\n",
       "      <td>chn_alb_A005</td>\n",
       "      <td>A005</td>\n",
       "      <td>NaN</td>\n",
       "      <td>NaN</td>\n",
       "    </tr>\n",
       "  </tbody>\n",
       "</table>\n",
       "<p>5 rows × 39 columns</p>\n",
       "</div>"
      ],
      "text/plain": [
       "          asset_id date_current_update person_current_update  \\\n",
       "35280960  35280960         31-Oct-2017           Tom Schmidt   \n",
       "35281030  35281030         31-Oct-2017           Tom Schmidt   \n",
       "35281033  35281033         31-Oct-2017           Tom Schmidt   \n",
       "35281798  35281798         31-Oct-2017           Tom Schmidt   \n",
       "35282328  35282328         31-Oct-2017           Tom Schmidt   \n",
       "\n",
       "         scientific_name_species   common_name_species  \\\n",
       "35280960        Aedes albopictus  Asian Tiger Mosquito   \n",
       "35281030        Aedes albopictus  Asian Tiger Mosquito   \n",
       "35281033        Aedes albopictus  Asian Tiger Mosquito   \n",
       "35281798        Aedes albopictus  Asian Tiger Mosquito   \n",
       "35282328        Aedes albopictus  Asian Tiger Mosquito   \n",
       "\n",
       "                                     individual_description date_collection  \\\n",
       "35280960  This individual has been extracted and sequenc...     25-Sep-2015   \n",
       "35281030  This individual has been extracted and sequenc...     25-Oct-2015   \n",
       "35281033  This individual has been extracted and sequenc...     25-Sep-2015   \n",
       "35281798  This individual has been extracted and sequenc...     25-Sep-2015   \n",
       "35282328  This individual has been extracted and sequenc...     25-Sep-2015   \n",
       "\n",
       "         person_collection dev_stage_collected dev_stage_stored  ...    \\\n",
       "35280960    Dongjing Zhang       Larva or pupa    Larva or pupa  ...     \n",
       "35281030    Dongjing Zhang       Larva or pupa    Larva or pupa  ...     \n",
       "35281033    Dongjing Zhang       Larva or pupa    Larva or pupa  ...     \n",
       "35281798    Dongjing Zhang       Larva or pupa    Larva or pupa  ...     \n",
       "35282328    Dongjing Zhang       Larva or pupa    Larva or pupa  ...     \n",
       "\n",
       "         radseq_library_name radseq_library_alias  \\\n",
       "35280960        P4_CA5YJANXX                   P4   \n",
       "35281030        P4_CA5YJANXX                   P4   \n",
       "35281033        P4_CA5YJANXX                   P4   \n",
       "35281798        P4_CA5YJANXX                   P4   \n",
       "35282328        P4_CA5YJANXX                   P4   \n",
       "\n",
       "                                      raw_sequence_filename  \\\n",
       "35280960  P4_CA5YJANXX_NoIndex_L002_R1.fastq.gz|P4_CA5YJ...   \n",
       "35281030  P4_CA5YJANXX_NoIndex_L002_R1.fastq.gz|P4_CA5YJ...   \n",
       "35281033  P4_CA5YJANXX_NoIndex_L002_R1.fastq.gz|P4_CA5YJ...   \n",
       "35281798  P4_CA5YJANXX_NoIndex_L002_R1.fastq.gz|P4_CA5YJ...   \n",
       "35282328  P4_CA5YJANXX_NoIndex_L002_R1.fastq.gz|P4_CA5YJ...   \n",
       "\n",
       "         barcode_reference_list p1_barcode_code_sequence  \\\n",
       "35280960           pearg_bc2017                 3 ACGTCA   \n",
       "35281030           pearg_bc2017                 9 ATGCTA   \n",
       "35281033           pearg_bc2017                 3 ACGTCA   \n",
       "35281798           pearg_bc2017                15 CGATAC   \n",
       "35282328           pearg_bc2017                 9 ATGCTA   \n",
       "\n",
       "         p2_barcode_code_sequence individual_code individual_code_alias  \\\n",
       "35280960                 1 CATGAC    chn_alb_A001                  A001   \n",
       "35281030                 1 CATGAC    chn_alb_A002                  A002   \n",
       "35281033                 2 TGCAGT    chn_alb_A003                  A003   \n",
       "35281798                 1 CATGAC    chn_alb_A004                  A004   \n",
       "35282328                 2 TGCAGT    chn_alb_A005                  A005   \n",
       "\n",
       "         dna_tube2_conc strain  \n",
       "35280960            NaN    NaN  \n",
       "35281030            NaN    NaN  \n",
       "35281033            NaN    NaN  \n",
       "35281798            NaN    NaN  \n",
       "35282328            NaN    NaN  \n",
       "\n",
       "[5 rows x 39 columns]"
      ]
     },
     "execution_count": 42,
     "metadata": {},
     "output_type": "execute_result"
    }
   ],
   "source": [
    "individuals_metadata_df = individuals_metadata_df[individuals_metadata_col_order + missing]\n",
    "individuals_metadata_df.head()"
   ]
  },
  {
   "cell_type": "code",
   "execution_count": 43,
   "metadata": {
    "ExecuteTime": {
     "end_time": "2018-09-12T04:08:22.333385Z",
     "start_time": "2018-09-12T04:08:22.327452Z"
    }
   },
   "outputs": [
    {
     "data": {
      "text/plain": [
       "(1082, 39)"
      ]
     },
     "execution_count": 43,
     "metadata": {},
     "output_type": "execute_result"
    }
   ],
   "source": [
    "individuals_metadata_df.shape"
   ]
  },
  {
   "cell_type": "code",
   "execution_count": 44,
   "metadata": {
    "ExecuteTime": {
     "end_time": "2018-09-12T04:08:23.006494Z",
     "start_time": "2018-09-12T04:08:22.998335Z"
    }
   },
   "outputs": [
    {
     "data": {
      "text/plain": [
       "Counter({'KDR_assay': 1900, 'wolbachia_assay': 200})"
      ]
     },
     "execution_count": 44,
     "metadata": {},
     "output_type": "execute_result"
    }
   ],
   "source": [
    "collections.Counter([x[\"assay_name\"] for x in assay_list])"
   ]
  },
  {
   "cell_type": "code",
   "execution_count": 45,
   "metadata": {
    "ExecuteTime": {
     "end_time": "2018-09-12T04:08:23.571941Z",
     "start_time": "2018-09-12T04:08:23.543011Z"
    }
   },
   "outputs": [
    {
     "data": {
      "text/html": [
       "<div>\n",
       "<style scoped>\n",
       "    .dataframe tbody tr th:only-of-type {\n",
       "        vertical-align: middle;\n",
       "    }\n",
       "\n",
       "    .dataframe tbody tr th {\n",
       "        vertical-align: top;\n",
       "    }\n",
       "\n",
       "    .dataframe thead th {\n",
       "        text-align: right;\n",
       "    }\n",
       "</style>\n",
       "<table border=\"1\" class=\"dataframe\">\n",
       "  <thead>\n",
       "    <tr style=\"text-align: right;\">\n",
       "      <th></th>\n",
       "      <th>asset_id</th>\n",
       "      <th>assay_name</th>\n",
       "      <th>date_current_update</th>\n",
       "      <th>resistance_mutation</th>\n",
       "      <th>resistance_genotype</th>\n",
       "    </tr>\n",
       "  </thead>\n",
       "  <tbody>\n",
       "    <tr>\n",
       "      <th>0</th>\n",
       "      <td>35280960</td>\n",
       "      <td>KDR_assay</td>\n",
       "      <td>21-May-2018</td>\n",
       "      <td>V1023G</td>\n",
       "      <td>NaN</td>\n",
       "    </tr>\n",
       "    <tr>\n",
       "      <th>1</th>\n",
       "      <td>35280960</td>\n",
       "      <td>KDR_assay</td>\n",
       "      <td>21-May-2018</td>\n",
       "      <td>F1565C</td>\n",
       "      <td>NaN</td>\n",
       "    </tr>\n",
       "    <tr>\n",
       "      <th>2</th>\n",
       "      <td>35280960</td>\n",
       "      <td>KDR_assay</td>\n",
       "      <td>21-May-2018</td>\n",
       "      <td>S996P</td>\n",
       "      <td>NaN</td>\n",
       "    </tr>\n",
       "    <tr>\n",
       "      <th>3</th>\n",
       "      <td>35510511</td>\n",
       "      <td>KDR_assay</td>\n",
       "      <td>15-Jan-2018</td>\n",
       "      <td>NaN</td>\n",
       "      <td>NaN</td>\n",
       "    </tr>\n",
       "    <tr>\n",
       "      <th>4</th>\n",
       "      <td>36614300</td>\n",
       "      <td>KDR_assay</td>\n",
       "      <td>21-May-2018</td>\n",
       "      <td>V1023G</td>\n",
       "      <td>TT</td>\n",
       "    </tr>\n",
       "  </tbody>\n",
       "</table>\n",
       "</div>"
      ],
      "text/plain": [
       "   asset_id assay_name date_current_update resistance_mutation  \\\n",
       "0  35280960  KDR_assay         21-May-2018              V1023G   \n",
       "1  35280960  KDR_assay         21-May-2018              F1565C   \n",
       "2  35280960  KDR_assay         21-May-2018               S996P   \n",
       "3  35510511  KDR_assay         15-Jan-2018                 NaN   \n",
       "4  36614300  KDR_assay         21-May-2018              V1023G   \n",
       "\n",
       "  resistance_genotype  \n",
       "0                 NaN  \n",
       "1                 NaN  \n",
       "2                 NaN  \n",
       "3                 NaN  \n",
       "4                  TT  "
      ]
     },
     "execution_count": 45,
     "metadata": {},
     "output_type": "execute_result"
    }
   ],
   "source": [
    "kdr_assay_metadata_df = pd.DataFrame([x for x in assay_list if x[\"assay_name\"] == \"KDR_assay\"])\n",
    "kdr_assay_metadata_df.head()"
   ]
  },
  {
   "cell_type": "code",
   "execution_count": 46,
   "metadata": {
    "ExecuteTime": {
     "end_time": "2018-09-12T04:08:24.225774Z",
     "start_time": "2018-09-12T04:08:24.198262Z"
    }
   },
   "outputs": [
    {
     "data": {
      "text/html": [
       "<div>\n",
       "<style scoped>\n",
       "    .dataframe tbody tr th:only-of-type {\n",
       "        vertical-align: middle;\n",
       "    }\n",
       "\n",
       "    .dataframe tbody tr th {\n",
       "        vertical-align: top;\n",
       "    }\n",
       "\n",
       "    .dataframe thead th {\n",
       "        text-align: right;\n",
       "    }\n",
       "</style>\n",
       "<table border=\"1\" class=\"dataframe\">\n",
       "  <thead>\n",
       "    <tr style=\"text-align: right;\">\n",
       "      <th></th>\n",
       "      <th>asset_id</th>\n",
       "      <th>assay_name</th>\n",
       "      <th>date_current_update</th>\n",
       "      <th>wolbachia_infection_assay</th>\n",
       "      <th>wolbachia_strain</th>\n",
       "      <th>infection_status</th>\n",
       "    </tr>\n",
       "  </thead>\n",
       "  <tbody>\n",
       "    <tr>\n",
       "      <th>0</th>\n",
       "      <td>35280960</td>\n",
       "      <td>wolbachia_assay</td>\n",
       "      <td>21-May-2018</td>\n",
       "      <td>Ronald's Lightcycler PCR assay for wMel; see L...</td>\n",
       "      <td>wMel</td>\n",
       "      <td>NaN</td>\n",
       "    </tr>\n",
       "    <tr>\n",
       "      <th>1</th>\n",
       "      <td>35510511</td>\n",
       "      <td>wolbachia_assay</td>\n",
       "      <td>15-Jan-2018</td>\n",
       "      <td>Ronald's Lightcycler PCR assay for wMel; see L...</td>\n",
       "      <td>wMel</td>\n",
       "      <td>uninfected</td>\n",
       "    </tr>\n",
       "    <tr>\n",
       "      <th>2</th>\n",
       "      <td>35510512</td>\n",
       "      <td>wolbachia_assay</td>\n",
       "      <td>15-Jan-2018</td>\n",
       "      <td>Ronald's Lightcycler PCR assay for wMel; see L...</td>\n",
       "      <td>wMel</td>\n",
       "      <td>no result</td>\n",
       "    </tr>\n",
       "    <tr>\n",
       "      <th>3</th>\n",
       "      <td>35510513</td>\n",
       "      <td>wolbachia_assay</td>\n",
       "      <td>15-Jan-2018</td>\n",
       "      <td>Ronald's Lightcycler PCR assay for wMel; see L...</td>\n",
       "      <td>wMel</td>\n",
       "      <td>no result</td>\n",
       "    </tr>\n",
       "    <tr>\n",
       "      <th>4</th>\n",
       "      <td>35510514</td>\n",
       "      <td>wolbachia_assay</td>\n",
       "      <td>15-Jan-2018</td>\n",
       "      <td>Ronald's Lightcycler PCR assay for wMel; see L...</td>\n",
       "      <td>wMel</td>\n",
       "      <td>infected</td>\n",
       "    </tr>\n",
       "  </tbody>\n",
       "</table>\n",
       "</div>"
      ],
      "text/plain": [
       "   asset_id       assay_name date_current_update  \\\n",
       "0  35280960  wolbachia_assay         21-May-2018   \n",
       "1  35510511  wolbachia_assay         15-Jan-2018   \n",
       "2  35510512  wolbachia_assay         15-Jan-2018   \n",
       "3  35510513  wolbachia_assay         15-Jan-2018   \n",
       "4  35510514  wolbachia_assay         15-Jan-2018   \n",
       "\n",
       "                           wolbachia_infection_assay wolbachia_strain  \\\n",
       "0  Ronald's Lightcycler PCR assay for wMel; see L...             wMel   \n",
       "1  Ronald's Lightcycler PCR assay for wMel; see L...             wMel   \n",
       "2  Ronald's Lightcycler PCR assay for wMel; see L...             wMel   \n",
       "3  Ronald's Lightcycler PCR assay for wMel; see L...             wMel   \n",
       "4  Ronald's Lightcycler PCR assay for wMel; see L...             wMel   \n",
       "\n",
       "  infection_status  \n",
       "0              NaN  \n",
       "1       uninfected  \n",
       "2        no result  \n",
       "3        no result  \n",
       "4         infected  "
      ]
     },
     "execution_count": 46,
     "metadata": {},
     "output_type": "execute_result"
    }
   ],
   "source": [
    "wolbachia_assay_metadata_df = pd.DataFrame([x for x in assay_list if x[\"assay_name\"] == \"wolbachia_assay\"])\n",
    "wolbachia_assay_metadata_df.head()"
   ]
  },
  {
   "cell_type": "markdown",
   "metadata": {},
   "source": [
    "-----\n",
    "\n",
    "# Get library archive size from data dataframe\n",
    "\n",
    "Combine library dataframe and data dataframe to a single dataframe"
   ]
  },
  {
   "cell_type": "code",
   "execution_count": 47,
   "metadata": {
    "ExecuteTime": {
     "end_time": "2018-09-12T04:08:25.350448Z",
     "start_time": "2018-09-12T04:08:25.329548Z"
    }
   },
   "outputs": [
    {
     "data": {
      "text/html": [
       "<div>\n",
       "<style scoped>\n",
       "    .dataframe tbody tr th:only-of-type {\n",
       "        vertical-align: middle;\n",
       "    }\n",
       "\n",
       "    .dataframe tbody tr th {\n",
       "        vertical-align: top;\n",
       "    }\n",
       "\n",
       "    .dataframe thead th {\n",
       "        text-align: right;\n",
       "    }\n",
       "</style>\n",
       "<table border=\"1\" class=\"dataframe\">\n",
       "  <thead>\n",
       "    <tr style=\"text-align: right;\">\n",
       "      <th></th>\n",
       "      <th>asset_id</th>\n",
       "      <th>asset_name</th>\n",
       "      <th>full_path</th>\n",
       "      <th>approx_size</th>\n",
       "      <th>size_in_bytes</th>\n",
       "    </tr>\n",
       "  </thead>\n",
       "  <tbody>\n",
       "    <tr>\n",
       "      <th>38</th>\n",
       "      <td>37125593</td>\n",
       "      <td>QA_first_inc.tar</td>\n",
       "      <td>/projects/proj-hoffmann_data-1128.4.49/data/QA...</td>\n",
       "      <td>13.073 GB</td>\n",
       "      <td>13072970752</td>\n",
       "    </tr>\n",
       "    <tr>\n",
       "      <th>39</th>\n",
       "      <td>37125601</td>\n",
       "      <td>braz_indo_viet_OLD.tar</td>\n",
       "      <td>/projects/proj-hoffmann_data-1128.4.49/data/br...</td>\n",
       "      <td>25.512 GB</td>\n",
       "      <td>25511974400</td>\n",
       "    </tr>\n",
       "    <tr>\n",
       "      <th>40</th>\n",
       "      <td>38749551</td>\n",
       "      <td>brazil_K_OLD.tar</td>\n",
       "      <td>/projects/proj-hoffmann_data-1128.4.49/data/br...</td>\n",
       "      <td>30.162 GB</td>\n",
       "      <td>30162212352</td>\n",
       "    </tr>\n",
       "    <tr>\n",
       "      <th>41</th>\n",
       "      <td>39350581</td>\n",
       "      <td>yang_albo_2018.tar</td>\n",
       "      <td>/projects/proj-hoffmann_data-1128.4.49/data/ya...</td>\n",
       "      <td>41.582 GB</td>\n",
       "      <td>41582463732</td>\n",
       "    </tr>\n",
       "    <tr>\n",
       "      <th>42</th>\n",
       "      <td>39350622</td>\n",
       "      <td>tom_albo_2018.tar</td>\n",
       "      <td>/projects/proj-hoffmann_data-1128.4.49/data/to...</td>\n",
       "      <td>41.796 GB</td>\n",
       "      <td>41795581992</td>\n",
       "    </tr>\n",
       "  </tbody>\n",
       "</table>\n",
       "</div>"
      ],
      "text/plain": [
       "    asset_id              asset_name  \\\n",
       "38  37125593        QA_first_inc.tar   \n",
       "39  37125601  braz_indo_viet_OLD.tar   \n",
       "40  38749551        brazil_K_OLD.tar   \n",
       "41  39350581      yang_albo_2018.tar   \n",
       "42  39350622       tom_albo_2018.tar   \n",
       "\n",
       "                                            full_path approx_size  \\\n",
       "38  /projects/proj-hoffmann_data-1128.4.49/data/QA...   13.073 GB   \n",
       "39  /projects/proj-hoffmann_data-1128.4.49/data/br...   25.512 GB   \n",
       "40  /projects/proj-hoffmann_data-1128.4.49/data/br...   30.162 GB   \n",
       "41  /projects/proj-hoffmann_data-1128.4.49/data/ya...   41.582 GB   \n",
       "42  /projects/proj-hoffmann_data-1128.4.49/data/to...   41.796 GB   \n",
       "\n",
       "   size_in_bytes  \n",
       "38   13072970752  \n",
       "39   25511974400  \n",
       "40   30162212352  \n",
       "41   41582463732  \n",
       "42   41795581992  "
      ]
     },
     "execution_count": 47,
     "metadata": {},
     "output_type": "execute_result"
    }
   ],
   "source": [
    "data_df.tail()"
   ]
  },
  {
   "cell_type": "code",
   "execution_count": 48,
   "metadata": {
    "ExecuteTime": {
     "end_time": "2018-09-12T04:08:25.966808Z",
     "start_time": "2018-09-12T04:08:25.927781Z"
    }
   },
   "outputs": [
    {
     "data": {
      "text/html": [
       "<div>\n",
       "<style scoped>\n",
       "    .dataframe tbody tr th:only-of-type {\n",
       "        vertical-align: middle;\n",
       "    }\n",
       "\n",
       "    .dataframe tbody tr th {\n",
       "        vertical-align: top;\n",
       "    }\n",
       "\n",
       "    .dataframe thead th {\n",
       "        text-align: right;\n",
       "    }\n",
       "</style>\n",
       "<table border=\"1\" class=\"dataframe\">\n",
       "  <thead>\n",
       "    <tr style=\"text-align: right;\">\n",
       "      <th></th>\n",
       "      <th>asset_id</th>\n",
       "      <th>asset_name</th>\n",
       "      <th>full_path</th>\n",
       "      <th>bp_sequencing</th>\n",
       "      <th>common_name_species1</th>\n",
       "      <th>common_name_species2</th>\n",
       "      <th>date_current_update</th>\n",
       "      <th>date_sequencing_completion</th>\n",
       "      <th>flowcell_id</th>\n",
       "      <th>library_description</th>\n",
       "      <th>...</th>\n",
       "      <th>raw_sequence_filename</th>\n",
       "      <th>raw_sequence_storage1</th>\n",
       "      <th>raw_sequence_storage2</th>\n",
       "      <th>scientific_name_species1</th>\n",
       "      <th>scientific_name_species2</th>\n",
       "      <th>sequencing_facility</th>\n",
       "      <th>sequencing_quote_number</th>\n",
       "      <th>size_select_high</th>\n",
       "      <th>size_select_low</th>\n",
       "      <th>stage_at</th>\n",
       "    </tr>\n",
       "  </thead>\n",
       "  <tbody>\n",
       "    <tr>\n",
       "      <th>24</th>\n",
       "      <td>39084575</td>\n",
       "      <td>QA_library8_INC_TW_CY</td>\n",
       "      <td>/projects/proj-hoffmann_data-1128.4.49/librari...</td>\n",
       "      <td>NaN</td>\n",
       "      <td>Yellow Fever Mosquito</td>\n",
       "      <td>NaN</td>\n",
       "      <td>21-Aug-2018</td>\n",
       "      <td>12-Apr-2017</td>\n",
       "      <td>HHGG7BBXX</td>\n",
       "      <td>Quarantine individuals. From Australia:Perth, ...</td>\n",
       "      <td>...</td>\n",
       "      <td>QA_library8_INC_TW_CY</td>\n",
       "      <td>Stored on the Hoffmann mediaflux project: proj...</td>\n",
       "      <td>Stored on the Hoffmann lab hard drive, Bio21 i...</td>\n",
       "      <td>Aedes aegypti aegypti</td>\n",
       "      <td>NaN</td>\n",
       "      <td>MHTP</td>\n",
       "      <td>QACCGM0605</td>\n",
       "      <td>NaN</td>\n",
       "      <td>NaN</td>\n",
       "      <td>Sequencing completed</td>\n",
       "    </tr>\n",
       "    <tr>\n",
       "      <th>25</th>\n",
       "      <td>39084578</td>\n",
       "      <td>QA_library9_albo_INC_DPS_BKK</td>\n",
       "      <td>/projects/proj-hoffmann_data-1128.4.49/librari...</td>\n",
       "      <td>NaN</td>\n",
       "      <td>Yellow Fever Mosquito</td>\n",
       "      <td>Asian Tiger Mosquito</td>\n",
       "      <td>21-Aug-2018</td>\n",
       "      <td>27-Aug-2017</td>\n",
       "      <td>HLKNTBBXX</td>\n",
       "      <td>Quarantine individuals. From Australia:Perth, ...</td>\n",
       "      <td>...</td>\n",
       "      <td>QA_library9_albo_INC_DPS_BKK</td>\n",
       "      <td>Stored on the Hoffmann mediaflux project: proj...</td>\n",
       "      <td>Stored on the Hoffmann lab hard drive, Bio21 i...</td>\n",
       "      <td>Aedes aegypti aegypti</td>\n",
       "      <td>Aedes albopictus</td>\n",
       "      <td>MHTP</td>\n",
       "      <td>QACCGM0651</td>\n",
       "      <td>NaN</td>\n",
       "      <td>NaN</td>\n",
       "      <td>Sequencing completed</td>\n",
       "    </tr>\n",
       "    <tr>\n",
       "      <th>26</th>\n",
       "      <td>39084580</td>\n",
       "      <td>QA_first_inc</td>\n",
       "      <td>/projects/proj-hoffmann_data-1128.4.49/librari...</td>\n",
       "      <td>NaN</td>\n",
       "      <td>Yellow Fever Mosquito</td>\n",
       "      <td>NaN</td>\n",
       "      <td>21-Aug-2018</td>\n",
       "      <td>NaN</td>\n",
       "      <td>NaN</td>\n",
       "      <td>First library of quarantine individuals. Incur...</td>\n",
       "      <td>...</td>\n",
       "      <td>QA-gyp_S1_L001_R1_001.fastq | QA-gyp_S1_L001_R...</td>\n",
       "      <td>Stored on the Hoffmann mediaflux project: proj...</td>\n",
       "      <td>Stored on the Hoffmann lab hard drive, Bio21 i...</td>\n",
       "      <td>Aedes aegypti aegypti</td>\n",
       "      <td>NaN</td>\n",
       "      <td>other</td>\n",
       "      <td>NaN</td>\n",
       "      <td>NaN</td>\n",
       "      <td>NaN</td>\n",
       "      <td>Sequencing completed</td>\n",
       "    </tr>\n",
       "    <tr>\n",
       "      <th>27</th>\n",
       "      <td>39350113</td>\n",
       "      <td>sngp_OLD1</td>\n",
       "      <td>/projects/proj-hoffmann_data-1128.4.49/librari...</td>\n",
       "      <td>NaN</td>\n",
       "      <td>Yellow Fever Mosquito</td>\n",
       "      <td>NaN</td>\n",
       "      <td>31-Aug-2018</td>\n",
       "      <td>NaN</td>\n",
       "      <td>NaN</td>\n",
       "      <td>SNGP_OLD2 has the same individuals</td>\n",
       "      <td>...</td>\n",
       "      <td>SNGPlib_S1_L001_R1_001.fastq | SNGPlib_S1_L001...</td>\n",
       "      <td>Stored on the Hoffmann mediaflux project: proj...</td>\n",
       "      <td>Stored on the Hoffmann lab hard drive, Bio21 i...</td>\n",
       "      <td>Aedes aegypti aegypti</td>\n",
       "      <td>NaN</td>\n",
       "      <td>other</td>\n",
       "      <td>NaN</td>\n",
       "      <td>NaN</td>\n",
       "      <td>NaN</td>\n",
       "      <td>Sequencing completed</td>\n",
       "    </tr>\n",
       "    <tr>\n",
       "      <th>28</th>\n",
       "      <td>39350115</td>\n",
       "      <td>sngp_OLD2</td>\n",
       "      <td>/projects/proj-hoffmann_data-1128.4.49/librari...</td>\n",
       "      <td>NaN</td>\n",
       "      <td>Yellow Fever Mosquito</td>\n",
       "      <td>NaN</td>\n",
       "      <td>31-Aug-2018</td>\n",
       "      <td>NaN</td>\n",
       "      <td>NaN</td>\n",
       "      <td>sngp_OLD1 has same individuals</td>\n",
       "      <td>...</td>\n",
       "      <td>SNGPlib_S1_L002_R1_001.fastq | SNGPlib_S1_L002...</td>\n",
       "      <td>Stored on the Hoffmann mediaflux project: proj...</td>\n",
       "      <td>Stored on the Hoffmann lab hard drive, Bio21 i...</td>\n",
       "      <td>Aedes aegypti aegypti</td>\n",
       "      <td>NaN</td>\n",
       "      <td>unsure</td>\n",
       "      <td>NaN</td>\n",
       "      <td>NaN</td>\n",
       "      <td>NaN</td>\n",
       "      <td>Sequencing completed</td>\n",
       "    </tr>\n",
       "  </tbody>\n",
       "</table>\n",
       "<p>5 rows × 32 columns</p>\n",
       "</div>"
      ],
      "text/plain": [
       "    asset_id                    asset_name  \\\n",
       "24  39084575         QA_library8_INC_TW_CY   \n",
       "25  39084578  QA_library9_albo_INC_DPS_BKK   \n",
       "26  39084580                  QA_first_inc   \n",
       "27  39350113                     sngp_OLD1   \n",
       "28  39350115                     sngp_OLD2   \n",
       "\n",
       "                                            full_path bp_sequencing  \\\n",
       "24  /projects/proj-hoffmann_data-1128.4.49/librari...           NaN   \n",
       "25  /projects/proj-hoffmann_data-1128.4.49/librari...           NaN   \n",
       "26  /projects/proj-hoffmann_data-1128.4.49/librari...           NaN   \n",
       "27  /projects/proj-hoffmann_data-1128.4.49/librari...           NaN   \n",
       "28  /projects/proj-hoffmann_data-1128.4.49/librari...           NaN   \n",
       "\n",
       "     common_name_species1  common_name_species2 date_current_update  \\\n",
       "24  Yellow Fever Mosquito                   NaN         21-Aug-2018   \n",
       "25  Yellow Fever Mosquito  Asian Tiger Mosquito         21-Aug-2018   \n",
       "26  Yellow Fever Mosquito                   NaN         21-Aug-2018   \n",
       "27  Yellow Fever Mosquito                   NaN         31-Aug-2018   \n",
       "28  Yellow Fever Mosquito                   NaN         31-Aug-2018   \n",
       "\n",
       "   date_sequencing_completion flowcell_id  \\\n",
       "24                12-Apr-2017   HHGG7BBXX   \n",
       "25                27-Aug-2017   HLKNTBBXX   \n",
       "26                        NaN         NaN   \n",
       "27                        NaN         NaN   \n",
       "28                        NaN         NaN   \n",
       "\n",
       "                                  library_description          ...           \\\n",
       "24  Quarantine individuals. From Australia:Perth, ...          ...            \n",
       "25  Quarantine individuals. From Australia:Perth, ...          ...            \n",
       "26  First library of quarantine individuals. Incur...          ...            \n",
       "27                 SNGP_OLD2 has the same individuals          ...            \n",
       "28                     sngp_OLD1 has same individuals          ...            \n",
       "\n",
       "                                raw_sequence_filename  \\\n",
       "24                              QA_library8_INC_TW_CY   \n",
       "25                       QA_library9_albo_INC_DPS_BKK   \n",
       "26  QA-gyp_S1_L001_R1_001.fastq | QA-gyp_S1_L001_R...   \n",
       "27  SNGPlib_S1_L001_R1_001.fastq | SNGPlib_S1_L001...   \n",
       "28  SNGPlib_S1_L002_R1_001.fastq | SNGPlib_S1_L002...   \n",
       "\n",
       "                                raw_sequence_storage1  \\\n",
       "24  Stored on the Hoffmann mediaflux project: proj...   \n",
       "25  Stored on the Hoffmann mediaflux project: proj...   \n",
       "26  Stored on the Hoffmann mediaflux project: proj...   \n",
       "27  Stored on the Hoffmann mediaflux project: proj...   \n",
       "28  Stored on the Hoffmann mediaflux project: proj...   \n",
       "\n",
       "                                raw_sequence_storage2  \\\n",
       "24  Stored on the Hoffmann lab hard drive, Bio21 i...   \n",
       "25  Stored on the Hoffmann lab hard drive, Bio21 i...   \n",
       "26  Stored on the Hoffmann lab hard drive, Bio21 i...   \n",
       "27  Stored on the Hoffmann lab hard drive, Bio21 i...   \n",
       "28  Stored on the Hoffmann lab hard drive, Bio21 i...   \n",
       "\n",
       "   scientific_name_species1 scientific_name_species2 sequencing_facility  \\\n",
       "24    Aedes aegypti aegypti                      NaN                MHTP   \n",
       "25    Aedes aegypti aegypti         Aedes albopictus                MHTP   \n",
       "26    Aedes aegypti aegypti                      NaN               other   \n",
       "27    Aedes aegypti aegypti                      NaN               other   \n",
       "28    Aedes aegypti aegypti                      NaN              unsure   \n",
       "\n",
       "   sequencing_quote_number size_select_high size_select_low  \\\n",
       "24              QACCGM0605              NaN             NaN   \n",
       "25              QACCGM0651              NaN             NaN   \n",
       "26                     NaN              NaN             NaN   \n",
       "27                     NaN              NaN             NaN   \n",
       "28                     NaN              NaN             NaN   \n",
       "\n",
       "                stage_at  \n",
       "24  Sequencing completed  \n",
       "25  Sequencing completed  \n",
       "26  Sequencing completed  \n",
       "27  Sequencing completed  \n",
       "28  Sequencing completed  \n",
       "\n",
       "[5 rows x 32 columns]"
      ]
     },
     "execution_count": 48,
     "metadata": {},
     "output_type": "execute_result"
    }
   ],
   "source": [
    "libraries_df.tail()"
   ]
  },
  {
   "cell_type": "code",
   "execution_count": 49,
   "metadata": {
    "ExecuteTime": {
     "end_time": "2018-09-12T04:08:26.456225Z",
     "start_time": "2018-09-12T04:08:26.450134Z"
    }
   },
   "outputs": [],
   "source": [
    "# Copy data_df and rename columns\n",
    "tmp = data_df.copy()\n",
    "tmp.columns = [x if re.search(\"size\", x) else \"data_{}\".format(x) for x in tmp.columns]"
   ]
  },
  {
   "cell_type": "code",
   "execution_count": 50,
   "metadata": {
    "ExecuteTime": {
     "end_time": "2018-09-12T04:08:26.999877Z",
     "start_time": "2018-09-12T04:08:26.994463Z"
    }
   },
   "outputs": [],
   "source": [
    "tmp[\"asset_name\"] = [re.sub(\".zip$\", \"\", x) for x in tmp[\"data_asset_name\"]]"
   ]
  },
  {
   "cell_type": "code",
   "execution_count": 51,
   "metadata": {
    "ExecuteTime": {
     "end_time": "2018-09-12T04:08:27.490401Z",
     "start_time": "2018-09-12T04:08:27.470658Z"
    }
   },
   "outputs": [
    {
     "data": {
      "text/html": [
       "<div>\n",
       "<style scoped>\n",
       "    .dataframe tbody tr th:only-of-type {\n",
       "        vertical-align: middle;\n",
       "    }\n",
       "\n",
       "    .dataframe tbody tr th {\n",
       "        vertical-align: top;\n",
       "    }\n",
       "\n",
       "    .dataframe thead th {\n",
       "        text-align: right;\n",
       "    }\n",
       "</style>\n",
       "<table border=\"1\" class=\"dataframe\">\n",
       "  <thead>\n",
       "    <tr style=\"text-align: right;\">\n",
       "      <th></th>\n",
       "      <th>data_asset_id</th>\n",
       "      <th>data_asset_name</th>\n",
       "      <th>data_full_path</th>\n",
       "      <th>approx_size</th>\n",
       "      <th>size_in_bytes</th>\n",
       "      <th>asset_name</th>\n",
       "    </tr>\n",
       "  </thead>\n",
       "  <tbody>\n",
       "    <tr>\n",
       "      <th>0</th>\n",
       "      <td>35512059</td>\n",
       "      <td>P4_CA5YJANXX.zip</td>\n",
       "      <td>/projects/proj-hoffmann_data-1128.4.49/data/P4...</td>\n",
       "      <td>28.992 GB</td>\n",
       "      <td>28992107988</td>\n",
       "      <td>P4_CA5YJANXX</td>\n",
       "    </tr>\n",
       "    <tr>\n",
       "      <th>1</th>\n",
       "      <td>35512420</td>\n",
       "      <td>P5_CA5YJANXX.zip</td>\n",
       "      <td>/projects/proj-hoffmann_data-1128.4.49/data/P5...</td>\n",
       "      <td>28.337 GB</td>\n",
       "      <td>28336907055</td>\n",
       "      <td>P5_CA5YJANXX</td>\n",
       "    </tr>\n",
       "    <tr>\n",
       "      <th>2</th>\n",
       "      <td>35515752</td>\n",
       "      <td>P6_CA5YJANXX.zip</td>\n",
       "      <td>/projects/proj-hoffmann_data-1128.4.49/data/P6...</td>\n",
       "      <td>27.79 GB</td>\n",
       "      <td>27790225800</td>\n",
       "      <td>P6_CA5YJANXX</td>\n",
       "    </tr>\n",
       "    <tr>\n",
       "      <th>3</th>\n",
       "      <td>35516931</td>\n",
       "      <td>QA_library9_albo_INC_DPS_BKK.zip</td>\n",
       "      <td>/projects/proj-hoffmann_data-1128.4.49/data/QA...</td>\n",
       "      <td>30.134 GB</td>\n",
       "      <td>30133670228</td>\n",
       "      <td>QA_library9_albo_INC_DPS_BKK</td>\n",
       "    </tr>\n",
       "    <tr>\n",
       "      <th>4</th>\n",
       "      <td>35535007</td>\n",
       "      <td>CairnsL1.zip</td>\n",
       "      <td>/projects/proj-hoffmann_data-1128.4.49/data/Ca...</td>\n",
       "      <td>33.758 GB</td>\n",
       "      <td>33757722857</td>\n",
       "      <td>CairnsL1</td>\n",
       "    </tr>\n",
       "  </tbody>\n",
       "</table>\n",
       "</div>"
      ],
      "text/plain": [
       "  data_asset_id                   data_asset_name  \\\n",
       "0      35512059                  P4_CA5YJANXX.zip   \n",
       "1      35512420                  P5_CA5YJANXX.zip   \n",
       "2      35515752                  P6_CA5YJANXX.zip   \n",
       "3      35516931  QA_library9_albo_INC_DPS_BKK.zip   \n",
       "4      35535007                      CairnsL1.zip   \n",
       "\n",
       "                                      data_full_path approx_size  \\\n",
       "0  /projects/proj-hoffmann_data-1128.4.49/data/P4...   28.992 GB   \n",
       "1  /projects/proj-hoffmann_data-1128.4.49/data/P5...   28.337 GB   \n",
       "2  /projects/proj-hoffmann_data-1128.4.49/data/P6...    27.79 GB   \n",
       "3  /projects/proj-hoffmann_data-1128.4.49/data/QA...   30.134 GB   \n",
       "4  /projects/proj-hoffmann_data-1128.4.49/data/Ca...   33.758 GB   \n",
       "\n",
       "  size_in_bytes                    asset_name  \n",
       "0   28992107988                  P4_CA5YJANXX  \n",
       "1   28336907055                  P5_CA5YJANXX  \n",
       "2   27790225800                  P6_CA5YJANXX  \n",
       "3   30133670228  QA_library9_albo_INC_DPS_BKK  \n",
       "4   33757722857                      CairnsL1  "
      ]
     },
     "execution_count": 51,
     "metadata": {},
     "output_type": "execute_result"
    }
   ],
   "source": [
    "tmp.head()"
   ]
  },
  {
   "cell_type": "code",
   "execution_count": 52,
   "metadata": {
    "ExecuteTime": {
     "end_time": "2018-09-12T04:08:27.970173Z",
     "start_time": "2018-09-12T04:08:27.956919Z"
    }
   },
   "outputs": [],
   "source": [
    "# Merge with library_df\n",
    "data_libraries_df = pd.merge(left=libraries_df, right=tmp, on=\"asset_name\", how=\"outer\")"
   ]
  },
  {
   "cell_type": "markdown",
   "metadata": {},
   "source": [
    "-----\n",
    "\n",
    "# Output to file\n",
    "\n",
    "Write dataframes to files."
   ]
  },
  {
   "cell_type": "markdown",
   "metadata": {},
   "source": [
    "## Save to tsv"
   ]
  },
  {
   "cell_type": "code",
   "execution_count": 53,
   "metadata": {
    "ExecuteTime": {
     "end_time": "2018-09-12T04:08:29.442352Z",
     "start_time": "2018-09-12T04:08:29.434358Z"
    }
   },
   "outputs": [],
   "source": [
    "data_libraries_df.to_csv(\"output/data_libraries_{}.tsv\".format(date), index=False, sep=\"\\t\", na_rep=\"NA\")"
   ]
  },
  {
   "cell_type": "code",
   "execution_count": 54,
   "metadata": {
    "ExecuteTime": {
     "end_time": "2018-09-12T04:08:29.943613Z",
     "start_time": "2018-09-12T04:08:29.911735Z"
    }
   },
   "outputs": [],
   "source": [
    "individuals_metadata_df.to_csv(\"output/individuals_{}.tsv\".format(date), index=False, sep=\"\\t\", na_rep=\"NA\")"
   ]
  },
  {
   "cell_type": "code",
   "execution_count": 55,
   "metadata": {
    "ExecuteTime": {
     "end_time": "2018-09-12T04:08:30.398663Z",
     "start_time": "2018-09-12T04:08:30.384549Z"
    }
   },
   "outputs": [],
   "source": [
    "kdr_assay_metadata_df.to_csv(\"output/kdr_assays_{}.tsv\".format(date), index=False, sep=\"\\t\", na_rep=\"NA\")"
   ]
  },
  {
   "cell_type": "code",
   "execution_count": 56,
   "metadata": {
    "ExecuteTime": {
     "end_time": "2018-09-12T04:08:31.195979Z",
     "start_time": "2018-09-12T04:08:31.187416Z"
    }
   },
   "outputs": [],
   "source": [
    "wolbachia_assay_metadata_df.to_csv(\"output/wolbachia_assays_{}.tsv\".format(date), index=False, sep=\"\\t\", na_rep=\"NA\")"
   ]
  },
  {
   "cell_type": "markdown",
   "metadata": {},
   "source": [
    "## Save to xlsx"
   ]
  },
  {
   "cell_type": "code",
   "execution_count": 57,
   "metadata": {
    "ExecuteTime": {
     "end_time": "2018-09-12T04:08:32.546481Z",
     "start_time": "2018-09-12T04:08:32.007686Z"
    }
   },
   "outputs": [],
   "source": [
    "writer = pd.ExcelWriter(\"output/mediaflux_output_{}.xlsx\".format(date))"
   ]
  },
  {
   "cell_type": "code",
   "execution_count": 58,
   "metadata": {
    "ExecuteTime": {
     "end_time": "2018-09-12T04:08:32.626748Z",
     "start_time": "2018-09-12T04:08:32.548939Z"
    }
   },
   "outputs": [],
   "source": [
    "data_libraries_df.to_excel(writer, \"data_libraries\", index=False, na_rep=\"NA\")"
   ]
  },
  {
   "cell_type": "code",
   "execution_count": 59,
   "metadata": {
    "ExecuteTime": {
     "end_time": "2018-09-12T04:08:34.027992Z",
     "start_time": "2018-09-12T04:08:33.286107Z"
    }
   },
   "outputs": [],
   "source": [
    "individuals_metadata_df.to_excel(writer, \"individuals\", index=False)"
   ]
  },
  {
   "cell_type": "code",
   "execution_count": 60,
   "metadata": {
    "ExecuteTime": {
     "end_time": "2018-09-12T04:08:34.758632Z",
     "start_time": "2018-09-12T04:08:34.538326Z"
    }
   },
   "outputs": [],
   "source": [
    "kdr_assay_metadata_df.to_excel(writer, \"kdr_assays\", index=False)"
   ]
  },
  {
   "cell_type": "code",
   "execution_count": 61,
   "metadata": {
    "ExecuteTime": {
     "end_time": "2018-09-12T04:08:35.008654Z",
     "start_time": "2018-09-12T04:08:34.972784Z"
    }
   },
   "outputs": [],
   "source": [
    "wolbachia_assay_metadata_df.to_excel(writer, \"wolbachia_assays\", index=False)"
   ]
  },
  {
   "cell_type": "code",
   "execution_count": 62,
   "metadata": {
    "ExecuteTime": {
     "end_time": "2018-09-12T04:08:37.548163Z",
     "start_time": "2018-09-12T04:08:35.706083Z"
    }
   },
   "outputs": [],
   "source": [
    "writer.save()\n",
    "writer.close()"
   ]
  },
  {
   "cell_type": "markdown",
   "metadata": {
    "ExecuteTime": {
     "end_time": "2018-05-30T00:56:54.182654Z",
     "start_time": "2018-05-30T00:56:53.653960Z"
    }
   },
   "source": [
    "-----\n",
    "\n",
    "# Save query cache"
   ]
  },
  {
   "cell_type": "code",
   "execution_count": 63,
   "metadata": {
    "ExecuteTime": {
     "end_time": "2018-09-12T04:08:43.678160Z",
     "start_time": "2018-09-12T04:08:38.609944Z"
    }
   },
   "outputs": [],
   "source": [
    "with open(\"cache_{}.pkl\".format(date), \"wb\") as f:\n",
    "    logging.info(\"Saving query cache.\")\n",
    "    pickle.dump(query_cache, f, pickle.HIGHEST_PROTOCOL)"
   ]
  },
  {
   "cell_type": "markdown",
   "metadata": {
    "collapsed": true
   },
   "source": [
    "-----\n",
    "\n",
    "# Close connection to Mediaflux"
   ]
  },
  {
   "cell_type": "code",
   "execution_count": 64,
   "metadata": {
    "ExecuteTime": {
     "end_time": "2018-09-12T04:08:45.126627Z",
     "start_time": "2018-09-12T04:08:45.071876Z"
    }
   },
   "outputs": [],
   "source": [
    "logging.info(\"Closing connection to mediaflux.\")\n",
    "con.close()"
   ]
  },
  {
   "cell_type": "code",
   "execution_count": null,
   "metadata": {
    "collapsed": true
   },
   "outputs": [],
   "source": []
  }
 ],
 "metadata": {
  "kernelspec": {
   "display_name": "Python 2",
   "language": "python",
   "name": "python2"
  },
  "language_info": {
   "codemirror_mode": {
    "name": "ipython",
    "version": 2
   },
   "file_extension": ".py",
   "mimetype": "text/x-python",
   "name": "python",
   "nbconvert_exporter": "python",
   "pygments_lexer": "ipython2",
   "version": "2.7.13"
  },
  "toc": {
   "nav_menu": {},
   "number_sections": true,
   "sideBar": false,
   "skip_h1_title": false,
   "title_cell": "Table of Contents",
   "title_sidebar": "Contents",
   "toc_cell": true,
   "toc_position": {
    "height": "300px",
    "left": "1050px",
    "top": "136.5px",
    "width": "302px"
   },
   "toc_section_display": true,
   "toc_window_display": true
  }
 },
 "nbformat": 4,
 "nbformat_minor": 2
}
